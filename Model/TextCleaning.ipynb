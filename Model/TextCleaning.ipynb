{
  "cells": [
    {
      "cell_type": "code",
      "execution_count": 1,
      "metadata": {
        "id": "F70i7bwAh3eT"
      },
      "outputs": [],
      "source": [
        "import pandas as pd"
      ]
    },
    {
      "cell_type": "code",
      "execution_count": 2,
      "metadata": {
        "id": "9iOY21r6iRH8"
      },
      "outputs": [
        {
          "data": {
            "text/html": [
              "<div>\n",
              "<style scoped>\n",
              "    .dataframe tbody tr th:only-of-type {\n",
              "        vertical-align: middle;\n",
              "    }\n",
              "\n",
              "    .dataframe tbody tr th {\n",
              "        vertical-align: top;\n",
              "    }\n",
              "\n",
              "    .dataframe thead th {\n",
              "        text-align: right;\n",
              "    }\n",
              "</style>\n",
              "<table border=\"1\" class=\"dataframe\">\n",
              "  <thead>\n",
              "    <tr style=\"text-align: right;\">\n",
              "      <th></th>\n",
              "      <th>link</th>\n",
              "      <th>title</th>\n",
              "      <th>time</th>\n",
              "      <th>text</th>\n",
              "    </tr>\n",
              "  </thead>\n",
              "  <tbody>\n",
              "    <tr>\n",
              "      <th>0</th>\n",
              "      <td>https://hanoi.fpt.edu.vn/mua-he-ruc-ro-chuong-...</td>\n",
              "      <td>MÙA HÈ RỰC RỠ – CHƯƠNG TRÌNH TIẾNG ANH CHUYÊN ...</td>\n",
              "      <td>2023-05-22T14:31:00+07:00</td>\n",
              "      <td>Hè này, các bạn sinh viên Đại học FPT Hà Nội c...</td>\n",
              "    </tr>\n",
              "    <tr>\n",
              "      <th>1</th>\n",
              "      <td>https://hanoi.fpt.edu.vn/gap-go-giang-vien-dai...</td>\n",
              "      <td>GẶP GỠ GIẢNG VIÊN ĐẠI HỌC FPT GIÀNH HUY CHƯƠNG...</td>\n",
              "      <td>2023-05-20T15:45:37+07:00</td>\n",
              "      <td>GẶP GỠ GIẢNG VIÊN ĐẠI HỌC FPT GIÀNH HUY CHƯƠNG...</td>\n",
              "    </tr>\n",
              "    <tr>\n",
              "      <th>2</th>\n",
              "      <td>https://hanoi.fpt.edu.vn/fes-sportlight-6-lang...</td>\n",
              "      <td>FES-SPORTLIGHT #6 – LẮNG NGHE CHIA SẺ VÀ GIAO ...</td>\n",
              "      <td>2023-05-25T11:23:39+07:00</td>\n",
              "      <td>FES-SPORTLIGHT #6 – LẮNG NGHE CHIA SẺ VÀ GIAO ...</td>\n",
              "    </tr>\n",
              "    <tr>\n",
              "      <th>3</th>\n",
              "      <td>https://hanoi.fpt.edu.vn/nhom-sinh-vien-dai-ho...</td>\n",
              "      <td>Nhóm sinh viên Đại học FPT phát triển sản phẩm...</td>\n",
              "      <td>2023-05-20T10:26:54+07:00</td>\n",
              "      <td>Nhóm sinh viên Đại học FPT phát triển sản phẩm...</td>\n",
              "    </tr>\n",
              "    <tr>\n",
              "      <th>4</th>\n",
              "      <td>https://hanoi.fpt.edu.vn/nhung-loi-the-khi-so-...</td>\n",
              "      <td>NHỮNG LỢI THẾ KHI SỞ HỮU IELTS 6.0 TRỞ LÊN TẠI...</td>\n",
              "      <td>2023-05-22T15:17:41+07:00</td>\n",
              "      <td>NHỮNG LỢI THẾ KHI SỞ HỮU IELTS 6.0 TRỞ LÊN TẠI...</td>\n",
              "    </tr>\n",
              "  </tbody>\n",
              "</table>\n",
              "</div>"
            ],
            "text/plain": [
              "                                                link   \n",
              "0  https://hanoi.fpt.edu.vn/mua-he-ruc-ro-chuong-...  \\\n",
              "1  https://hanoi.fpt.edu.vn/gap-go-giang-vien-dai...   \n",
              "2  https://hanoi.fpt.edu.vn/fes-sportlight-6-lang...   \n",
              "3  https://hanoi.fpt.edu.vn/nhom-sinh-vien-dai-ho...   \n",
              "4  https://hanoi.fpt.edu.vn/nhung-loi-the-khi-so-...   \n",
              "\n",
              "                                               title   \n",
              "0  MÙA HÈ RỰC RỠ – CHƯƠNG TRÌNH TIẾNG ANH CHUYÊN ...  \\\n",
              "1  GẶP GỠ GIẢNG VIÊN ĐẠI HỌC FPT GIÀNH HUY CHƯƠNG...   \n",
              "2  FES-SPORTLIGHT #6 – LẮNG NGHE CHIA SẺ VÀ GIAO ...   \n",
              "3  Nhóm sinh viên Đại học FPT phát triển sản phẩm...   \n",
              "4  NHỮNG LỢI THẾ KHI SỞ HỮU IELTS 6.0 TRỞ LÊN TẠI...   \n",
              "\n",
              "                        time   \n",
              "0  2023-05-22T14:31:00+07:00  \\\n",
              "1  2023-05-20T15:45:37+07:00   \n",
              "2  2023-05-25T11:23:39+07:00   \n",
              "3  2023-05-20T10:26:54+07:00   \n",
              "4  2023-05-22T15:17:41+07:00   \n",
              "\n",
              "                                                text  \n",
              "0  Hè này, các bạn sinh viên Đại học FPT Hà Nội c...  \n",
              "1  GẶP GỠ GIẢNG VIÊN ĐẠI HỌC FPT GIÀNH HUY CHƯƠNG...  \n",
              "2  FES-SPORTLIGHT #6 – LẮNG NGHE CHIA SẺ VÀ GIAO ...  \n",
              "3  Nhóm sinh viên Đại học FPT phát triển sản phẩm...  \n",
              "4  NHỮNG LỢI THẾ KHI SỞ HỮU IELTS 6.0 TRỞ LÊN TẠI...  "
            ]
          },
          "execution_count": 2,
          "metadata": {},
          "output_type": "execute_result"
        }
      ],
      "source": [
        "### Read csv\n",
        "df = pd.read_csv(\"./data/news_text_25_5.csv\", delimiter=\",\")\n",
        "# df.drop(index=df.index[0], axis=0, inplace=True)\n",
        "df = df.drop('Unnamed: 0', axis=1)\n",
        "df.head()"
      ]
    },
    {
      "cell_type": "code",
      "execution_count": 3,
      "metadata": {
        "id": "37TVEBDr0cN3"
      },
      "outputs": [
        {
          "name": "stdout",
          "output_type": "stream",
          "text": [
            "Cell value at 1 for column text : GẶP GỠ GIẢNG VIÊN ĐẠI HỌC FPT GIÀNH HUY CHƯƠNG VÀNG TẠI GIẢI MUAY THẾ GIỚI\n",
            "Vượt qua hơn 3.000 VĐV đến từ 112 quốc gia và vùng lãnh thổ, thầy Nguyễn Văn Yên – giảng viên bộ môn Vovinam tại Đại học FPT đã xuất sắc mang về hai tấm huy chương danh giá cho đội tuyển Việt Nam.\n",
            "Ngày 12/5, tại giải đấu IFMA Senior World được đăng cai bởi Liên đoàn Hiệp hội Muaythai Quốc tế. Giải đấu quy tụ sự tham gia tranh tài của hơn 3.000 VĐV đến từ 112 quốc gia và vùng lãnh thổ và được đăng cai bởi IFMA – Liên đoàn Hiệp hội Muaythai Quốc tế từ ngày 3/5 – 13/5/2023 trên quê hương của môn võ này.\n",
            "Tại xứ Chùa Vàng, Thầy Nguyễn Văn Yên – giảng viên bộ môn Voivinam tại Đại học FPT đã xuất sắc mang về Huy chương vàng nội dung Waikru “Đơn Nam” và Huy chương đồng nội dung MaiMuay “Đôi Nam”. Đây là niềm vinh dự vào tự hào không chỉ của Trường Đại học FPT mà còn là của người dân Việt Nam.\n",
            "Cùng lắng nghe những chia sẻ của thầy Yên sau khi giải đấu kết thúc nhé!\n",
            "Xin chúc mừng những thành tích xuất sắc của thầy tại giải đấu IFMA Senior World Championships 2023. Điều này có ý nghĩa như thế nào với cá nhân thầy?\n",
            "Hơn 11 năm thi đấu thể thao thành đạt tích cao với 10 lần vô địch quốc gia và các thành tích lớn nhỏ trong đối kháng, đây là lần đầu tiên mình tham dự nội dung biểu diễn Waikru “Đơn Nam”. IFMA Senior World Championships 2023 là giải đấu lớn nhất mình từng tham dự và cũng là một giải đấu thành công nhất của mình.\n",
            "Ngoài giành được hai tấm huy chương danh giá, thầy có kỉ niệm đặc biệt nào với mùa giải năm nay không?\n",
            "Vào vòng tuyển chọn 16 nước mạnh nhất, mình nhận thấy bản thân có thế mạnh là sức mạnh, tốc độ, sự mềm dẻo, thần thái và tác phong. Tuy nhiên sau khi công bố kết quả, mình rất sock khi xếp ở vị trí 15/16 nước. Chính điều này là động lực vô cùng to lớn để mình phải cố gắng gấp nhiều lần.\n",
            "Sau vòng đấu, mình đã nghiên cứu lại bài thi của các nước top đầu đặc biệt là Thailand cũng như trao đổi lại với một số chuyên gia người Thái. Lúc đó mới nhận ra đã thực hiện sai một phần nội dung trong thi đấu. Ngay lập tức mình đã có sự điều chỉnh, tuy nhiên thời gian còn lại quá ngắn nên mình chỉ có thể sửa được một chút nhỏ. Ở vòng tiếp theo, số điểm mình đạt được đã được cải thiện rất nhiều số với vòng trước, từ 6.7 điểm và tới vòng này là 7.7.\n",
            "Trong quá trình tập luyện cho vòng thi đấu, thầy có gặp phải khó khăn gì không?\n",
            "Khó khăn lớn nhất có lẽ là quỹ thời gian. Mình đi dạy ở Đại học FPT từ sáng tới 4h chiều, sau đó lại gấp rút luyện tập tới 6h tối và tiếp tục hoạt động các CLB võ của trường. Hôm nào sớm thì 9-10h tối mới về tới nhà. Thời gian dành cho gia đình cũng ít hơn. Về tới nhà thì con gái đã đi ngủ, sáng lại đi sớm lúc con còn chưa dậy.\n",
            "Đâu là bí quyết giúp thầy thành công tại mùa giải năm nay?\n",
            "Bí quyết của mình đó là đặt mục tiêu cho bản thân, tự tin, có hậu phương vững chắc là đặc biệt phải thật kiên trì.\n",
            "Thầy đánh giá về giải đấu năm nay như thế nào?\n",
            "Giải đấu năm nay là một giải trọng điểm nhằm kỷ niệm 30 năm thành lập liên đoàn Muay Thai quốc tế. Quy mô cực lớn khi có hơn 100 nước tham dự và có tới gần 3000 VĐV tham gia. Mình thực sự choáng ngợp trước sự hoành tráng và chất lượng của giải.\n",
            "Ngoài ra, để giành được huy chương vàng này, mình muốn gửi lời cảm ơn rất lớn tới tất cả mọi người. Cảm ơn Đội Tuyển Việt Nam, Đội tuyển Muay Công An Nhân Dân, Tổ chức Giáo dục FPT, các thầy cô, ban huấn luyện các đội tuyển. Ngoài ra còn có gia đình và anh em bạn bè đã có sự hỗ trợ, động viên về nhiều mặt để mình có thể có được thành công vừa qua.\n",
            "Sau khi mùa giải kết thúc, thầy có đặt mục tiêu gì khác không?\n",
            "Mục tiêu và là định hướng lâu dài của mình trong tương lai là phát triển bản thân, phấn đấu giành thêm nhiều thành tích cống hiến cho thể thao Việt Nam và cho Tổ chức Giáo dục FPT. Trước mắt, trong tháng 11 năm nay mình dự kiến sẽ tham gia giải Vô địch châu Á với nội dung Boran biểu diễn MuayThai.\n",
            "Xin chúc mừng thầy Nguyễn Văn Yên và đoàn Việt Nam đã có những thành tích cực kỳ ấn tượng trong giải đấu. Mong rằng thầy và toàn đội tuyển sẽ luôn giữ vững phong độ, phát huy hết khả năng và gặt hái được nhiều thành công hơn nữa!\n"
          ]
        }
      ],
      "source": [
        "# dropna row\n",
        "# get a cell value\n",
        "index = 1\n",
        "col = \"text\"\n",
        "cell_val = df.iloc[index][col]\n",
        "print (\"Cell value at\", index, \"for column\", col, \":\", cell_val)"
      ]
    },
    {
      "cell_type": "code",
      "execution_count": 4,
      "metadata": {
        "id": "HIuAX24P5vVS"
      },
      "outputs": [],
      "source": [
        "with open('test.txt', 'w') as f:\n",
        "  f.write(cell_val)\n",
        "  f.close()"
      ]
    },
    {
      "cell_type": "markdown",
      "metadata": {
        "id": "alHBkT260s9n"
      },
      "source": [
        "Hàm chuẩn hóa văn bản tiếng Việt với 5 bước\n",
        "- Chuẩn hóa unicode \n",
        "- Chuẩn hóa dấu câu tiếng Việt\n",
        "- Tách từ tiếng Việt\n",
        "- Chuyển chữ viết thường\n",
        "- Chuẩn hóa câu"
      ]
    },
    {
      "cell_type": "code",
      "execution_count": 5,
      "metadata": {
        "id": "DOci7bWp0pEP"
      },
      "outputs": [],
      "source": [
        "import unicodedata\n",
        "import regex as re\n",
        "from pyvi import ViTokenizer, ViPosTagger"
      ]
    },
    {
      "cell_type": "code",
      "execution_count": 6,
      "metadata": {
        "id": "31ug-J4v11Ru"
      },
      "outputs": [],
      "source": [
        "bang_nguyen_am= [['a', 'à', 'á', 'ả', 'ã', 'ạ', 'a'],\n",
        "                  ['ă', 'ằ', 'ắ', 'ẳ', 'ẵ', 'ặ', 'aw'],\n",
        "                  ['â', 'ầ', 'ấ', 'ẩ', 'ẫ', 'ậ', 'aa'],\n",
        "                  ['e', 'è', 'é', 'ẻ', 'ẽ', 'ẹ', 'e'],\n",
        "                  ['ê', 'ề', 'ế', 'ể', 'ễ', 'ệ', 'ee'],\n",
        "                  ['i', 'ì', 'í', 'ỉ', 'ĩ', 'ị', 'i'],\n",
        "                  ['o', 'ò', 'ó', 'ỏ', 'õ', 'ọ', 'o'],\n",
        "                  ['ô', 'ồ', 'ố', 'ổ', 'ỗ', 'ộ', 'oo'],\n",
        "                  ['ơ', 'ờ', 'ớ', 'ở', 'ỡ', 'ợ', 'ow'],\n",
        "                  ['u', 'ù', 'ú', 'ủ', 'ũ', 'ụ', 'u'],\n",
        "                  ['ư', 'ừ', 'ứ', 'ử', 'ữ', 'ự', 'uw'],\n",
        "                  ['y', 'ỳ', 'ý', 'ỷ', 'ỹ', 'ỵ', 'y']]\n",
        "\n",
        "bang_ky_tu_dau = ['', 'f', 's', 'r', 'x', 'j']"
      ]
    },
    {
      "cell_type": "code",
      "execution_count": 7,
      "metadata": {
        "id": "N-_IosO32fgM"
      },
      "outputs": [],
      "source": [
        "nguyen_am_to_ids = {}\n",
        "for i in range(len(bang_nguyen_am)):\n",
        "    for j in range(len(bang_nguyen_am[i]) - 1):\n",
        "        nguyen_am_to_ids[bang_nguyen_am[i][j]] = (i, j)"
      ]
    },
    {
      "cell_type": "markdown",
      "metadata": {
        "id": "FDxM7nyQ2ltb"
      },
      "source": [
        "Chuẩn hóa unicode\n",
        "\n",
        "Có 2 loại unicode : unicode tổ hơp và unicode dựng sẵn, điêu này dẫn tới việc 2 từ giống nhau sẽ bị coi là khác nhau \n",
        "\n",
        "Chuẩn hóa tất cả về 1 loại là unicode dựng sẵn"
      ]
    },
    {
      "cell_type": "code",
      "execution_count": 8,
      "metadata": {
        "id": "pGiaZJ5F2q6c"
      },
      "outputs": [],
      "source": [
        "def chuan_hoa_unicode(text):\n",
        "\ttext = unicodedata.normalize('NFC', text)\n",
        "\treturn text"
      ]
    },
    {
      "cell_type": "markdown",
      "metadata": {
        "id": "U2xq536f2skU"
      },
      "source": [
        "Có 2 kiểu gõ dấu ở Tiếng Việt, ví dụ như là : òa hoặc oà (ta gọi lần lượt là chuẩn 1 và 2). Mặc dù kiểu gõ chữ sau ít phổ biến hơn tuy nhiên vẫn cần phải chuẩn hóa tránh việc một số văn bản vẫn sử dụng kiểu gõ dấu thứ 2.\n"
      ]
    },
    {
      "cell_type": "code",
      "execution_count": 9,
      "metadata": {
        "id": "q_-NvEfd3C3M"
      },
      "outputs": [],
      "source": [
        "\"\"\"\n",
        "\tHàm này xử lý chuẩn hóa từng từ một, \n",
        "  sau khi chuẩn hóa từng từ thì sẽ chuân hóa từng câu sau \n",
        "\t\"\"\" \n",
        "def chuan_hoa_dau_tu_tieng_viet(word):\n",
        "    if not is_valid_vietnam_word(word):\n",
        "        return word\n",
        " \n",
        "    chars = list(word)\n",
        "    dau_cau = 0\n",
        "    nguyen_am_index = []\n",
        "    qu_or_gi = False\n",
        "    for index, char in enumerate(chars):\n",
        "        x, y = nguyen_am_to_ids.get(char, (-1, -1))\n",
        "        if x == -1:\n",
        "            continue\n",
        "        elif x == 9:  # check qu\n",
        "            if index != 0 and chars[index - 1] == 'q':\n",
        "                chars[index] = 'u'\n",
        "                qu_or_gi = True\n",
        "        elif x == 5:  # check gi\n",
        "            if index != 0 and chars[index - 1] == 'g':\n",
        "                chars[index] = 'i'\n",
        "                qu_or_gi = True\n",
        "        if y != 0:\n",
        "            dau_cau = y\n",
        "            chars[index] = bang_nguyen_am[x][0]\n",
        "        if not qu_or_gi or index != 1:\n",
        "            nguyen_am_index.append(index)\n",
        "    if len(nguyen_am_index) < 2:\n",
        "        if qu_or_gi:\n",
        "            if len(chars) == 2:\n",
        "                x, y = nguyen_am_to_ids.get(chars[1])\n",
        "                chars[1] = bang_nguyen_am[x][dau_cau]\n",
        "            else:\n",
        "                x, y = nguyen_am_to_ids.get(chars[2], (-1, -1))\n",
        "                if x != -1:\n",
        "                    chars[2] = bang_nguyen_am[x][dau_cau]\n",
        "                else:\n",
        "                    chars[1] = bang_nguyen_am[5][dau_cau] if chars[1] == 'i' else bang_nguyen_am[9][dau_cau]\n",
        "            return ''.join(chars)\n",
        "        return word\n",
        " \n",
        "    for index in nguyen_am_index:\n",
        "        x, y = nguyen_am_to_ids[chars[index]]\n",
        "        if x == 4 or x == 8:  # ê, ơ\n",
        "            chars[index] = bang_nguyen_am[x][dau_cau]\n",
        "            # for index2 in nguyen_am_index:\n",
        "            #     if index2 != index:\n",
        "            #         x, y = nguyen_am_to_ids[chars[index]]\n",
        "            #         chars[index2] = bang_nguyen_am[x][0]\n",
        "            return ''.join(chars)\n",
        " \n",
        "    if len(nguyen_am_index) == 2:\n",
        "        if nguyen_am_index[-1] == len(chars) - 1:\n",
        "            x, y = nguyen_am_to_ids[chars[nguyen_am_index[0]]]\n",
        "            chars[nguyen_am_index[0]] = bang_nguyen_am[x][dau_cau]\n",
        "            # x, y = nguyen_am_to_ids[chars[nguyen_am_index[1]]]\n",
        "            # chars[nguyen_am_index[1]] = bang_nguyen_am[x][0]\n",
        "        else:\n",
        "            # x, y = nguyen_am_to_ids[chars[nguyen_am_index[0]]]\n",
        "            # chars[nguyen_am_index[0]] = bang_nguyen_am[x][0]\n",
        "            x, y = nguyen_am_to_ids[chars[nguyen_am_index[1]]]\n",
        "            chars[nguyen_am_index[1]] = bang_nguyen_am[x][dau_cau]\n",
        "    else:\n",
        "        # x, y = nguyen_am_to_ids[chars[nguyen_am_index[0]]]\n",
        "        # chars[nguyen_am_index[0]] = bang_nguyen_am[x][0]\n",
        "        x, y = nguyen_am_to_ids[chars[nguyen_am_index[1]]]\n",
        "        chars[nguyen_am_index[1]] = bang_nguyen_am[x][dau_cau]\n",
        "        # x, y = nguyen_am_to_ids[chars[nguyen_am_index[2]]]\n",
        "        # chars[nguyen_am_index[2]] = bang_nguyen_am[x][0]\n",
        "    return ''.join(chars)"
      ]
    },
    {
      "cell_type": "code",
      "execution_count": 10,
      "metadata": {
        "id": "mYDwIQos3Hsk"
      },
      "outputs": [],
      "source": [
        "def is_valid_vietnam_word(word):\n",
        "    chars = list(word)\n",
        "    nguyen_am_index = -1\n",
        "    for index, char in enumerate(chars):\n",
        "        x, y = nguyen_am_to_ids.get(char, (-1, -1))\n",
        "        if x != -1:\n",
        "            if nguyen_am_index == -1:\n",
        "                nguyen_am_index = index\n",
        "            else:\n",
        "                if index - nguyen_am_index != 1:\n",
        "                    return False\n",
        "                nguyen_am_index = index\n",
        "    return True"
      ]
    },
    {
      "cell_type": "code",
      "execution_count": 11,
      "metadata": {
        "id": "jHQ-BroZ3JJU"
      },
      "outputs": [],
      "source": [
        "def chuan_hoa_dau_cau_tieng_viet(sentence):\n",
        "    \"\"\"\n",
        "        Chuyển câu tiếng việt về chuẩn gõ dấu kiểu cũ.\n",
        "        :param sentence:\n",
        "        :return:\n",
        "        \"\"\"\n",
        "    sentence = sentence.lower()\n",
        "    words = sentence.split()\n",
        "    for index, word in enumerate(words):\n",
        "        cw = re.sub(r'(^\\p{P}*)([p{L}.]*\\p{L}+)(\\p{P}*$)', r'\\1/\\2/\\3', word).split('/')\n",
        "        # print(cw)\n",
        "        if len(cw) == 3:\n",
        "            cw[1] = chuan_hoa_dau_tu_tieng_viet(cw[1])\n",
        "        words[index] = ''.join(cw)\n",
        "    return ' '.join(words)"
      ]
    },
    {
      "cell_type": "markdown",
      "metadata": {
        "id": "8RPBQbjlJZ8L"
      },
      "source": [
        "Tách từ tiếng việt, từ tiếng việt không giống như tiếng anh, tách từ tiếng anh ta chỉ cần tách bằng khoảng trắng\n",
        "\n",
        "Tuy nhiên từ tiếng Việt có cả từ đơn lẫn từ ghép nên tách từ tiêng Việt sẽ phúc tạp hơn \n",
        "\n"
      ]
    },
    {
      "cell_type": "code",
      "execution_count": 12,
      "metadata": {
        "id": "O0UEQvGr3V10"
      },
      "outputs": [],
      "source": [
        "def tach_tu_tieng_viet(text):\n",
        "\ttext = ViTokenizer.tokenize(text)\n",
        "\treturn text"
      ]
    },
    {
      "cell_type": "code",
      "execution_count": 13,
      "metadata": {
        "id": "vSmysVxu3ZuL"
      },
      "outputs": [],
      "source": [
        "# Đưa về chữ viết thường \n",
        "def chuyen_chu_thuong(text):\n",
        "\treturn text.lower()"
      ]
    },
    {
      "cell_type": "code",
      "execution_count": 14,
      "metadata": {
        "id": "FRrRY0QI3cVj"
      },
      "outputs": [],
      "source": [
        "# Xóa đi các dấu cách thừa, các từ không cần thiết cho việc phân loại vẳn bản \n",
        "def chuan_hoa_cau(text):\n",
        "\ttext = re.sub(r'[^\\s\\wáàảãạăắằẳẵặâấầẩẫậéèẻẽẹêếềểễệóòỏõọôốồổỗộơớờởỡợíìỉĩịúùủũụưứừửữựýỳỷỹỵđ_]',' ',text)\n",
        "\ttext = re.sub(r'\\s+', ' ', text).strip()\n",
        "\treturn text"
      ]
    },
    {
      "cell_type": "code",
      "execution_count": 15,
      "metadata": {
        "id": "BAYc1G7B3eAU"
      },
      "outputs": [],
      "source": [
        "def tien_xu_li(text):\n",
        "\ttext = chuan_hoa_unicode(text)\n",
        "\ttext = chuan_hoa_dau_cau_tieng_viet(text)\n",
        "\ttext = tach_tu_tieng_viet(text)\n",
        "\ttext = chuyen_chu_thuong(text)\n",
        "\ttext = chuan_hoa_cau(text)\n",
        "\n",
        "\treturn text"
      ]
    },
    {
      "cell_type": "code",
      "execution_count": 16,
      "metadata": {
        "colab": {
          "base_uri": "https://localhost:8080/"
        },
        "id": "0G0BUqHc2A9d",
        "outputId": "ef02dc20-c7a1-429b-b5fa-adabf707aca8"
      },
      "outputs": [
        {
          "name": "stdout",
          "output_type": "stream",
          "text": [
            "Ví dụ : \n",
            "\n",
            "gặp_gỡ giảng_viên đại_học fpt giành huy_chương vàng tại giải muay thế_giới vượt qua hơn 3 000 vđv đến từ 112 quốc_gia và vùng lãnh_thổ thầy nguyễn văn yên giảng_viên bộ_môn vovinam tại đại_học fpt đã xuất_sắc mang về hai tấm huy_chương danh_giá cho đội_tuyển việt_nam ngày 125 tại giải_đấu ifma senior world được đăng_cai bởi liên_đoàn hiệp_hội muaythai quốc_tế giải_đấu quy_tụ sự tham_gia tranh tài của hơn 3 000 vđv đến từ 112 quốc_gia và vùng lãnh_thổ và được đăng_cai bởi ifma liên_đoàn hiệp_hội muaythai quốc_tế từ ngày 35 1352023 trên quê_hương của môn võ này tại xứ chùa vàng thầy nguyễn văn yên giảng_viên bộ_môn voivinam tại đại_học fpt đã xuất_sắc mang về huy_chương vàng nội_dung waikru đơn nam và huy_chương đồng_nội_dung maimuay đôi nam đây là niềm vinh_dự vào tự_hào không chỉ của trường đại_học fpt mà còn là của người dân việt_nam cùng lắng_nghe những chia_sẻ của thầy yên sau khi giải_đấu kết_thúc nhé xin chúc_mừng những thành_tích xuất_sắc của thầy tại giải_đấu ifma senior world championships 2023 điều này có ý_nghĩa như thế_nào với cá_nhân thầy hơn 11 năm thi_đấu thể_thao thành_đạt tích cao với 10 lần vô_địch quốc_gia và các thành_tích lớn nhỏ trong đối_kháng đây là lần đầu_tiên mình tham_dự nội_dung biểu_diễn waikru đơn nam ifma senior world championships 2023 là giải_đấu lớn nhất mình từng tham_dự và cũng là một giải_đấu thành_công nhất của mình ngoài giành được hai tấm huy_chương danh_giá thầy có kỉ_niệm đặc_biệt nào với mùa giải năm nay không vào vòng tuyển_chọn 16 nước mạnh nhất mình nhận thấy bản_thân có thế mạnh là sức_mạnh tốc_độ sự mềm_dẻo thần_thái và tác_phong tuy_nhiên sau khi công_bố kết_quả mình rất sock khi xếp ở vị_trí 1516 nước chính điều này là động_lực vô_cùng to_lớn để mình phải cố_gắng gấp nhiều lần sau vòng_đấu mình đã nghiên_cứu lại bài thi của các nước top đầu đặc_biệt là thailand cũng như trao_đổi lại với một_số chuyên_gia người thái lúc đó mới nhận ra đã thực_hiện sai một phần nội_dung trong thi_đấu ngay lập_tức_mình đã có sự điều_chỉnh tuy_nhiên thời_gian còn lại quá ngắn nên mình chỉ có_thể sửa được một_chút nhỏ ở vòng tiếp_theo số điểm mình đạt được đã được cải_thiện rất nhiều số với vòng trước từ 6 7 điểm và tới vòng này là 7 7 trong quá_trình tập_luyện cho vòng thi_đấu thầy có gặp phải khó_khăn gì không khó_khăn lớn nhất có_lẽ là quỹ thời_gian mình đi dạy ở đại_học fpt từ sáng tới 4h chiều sau đó lại gấp_rút luyện_tập tới 6h tối và tiếp_tục hoạt_động các clb võ của trường hôm nào sớm thì 9 10h tối mới về tới nhà thời_gian dành cho gia_đình cũng ít hơn về tới nhà thì con_gái đã đi ngủ sáng lại đi sớm lúc con còn chưa dậy đâu là bí_quyết giúp thầy thành_công tại mùa giải năm nay bí_quyết của mình đó là đặt mục_tiêu cho bản_thân tự_tin có_hậu_phương vững_chắc là đặc_biệt phải thật kiên_trì thầy đánh_giá về giải_đấu năm nay như thế_nào giải_đấu năm nay là một giải trọng_điểm nhằm kỷ_niệm 30 năm thành_lập liên_đoàn muay thai quốc_tế quy_mô cực lớn khi có hơn 100 nước tham_dự và có tới gần 3000 vđv tham_gia mình thực_sự choáng_ngợp trước sự hoành_tráng và chất_lượng của giải ngoài_ra để giành được huy_chương vàng này mình muốn gửi lời cảm_ơn rất lớn tới tất_cả mọi người cảm_ơn đội_tuyển việt_nam đội_tuyển muay công_an nhân_dân tổ_chức giáo_dục fpt các thầy cô ban huấn_luyện các đội_tuyển ngoài_ra còn có gia_đình và anh_em bạn_bè đã có sự hỗ_trợ động_viên về nhiều mặt để mình có_thể có được thành_công vừa_qua sau khi mùa giải kết_thúc thầy có đặt mục_tiêu gì khác không mục_tiêu và là định_hướng lâu_dài của mình trong tương_lai là phát_triển bản_thân phấn_đấu giành thêm nhiều thành_tích cống_hiến cho thể_thao việt_nam và cho tổ_chức giáo_dục fpt trước_mắt trong tháng 11 năm nay mình dự_kiến sẽ tham_gia giải vô_địch châu á với nội_dung boran biểu_diễn muaythai xin chúc_mừng thầy nguyễn văn yên và đoàn việt_nam đã có những thành_tích_cực_kỳ ấn_tượng trong giải_đấu mong rằng thầy và toàn đội_tuyển sẽ luôn giữ vững phong_độ phát_huy hết khả_năng và gặt_hái được nhiều thành_công hơn nữa\n"
          ]
        }
      ],
      "source": [
        "if __name__ == \"__main__\":\n",
        "    file = open(\"test.txt\", \"r\", encoding=\"utf-8\")\n",
        "    data = file.read()\n",
        "    data = tien_xu_li(data)\n",
        "    print(\"Ví dụ : \\n\")\n",
        "    print(data)\n",
        "    with open('final.txt', 'w') as f:\n",
        "      f.write(data)\n",
        "      f.close()"
      ]
    },
    {
      "cell_type": "code",
      "execution_count": 17,
      "metadata": {
        "id": "uqNarDOh0iSd"
      },
      "outputs": [],
      "source": [
        "#read input file\n",
        "f = open(\"final.txt\", \"rt\")\n",
        "#read file contents to string\n",
        "data = f.read()\n",
        "#replace all occurrences of the required string\n",
        "data = data.replace('_', ' ')\n",
        "#close the input file\n",
        "f.close()\n",
        "#open the input file in write mode\n",
        "f = open(\"final.txt\", \"wt\")\n",
        "#overrite the input file with the resulting data\n",
        "f.write(data)\n",
        "#close the file\n",
        "f.close()"
      ]
    },
    {
      "cell_type": "markdown",
      "metadata": {
        "id": "05ZjiPEnGQBh"
      },
      "source": [
        "Remove Stopwords"
      ]
    },
    {
      "cell_type": "code",
      "execution_count": 18,
      "metadata": {
        "id": "7qIzVWVwGO-q"
      },
      "outputs": [
        {
          "ename": "FileNotFoundError",
          "evalue": "[Errno 2] No such file or directory: 'stopword.txt'",
          "output_type": "error",
          "traceback": [
            "\u001b[0;31m---------------------------------------------------------------------------\u001b[0m",
            "\u001b[0;31mFileNotFoundError\u001b[0m                         Traceback (most recent call last)",
            "Cell \u001b[0;32mIn[18], line 1\u001b[0m\n\u001b[0;32m----> 1\u001b[0m stopwords \u001b[39m=\u001b[39m \u001b[39mopen\u001b[39;49m(\u001b[39m'\u001b[39;49m\u001b[39mstopword.txt\u001b[39;49m\u001b[39m'\u001b[39;49m, \u001b[39m'\u001b[39;49m\u001b[39mr\u001b[39;49m\u001b[39m'\u001b[39;49m)\n\u001b[1;32m      2\u001b[0m stopwords_list \u001b[39m=\u001b[39m stopwords\u001b[39m.\u001b[39mread()\u001b[39m.\u001b[39msplit(\u001b[39m'\u001b[39m\u001b[39m\\n\u001b[39;00m\u001b[39m'\u001b[39m)\n\u001b[1;32m      3\u001b[0m final \u001b[39m=\u001b[39m \u001b[39mopen\u001b[39m(\u001b[39m'\u001b[39m\u001b[39mfinal.txt\u001b[39m\u001b[39m'\u001b[39m, \u001b[39m'\u001b[39m\u001b[39mr\u001b[39m\u001b[39m'\u001b[39m)\n",
            "File \u001b[0;32m~/anaconda3/envs/nlp/lib/python3.8/site-packages/IPython/core/interactiveshell.py:284\u001b[0m, in \u001b[0;36m_modified_open\u001b[0;34m(file, *args, **kwargs)\u001b[0m\n\u001b[1;32m    277\u001b[0m \u001b[39mif\u001b[39;00m file \u001b[39min\u001b[39;00m {\u001b[39m0\u001b[39m, \u001b[39m1\u001b[39m, \u001b[39m2\u001b[39m}:\n\u001b[1;32m    278\u001b[0m     \u001b[39mraise\u001b[39;00m \u001b[39mValueError\u001b[39;00m(\n\u001b[1;32m    279\u001b[0m         \u001b[39mf\u001b[39m\u001b[39m\"\u001b[39m\u001b[39mIPython won\u001b[39m\u001b[39m'\u001b[39m\u001b[39mt let you open fd=\u001b[39m\u001b[39m{\u001b[39;00mfile\u001b[39m}\u001b[39;00m\u001b[39m by default \u001b[39m\u001b[39m\"\u001b[39m\n\u001b[1;32m    280\u001b[0m         \u001b[39m\"\u001b[39m\u001b[39mas it is likely to crash IPython. If you know what you are doing, \u001b[39m\u001b[39m\"\u001b[39m\n\u001b[1;32m    281\u001b[0m         \u001b[39m\"\u001b[39m\u001b[39myou can use builtins\u001b[39m\u001b[39m'\u001b[39m\u001b[39m open.\u001b[39m\u001b[39m\"\u001b[39m\n\u001b[1;32m    282\u001b[0m     )\n\u001b[0;32m--> 284\u001b[0m \u001b[39mreturn\u001b[39;00m io_open(file, \u001b[39m*\u001b[39;49margs, \u001b[39m*\u001b[39;49m\u001b[39m*\u001b[39;49mkwargs)\n",
            "\u001b[0;31mFileNotFoundError\u001b[0m: [Errno 2] No such file or directory: 'stopword.txt'"
          ]
        }
      ],
      "source": [
        "stopwords = open('stopword.txt', 'r')\n",
        "stopwords_list = stopwords.read().split('\\n')\n",
        "final = open('final.txt', 'r')\n",
        "final = final.read().split()\n",
        "res = []\n",
        "for word in final:\n",
        "  if word not in stopwords_list:\n",
        "    res.append(word)\n",
        "\n",
        "res"
      ]
    }
  ],
  "metadata": {
    "colab": {
      "provenance": []
    },
    "kernelspec": {
      "display_name": "Python 3",
      "name": "python3"
    },
    "language_info": {
      "codemirror_mode": {
        "name": "ipython",
        "version": 3
      },
      "file_extension": ".py",
      "mimetype": "text/x-python",
      "name": "python",
      "nbconvert_exporter": "python",
      "pygments_lexer": "ipython3",
      "version": "3.8.16"
    }
  },
  "nbformat": 4,
  "nbformat_minor": 0
}
