{
 "cells": [
  {
   "cell_type": "code",
   "execution_count": 1,
   "metadata": {},
   "outputs": [],
   "source": [
    "import praw\n",
    "import os\n",
    "import pandas as pd\n",
    "import time\n",
    "from datetime import date, datetime"
   ]
  },
  {
   "cell_type": "code",
   "execution_count": 2,
   "metadata": {},
   "outputs": [],
   "source": [
    "def get_file_name():\n",
    "    today = date.today()\n",
    "    datestr = today.strftime(\"%d_%m\")\n",
    "    file_name = \"news_data_reddit_\" + datestr +\".csv\"\n",
    "    return file_name"
   ]
  },
  {
   "cell_type": "code",
   "execution_count": 3,
   "metadata": {},
   "outputs": [],
   "source": [
    "file_name = get_file_name()"
   ]
  },
  {
   "cell_type": "code",
   "execution_count": 4,
   "metadata": {},
   "outputs": [],
   "source": [
    "if not os.path.exists(os.path.join(\".\", file_name)):\n",
    "    news_data = pd.DataFrame(columns=[\"link\", \"title\", \"time\", \"text\"])\n",
    "    news_data.to_csv(os.path.join(\".\", file_name))\n",
    "else:\n",
    "    news_data = pd.read_csv(os.path.join(\".\", file_name), index_col=0)"
   ]
  },
  {
   "cell_type": "code",
   "execution_count": 5,
   "metadata": {},
   "outputs": [],
   "source": [
    "reddit = praw.Reddit(client_id='bQhCI4MPmudV33p2wvMAXw', \n",
    "                     client_secret='Bty-doeMRApIRNMWD7KMta_fiqFDcA', \n",
    "                     user_agent='WebScraping')"
   ]
  },
  {
   "cell_type": "code",
   "execution_count": 8,
   "metadata": {},
   "outputs": [],
   "source": [
    "sub = reddit.subreddit('all')\n",
    "# posts = sub.search('đại học fpt', limit=2)\n",
    "posts = sub.search('đại học fpt', limit=None)\n",
    "i = 0\n",
    "k = 0\n",
    "for post in posts:\n",
    "    # print(post.id)\n",
    "    # print(post.url)\n",
    "    # print(post.created)\n",
    "    # print(post.title)\n",
    "    # print(post.selftext)\n",
    "    link = post.url\n",
    "    title = post.title\n",
    "    created = datetime.fromtimestamp(post.created)\n",
    "    text = post.selftext\n",
    "    news_data.loc[len(news_data.index)] = [link, title, created, text]\n",
    "    time.sleep(1)\n",
    "    i += 1\n",
    "    if i == 100:\n",
    "        i = 0\n",
    "        k += 1\n",
    "        if k == 2:\n",
    "            break\n",
    "        time.sleep(30)"
   ]
  },
  {
   "cell_type": "code",
   "execution_count": 9,
   "metadata": {},
   "outputs": [],
   "source": [
    "news_data.to_csv(os.path.join(\".\", file_name))"
   ]
  }
 ],
 "metadata": {
  "kernelspec": {
   "display_name": "Python 3.9.16 ('namph')",
   "language": "python",
   "name": "python3"
  },
  "language_info": {
   "codemirror_mode": {
    "name": "ipython",
    "version": 3
   },
   "file_extension": ".py",
   "mimetype": "text/x-python",
   "name": "python",
   "nbconvert_exporter": "python",
   "pygments_lexer": "ipython3",
   "version": "3.9.16"
  },
  "orig_nbformat": 4,
  "vscode": {
   "interpreter": {
    "hash": "f3956098809fbecdb0cd9151aa3d96b93ad3c7565181a3f5ad9a456aaf113d5a"
   }
  }
 },
 "nbformat": 4,
 "nbformat_minor": 2
}
