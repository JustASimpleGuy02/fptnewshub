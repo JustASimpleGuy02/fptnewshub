{
 "cells": [
  {
   "cell_type": "code",
   "execution_count": 1,
   "metadata": {},
   "outputs": [],
   "source": [
    "from bs4 import BeautifulSoup\n",
    "import os\n",
    "import json\n",
    "import utils\n",
    "import pandas as pd"
   ]
  },
  {
   "cell_type": "code",
   "execution_count": 9,
   "metadata": {},
   "outputs": [],
   "source": [
    "data = pd.read_csv(os.path.join(\".\", \"test.csv\"), index_col=0)"
   ]
  },
  {
   "cell_type": "code",
   "execution_count": 13,
   "metadata": {},
   "outputs": [
    {
     "data": {
      "text/plain": [
       "(5, 1)"
      ]
     },
     "execution_count": 13,
     "metadata": {},
     "output_type": "execute_result"
    }
   ],
   "source": [
    "data.head()\n",
    "data.shape"
   ]
  },
  {
   "cell_type": "code",
   "execution_count": 18,
   "metadata": {},
   "outputs": [
    {
     "name": "stdout",
     "output_type": "stream",
     "text": [
      "Hè này, các bạn sinh viên Đại học FPT Hà Nội có cơ hội “nâng trình” tiếng Anh tại Philippines và Malaysia.\n",
      "Chương trình tiếng Anh 6 tại nước ngoài hot nhất xứ Hola – INTENSIVE ENGLISH dành riêng cho các bạn sinh viên đang học năm nhất tại Đại học FPT sẽ diễn ra vào tháng 7 – 8 tới đây. Nếu các FPTU-ers muốn thay đổi môi trường học tiếng Anh trước khi bước vào học chuyên ngành và muốn dắt túi thêm trải nghiệm, kỹ năng khi học tập và sinh sống tại nước ngoài thì đừng bỏ qua chương trình cực hấp dẫn này nhé.\n",
      "Tham gia INTENSIVE ENGLISH, các bạn sinh viên Đại học FPT sẽ có cơ hội trải nghiệm học tập ở nước ngoài với:\n",
      "Học phí chương trình tương đương với mức học phí TRS6 tại trường\n",
      "Chương trình học được xây dựng tối ưu trong vòng 1 tháng, tích hợp đầy đủ 4 kỹ năng với giảng viên bản xứ và các hoạt động trải nghiệm với sinh viên quốc tế.\n",
      "Có môi trường tự nhiên để luyện tập tiếng Anh mọi lúc mọi nơi.\n",
      "Có cơ hội du lịch Malaysia, Philippines, tăng cường hiểu biết văn hóa. Đây là bước đệm để các bạn bước chân ra khám phá thế giới.\n",
      "Và hàng ngàn lý do khác đang chờ các bạn sang tận nơi trải nghiệm nè. Đăng ký tham gia chương trình để vừa hoàn thành TRS6 vừa có cơ hội vi vu ở nước ngoài nha.\n",
      "THÔNG TIN CHI TIẾT VỀ CHƯƠNG TRÌNH:\n",
      "Đối tượng: Sinh viên đang học tiếng Anh Level 5 TRS5 hoặc các sinh viên có nhu cầu trau dồi kỹ năng tiếng Anh tại nước ngoài.\n",
      "Thời gian: 1 tháng, từ tháng 07 – tháng 08 năm 2023\n",
      "Địa điểm: Sinh viên chọn một trong những trường sau: Trường Universiti Teknologi PETRONAS (UTP), Malaysia; Trường Ateneo de Davao University (ADDU), Philippines; Trường University of Malaysia Sarawak (UNIMAS), Malaysia.\n"
     ]
    }
   ],
   "source": [
    "for i, row in data.iterrows():\n",
    "    link = row[\"link\"]\n",
    "    text = utils.crawl_news_text(link)\n",
    "    print(text)\n",
    "    break"
   ]
  },
  {
   "cell_type": "code",
   "execution_count": null,
   "metadata": {},
   "outputs": [],
   "source": []
  }
 ],
 "metadata": {
  "kernelspec": {
   "display_name": "Python 3.9.16 ('namph')",
   "language": "python",
   "name": "python3"
  },
  "language_info": {
   "codemirror_mode": {
    "name": "ipython",
    "version": 3
   },
   "file_extension": ".py",
   "mimetype": "text/x-python",
   "name": "python",
   "nbconvert_exporter": "python",
   "pygments_lexer": "ipython3",
   "version": "3.9.16"
  },
  "orig_nbformat": 4,
  "vscode": {
   "interpreter": {
    "hash": "f3956098809fbecdb0cd9151aa3d96b93ad3c7565181a3f5ad9a456aaf113d5a"
   }
  }
 },
 "nbformat": 4,
 "nbformat_minor": 2
}
