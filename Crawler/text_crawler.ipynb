{
 "cells": [
  {
   "cell_type": "code",
   "execution_count": 2,
   "metadata": {},
   "outputs": [],
   "source": [
    "from bs4 import BeautifulSoup\n",
    "import os\n",
    "import json\n",
    "import utils\n",
    "import pandas as pd\n",
    "from tqdm import tqdm"
   ]
  },
  {
   "cell_type": "code",
   "execution_count": 3,
   "metadata": {},
   "outputs": [],
   "source": [
    "# data = pd.read_csv(os.path.join(\".\", \"test.csv\"), index_col=0)\n",
    "data = pd.read_csv(os.path.join(\"../Link\", \"news_data_29_05.csv\"), index_col=False)\n",
    "# data = pd.read_csv(os.path.join(\".\", \"news_data_25_5.csv\"), index_col=0)"
   ]
  },
  {
   "cell_type": "code",
   "execution_count": 4,
   "metadata": {},
   "outputs": [
    {
     "data": {
      "text/plain": [
       "(7703, 2)"
      ]
     },
     "execution_count": 4,
     "metadata": {},
     "output_type": "execute_result"
    }
   ],
   "source": [
    "data.head()\n",
    "data.shape"
   ]
  },
  {
   "cell_type": "code",
   "execution_count": 5,
   "metadata": {},
   "outputs": [],
   "source": [
    "# new_df = pd.DataFrame(columns=[\"link\", \"title\", \"time\", \"text\"])\n",
    "new_df = pd.read_csv('news_text_31_5.csv')"
   ]
  },
  {
   "cell_type": "code",
   "execution_count": 6,
   "metadata": {},
   "outputs": [],
   "source": [
    "domain_time_map = json.load(open(\"domain_time_map.json\"))"
   ]
  },
  {
   "cell_type": "code",
   "execution_count": 7,
   "metadata": {},
   "outputs": [],
   "source": [
    "remove_col = 'Unnamed: 0'\n",
    "\n",
    "if remove_col in new_df.columns.to_list():\n",
    "    new_df.drop(columns=remove_col, inplace=True)"
   ]
  },
  {
   "cell_type": "code",
   "execution_count": 8,
   "metadata": {},
   "outputs": [
    {
     "data": {
      "text/plain": [
       "3008"
      ]
     },
     "execution_count": 8,
     "metadata": {},
     "output_type": "execute_result"
    }
   ],
   "source": [
    "len(new_df)"
   ]
  },
  {
   "cell_type": "code",
   "execution_count": 9,
   "metadata": {},
   "outputs": [
    {
     "name": "stderr",
     "output_type": "stream",
     "text": [
      "3308it [15:36,  1.13s/it]  "
     ]
    },
    {
     "name": "stdout",
     "output_type": "stream",
     "text": [
      "Current number of rows: 3308\n"
     ]
    },
    {
     "name": "stderr",
     "output_type": "stream",
     "text": [
      "3608it [24:45,  1.11s/it]"
     ]
    },
    {
     "name": "stdout",
     "output_type": "stream",
     "text": [
      "Current number of rows: 3608\n"
     ]
    },
    {
     "name": "stderr",
     "output_type": "stream",
     "text": [
      "3908it [44:53, 23.12s/it]"
     ]
    },
    {
     "name": "stdout",
     "output_type": "stream",
     "text": [
      "Current number of rows: 3908\n"
     ]
    },
    {
     "name": "stderr",
     "output_type": "stream",
     "text": [
      "4208it [49:56,  1.66s/it]"
     ]
    },
    {
     "name": "stdout",
     "output_type": "stream",
     "text": [
      "Current number of rows: 4208\n"
     ]
    },
    {
     "name": "stderr",
     "output_type": "stream",
     "text": [
      "4508it [53:32,  1.55s/it]"
     ]
    },
    {
     "name": "stdout",
     "output_type": "stream",
     "text": [
      "Current number of rows: 4508\n"
     ]
    },
    {
     "name": "stderr",
     "output_type": "stream",
     "text": [
      "4808it [56:49,  1.52s/it]"
     ]
    },
    {
     "name": "stdout",
     "output_type": "stream",
     "text": [
      "Current number of rows: 4808\n"
     ]
    },
    {
     "name": "stderr",
     "output_type": "stream",
     "text": [
      "5108it [59:48,  1.51s/it]"
     ]
    },
    {
     "name": "stdout",
     "output_type": "stream",
     "text": [
      "Current number of rows: 5108\n"
     ]
    },
    {
     "name": "stderr",
     "output_type": "stream",
     "text": [
      "5334it [1:02:04,  2.07it/s]"
     ]
    },
    {
     "name": "stdout",
     "output_type": "stream",
     "text": [
      "(\"URL couldn't be processed: %s\", 'https://cantho.fpt.edu.vn/gan-70-hoc-sinh-trong-doi-tuyen-du-thi-hoc-sinh-gioi-quoc-gia-2018-2019-tham-du-tap-huan-tai-dai-hoc-fpt-can-tho-2')\n"
     ]
    },
    {
     "name": "stderr",
     "output_type": "stream",
     "text": [
      "5408it [1:03:12,  1.60s/it]"
     ]
    },
    {
     "name": "stdout",
     "output_type": "stream",
     "text": [
      "Current number of rows: 5408\n"
     ]
    },
    {
     "name": "stderr",
     "output_type": "stream",
     "text": [
      "5708it [1:17:53,  4.35s/it]"
     ]
    },
    {
     "name": "stdout",
     "output_type": "stream",
     "text": [
      "Current number of rows: 5708\n"
     ]
    },
    {
     "name": "stderr",
     "output_type": "stream",
     "text": [
      "6008it [1:27:04,  1.22s/it]"
     ]
    },
    {
     "name": "stdout",
     "output_type": "stream",
     "text": [
      "Current number of rows: 6008\n"
     ]
    },
    {
     "name": "stderr",
     "output_type": "stream",
     "text": [
      "6308it [1:30:38,  1.93s/it]"
     ]
    },
    {
     "name": "stdout",
     "output_type": "stream",
     "text": [
      "Current number of rows: 6308\n"
     ]
    },
    {
     "name": "stderr",
     "output_type": "stream",
     "text": [
      "6608it [1:35:29,  1.47s/it]"
     ]
    },
    {
     "name": "stdout",
     "output_type": "stream",
     "text": [
      "Current number of rows: 6608\n"
     ]
    },
    {
     "name": "stderr",
     "output_type": "stream",
     "text": [
      "6759it [1:38:05,  1.33it/s]"
     ]
    },
    {
     "name": "stdout",
     "output_type": "stream",
     "text": [
      "(\"URL couldn't be processed: %s\", 'https://qnuni.fpt.edu.vn/tung-bung-ngay-hoc-open-day-dai-hoc-fpt')\n"
     ]
    },
    {
     "name": "stderr",
     "output_type": "stream",
     "text": [
      "6839it [1:39:26,  1.27it/s]"
     ]
    },
    {
     "name": "stdout",
     "output_type": "stream",
     "text": [
      "(\"URL couldn't be processed: %s\", 'https://qnuni.fpt.edu.vn/truong-dai-hoc-fpt-xet-tuyen-bang-hoc-ba-dot-1-den-het-ngay-315')\n"
     ]
    },
    {
     "name": "stderr",
     "output_type": "stream",
     "text": [
      "6908it [1:40:33,  1.37s/it]"
     ]
    },
    {
     "name": "stdout",
     "output_type": "stream",
     "text": [
      "Current number of rows: 6908\n"
     ]
    },
    {
     "name": "stderr",
     "output_type": "stream",
     "text": [
      "7172it [1:56:45,  1.44it/s] "
     ]
    },
    {
     "name": "stdout",
     "output_type": "stream",
     "text": [
      "(\"URL couldn't be processed: %s\", 'http://vdca.org.vn/News/Print/218')\n"
     ]
    },
    {
     "name": "stderr",
     "output_type": "stream",
     "text": [
      "7177it [1:56:47,  2.64it/s]"
     ]
    },
    {
     "name": "stdout",
     "output_type": "stream",
     "text": [
      "(\"URL couldn't be processed: %s\", 'https://vdca.org.vn/News/Print/209')\n"
     ]
    },
    {
     "name": "stderr",
     "output_type": "stream",
     "text": [
      "7182it [1:56:49,  2.83it/s]"
     ]
    },
    {
     "name": "stdout",
     "output_type": "stream",
     "text": [
      "(\"URL couldn't be processed: %s\", 'http://vdca.org.vn/News/Print/630')\n"
     ]
    },
    {
     "name": "stderr",
     "output_type": "stream",
     "text": [
      "7208it [1:57:13,  2.39s/it]"
     ]
    },
    {
     "name": "stdout",
     "output_type": "stream",
     "text": [
      "Current number of rows: 7208\n"
     ]
    },
    {
     "name": "stderr",
     "output_type": "stream",
     "text": [
      "7506it [2:07:35,  1.62s/it]"
     ]
    },
    {
     "name": "stdout",
     "output_type": "stream",
     "text": [
      "(\"URL couldn't be processed: %s\", 'https://www.yan.vn/emagazine/tieu-thu-hoc-ba-tieu-tien-gioi-kiem-tien-cang-gioi-hon-709.html')\n"
     ]
    },
    {
     "name": "stderr",
     "output_type": "stream",
     "text": [
      "7507it [2:07:36,  1.40s/it]"
     ]
    },
    {
     "name": "stdout",
     "output_type": "stream",
     "text": [
      "(\"URL couldn't be processed: %s\", 'https://www.yan.vn/emagazine/phim-viet-gio-vang-moi-it-cu-nhieu-693.html')\n",
      "(\"URL couldn't be processed: %s\", 'https://www.yan.vn/emagazine/tiktoker-win-vo-va-phuong-cham-song-thu-suc-nhieu-de-trai-nghiem-ban-than-50.html')\n"
     ]
    },
    {
     "name": "stderr",
     "output_type": "stream",
     "text": [
      "7508it [2:07:38,  1.39s/it]"
     ]
    },
    {
     "name": "stdout",
     "output_type": "stream",
     "text": [
      "Current number of rows: 7508\n"
     ]
    },
    {
     "name": "stderr",
     "output_type": "stream",
     "text": [
      "7509it [2:07:38,  1.13s/it]"
     ]
    },
    {
     "name": "stdout",
     "output_type": "stream",
     "text": [
      "(\"URL couldn't be processed: %s\", 'https://www.yan.vn/ao-am-ha-giang-hanh-trinh-chia-se-hoi-am-yeu-thuong-245926.html')\n"
     ]
    },
    {
     "name": "stderr",
     "output_type": "stream",
     "text": [
      "7510it [2:07:39,  1.06it/s]"
     ]
    },
    {
     "name": "stdout",
     "output_type": "stream",
     "text": [
      "(\"URL couldn't be processed: %s\", 'https://www.yan.vn/cau-be-5-tuoi-da-thanh-thao-3-ngoai-ngu-311211.html')\n"
     ]
    },
    {
     "name": "stderr",
     "output_type": "stream",
     "text": [
      "7511it [2:07:39,  1.26it/s]"
     ]
    },
    {
     "name": "stdout",
     "output_type": "stream",
     "text": [
      "(\"URL couldn't be processed: %s\", 'https://www.yan.vn/hoc-van-cua-nhung-streamer-noi-tieng-hang-dau-hien-nay-293546.html')\n"
     ]
    },
    {
     "name": "stderr",
     "output_type": "stream",
     "text": [
      "7512it [2:07:40,  1.50it/s]"
     ]
    },
    {
     "name": "stdout",
     "output_type": "stream",
     "text": [
      "(\"URL couldn't be processed: %s\", 'https://www.yan.vn/sinh-vien-dai-hoc-fpt-to-chuc-dem-nhac-indie-cuc-chat-199326.html')\n"
     ]
    },
    {
     "name": "stderr",
     "output_type": "stream",
     "text": [
      "7513it [2:07:40,  1.63it/s]"
     ]
    },
    {
     "name": "stdout",
     "output_type": "stream",
     "text": [
      "(\"URL couldn't be processed: %s\", 'https://www.yan.vn/top-24-nang-tho-miss-fptu-hanoi-2022-dep-hut-hon-trong-trang-phuc-bikini-goi-cam-315911.html')\n"
     ]
    },
    {
     "name": "stderr",
     "output_type": "stream",
     "text": [
      "7514it [2:07:40,  1.82it/s]"
     ]
    },
    {
     "name": "stdout",
     "output_type": "stream",
     "text": [
      "(\"URL couldn't be processed: %s\", 'https://www.yan.vn/binh-duong-hoa-toc-mo-rong-khu-vuc-phong-toa-o-thu-dau-mot-256869.html')\n"
     ]
    },
    {
     "name": "stderr",
     "output_type": "stream",
     "text": [
      "7515it [2:07:41,  1.91it/s]"
     ]
    },
    {
     "name": "stdout",
     "output_type": "stream",
     "text": [
      "(\"URL couldn't be processed: %s\", 'https://www.yan.vn/emagazine/noi-niem-tu-hao-viet-duoc-lan-toa-266.html')\n"
     ]
    },
    {
     "name": "stderr",
     "output_type": "stream",
     "text": [
      "7516it [2:07:41,  2.02it/s]"
     ]
    },
    {
     "name": "stdout",
     "output_type": "stream",
     "text": [
      "(\"URL couldn't be processed: %s\", 'https://www.yan.vn/nam-sinh-truong-fpt-gia-gai-chi-biet-thot-len-xinh-qua-181219.html')\n"
     ]
    },
    {
     "name": "stderr",
     "output_type": "stream",
     "text": [
      "7517it [2:07:42,  2.17it/s]"
     ]
    },
    {
     "name": "stdout",
     "output_type": "stream",
     "text": [
      "(\"URL couldn't be processed: %s\", 'https://www.yan.vn/simia-de-chorus-19-ngay-hoi-gay-quy-tu-thien-tai-dh-fpt-tphcm-195199.html')\n"
     ]
    },
    {
     "name": "stderr",
     "output_type": "stream",
     "text": [
      "7518it [2:07:43,  1.65it/s]"
     ]
    },
    {
     "name": "stdout",
     "output_type": "stream",
     "text": [
      "(\"URL couldn't be processed: %s\", 'https://www.yan.vn/ha-noi-dai-hoc-fpt-do-phong-toa-sinh-vien-tho-phao-ve-que-don-tet-257029.html')\n"
     ]
    },
    {
     "name": "stderr",
     "output_type": "stream",
     "text": [
      "7519it [2:07:43,  1.83it/s]"
     ]
    },
    {
     "name": "stdout",
     "output_type": "stream",
     "text": [
      "(\"URL couldn't be processed: %s\", 'https://www.yan.vn/ghe-tham-ky-tuc-xa-sang-chanh-co-102-cua-cac-truong-dh-o-viet-nam-278632.html')\n"
     ]
    },
    {
     "name": "stderr",
     "output_type": "stream",
     "text": [
      "7520it [2:07:43,  1.91it/s]"
     ]
    },
    {
     "name": "stdout",
     "output_type": "stream",
     "text": [
      "(\"URL couldn't be processed: %s\", 'https://www.yan.vn/dh-fpt-du-kien-chi-92-ty-dong-mua-vac-xin-ngua-covid19-cho-sinh-vien-258320.html')\n"
     ]
    },
    {
     "name": "stderr",
     "output_type": "stream",
     "text": [
      "7521it [2:07:44,  1.52it/s]"
     ]
    },
    {
     "name": "stdout",
     "output_type": "stream",
     "text": [
      "(\"URL couldn't be processed: %s\", 'https://www.yan.vn/emagazine/ngo-quy-dang-chang-trai-vang-olympic-toan-quoc-te-710.html')\n"
     ]
    },
    {
     "name": "stderr",
     "output_type": "stream",
     "text": [
      "7522it [2:07:45,  1.70it/s]"
     ]
    },
    {
     "name": "stdout",
     "output_type": "stream",
     "text": [
      "(\"URL couldn't be processed: %s\", 'https://www.yan.vn/nguyen-bach-diep-nu-ceo-huyen-thoai-cua-tap-doan-fpt-307627.html')\n"
     ]
    },
    {
     "name": "stderr",
     "output_type": "stream",
     "text": [
      "7523it [2:07:45,  1.75it/s]"
     ]
    },
    {
     "name": "stdout",
     "output_type": "stream",
     "text": [
      "(\"URL couldn't be processed: %s\", 'https://www.yan.vn/fpt-long-chau-gay-an-tuong-manh-voi-gan-300-duoc-si-nhan-chung-chi-cpe-tu-sanofi-304581.html')\n"
     ]
    },
    {
     "name": "stderr",
     "output_type": "stream",
     "text": [
      "7524it [2:07:46,  1.86it/s]"
     ]
    },
    {
     "name": "stdout",
     "output_type": "stream",
     "text": [
      "(\"URL couldn't be processed: %s\", 'https://www.yan.vn/sinh-vien-dai-hoc-fpt-tai-hien-tap-tuc-don-tet-truyen-thong-194329.html')\n"
     ]
    },
    {
     "name": "stderr",
     "output_type": "stream",
     "text": [
      "7525it [2:07:46,  1.98it/s]"
     ]
    },
    {
     "name": "stdout",
     "output_type": "stream",
     "text": [
      "(\"URL couldn't be processed: %s\", 'https://www.yan.vn/ha-noi-hoc-sinh-lop-2-duong-tinh-voi-covid19-ca-lop-phai-xet-nghiem-257849.html')\n"
     ]
    },
    {
     "name": "stderr",
     "output_type": "stream",
     "text": [
      "7526it [2:07:47,  2.13it/s]"
     ]
    },
    {
     "name": "stdout",
     "output_type": "stream",
     "text": [
      "(\"URL couldn't be processed: %s\", 'https://www.yan.vn/nam-sinh-quang-binh-xuat-sac-chinh-phuc-hoc-bong-hang-tram-trieu-dong-cua-dh-fpt-234285.html')\n"
     ]
    },
    {
     "name": "stderr",
     "output_type": "stream",
     "text": [
      "7527it [2:07:47,  2.17it/s]"
     ]
    },
    {
     "name": "stdout",
     "output_type": "stream",
     "text": [
      "(\"URL couldn't be processed: %s\", 'https://www.yan.vn/dat-len-ban-can-hoa-khoi-cac-truong-dai-hoc-noi-tieng-nhieu-hot-girl-258862.html')\n"
     ]
    },
    {
     "name": "stderr",
     "output_type": "stream",
     "text": [
      "7528it [2:07:48,  2.21it/s]"
     ]
    },
    {
     "name": "stdout",
     "output_type": "stream",
     "text": [
      "(\"URL couldn't be processed: %s\", 'https://www.yan.vn/dien-co-phuc-sinh-vien-fpt-the-hien-tai-nang-voi-nhac-cu-truyen-thong-310988.html')\n"
     ]
    },
    {
     "name": "stderr",
     "output_type": "stream",
     "text": [
      "7529it [2:07:48,  1.97it/s]"
     ]
    },
    {
     "name": "stdout",
     "output_type": "stream",
     "text": [
      "(\"URL couldn't be processed: %s\", 'https://www.yan.vn/vinuni-rmit-va-fpt-co-gi-ma-bi-coi-la-truong-danh-cho-con-nha-giau-308642.html')\n"
     ]
    },
    {
     "name": "stderr",
     "output_type": "stream",
     "text": [
      "7530it [2:07:49,  2.07it/s]"
     ]
    },
    {
     "name": "stdout",
     "output_type": "stream",
     "text": [
      "(\"URL couldn't be processed: %s\", 'https://www.yan.vn/cuoc-song-cua-nu-sinh-duoc-netizen-vi-nhu-suzy-ban-viet-sau-5-nam-298258.html')\n"
     ]
    },
    {
     "name": "stderr",
     "output_type": "stream",
     "text": [
      "7531it [2:07:49,  2.13it/s]"
     ]
    },
    {
     "name": "stdout",
     "output_type": "stream",
     "text": [
      "(\"URL couldn't be processed: %s\", 'https://www.yan.vn/sinh-vien-dai-hoc-fpt-danh-ca-thanh-xuan-de-di-48h-chuyen-dong-197460.html')\n"
     ]
    },
    {
     "name": "stderr",
     "output_type": "stream",
     "text": [
      "7532it [2:07:49,  2.20it/s]"
     ]
    },
    {
     "name": "stdout",
     "output_type": "stream",
     "text": [
      "(\"URL couldn't be processed: %s\", 'https://www.yan.vn/chu-tich-fpt-software-tung-rot-dai-hoc-bat-sep-roi-tang-chuc-304698.html')\n"
     ]
    },
    {
     "name": "stderr",
     "output_type": "stream",
     "text": [
      "7533it [2:07:50,  2.30it/s]"
     ]
    },
    {
     "name": "stdout",
     "output_type": "stream",
     "text": [
      "(\"URL couldn't be processed: %s\", 'https://www.yan.vn/san-sang-vut-bay-cung-sinh-vien-fpt-10478.html')\n"
     ]
    },
    {
     "name": "stderr",
     "output_type": "stream",
     "text": [
      "7534it [2:07:50,  2.30it/s]"
     ]
    },
    {
     "name": "stdout",
     "output_type": "stream",
     "text": [
      "(\"URL couldn't be processed: %s\", 'https://www.yan.vn/cong-dong-indie-da-tai-da-mat-voi-etherial-indie-show-2019-200750.html')\n"
     ]
    },
    {
     "name": "stderr",
     "output_type": "stream",
     "text": [
      "7535it [2:07:51,  2.38it/s]"
     ]
    },
    {
     "name": "stdout",
     "output_type": "stream",
     "text": [
      "(\"URL couldn't be processed: %s\", 'https://www.yan.vn/nhung-tai-nang-moi-lo-dien-o-dai-hoc-fpt-30154.html')\n"
     ]
    },
    {
     "name": "stderr",
     "output_type": "stream",
     "text": [
      "7536it [2:07:51,  2.28it/s]"
     ]
    },
    {
     "name": "stdout",
     "output_type": "stream",
     "text": [
      "(\"URL couldn't be processed: %s\", 'https://www.yan.vn/tphcm-tim-thay-40-nguoi-lien-quan-ca-covid19-o-binh-duong-256763.html')\n"
     ]
    },
    {
     "name": "stderr",
     "output_type": "stream",
     "text": [
      "7537it [2:07:52,  2.30it/s]"
     ]
    },
    {
     "name": "stdout",
     "output_type": "stream",
     "text": [
      "(\"URL couldn't be processed: %s\", 'https://www.yan.vn/emagazine/surf-mesa-thay-vi-ngoi-yen-hay-phat-trien-ban-than-minh-332.html')\n"
     ]
    },
    {
     "name": "stderr",
     "output_type": "stream",
     "text": [
      "7538it [2:07:52,  2.37it/s]"
     ]
    },
    {
     "name": "stdout",
     "output_type": "stream",
     "text": [
      "(\"URL couldn't be processed: %s\", 'https://www.yan.vn/chung-ket-fu-talent-show-4-hon-ca-tai-nang-31654.html')\n"
     ]
    },
    {
     "name": "stderr",
     "output_type": "stream",
     "text": [
      "7539it [2:07:52,  2.34it/s]"
     ]
    },
    {
     "name": "stdout",
     "output_type": "stream",
     "text": [
      "(\"URL couldn't be processed: %s\", 'https://www.yan.vn/tranh-cai-quanh-y-kien-cua-chu-tich-hoang-nam-tien-ve-van-de-nhay-viec-305464.html')\n"
     ]
    },
    {
     "name": "stderr",
     "output_type": "stream",
     "text": [
      "7540it [2:07:53,  2.45it/s]"
     ]
    },
    {
     "name": "stdout",
     "output_type": "stream",
     "text": [
      "(\"URL couldn't be processed: %s\", 'https://www.yan.vn/pham-hoang-thu-uyen-bao-danh-tai-hoa-hau-hoan-vu-viet-nam-2022-296025.html')\n"
     ]
    },
    {
     "name": "stderr",
     "output_type": "stream",
     "text": [
      "7541it [2:07:53,  2.35it/s]"
     ]
    },
    {
     "name": "stdout",
     "output_type": "stream",
     "text": [
      "(\"URL couldn't be processed: %s\", 'https://www.yan.vn/emagazine/finn-askew-chang-trai-tang-ca-the-gioi-trieu-bong-hong-bang-am-nhac-300.html')\n"
     ]
    },
    {
     "name": "stderr",
     "output_type": "stream",
     "text": [
      "7542it [2:07:54,  2.31it/s]"
     ]
    },
    {
     "name": "stdout",
     "output_type": "stream",
     "text": [
      "(\"URL couldn't be processed: %s\", 'https://www.yan.vn/tiktoker-trang-chun-tung-la-hotgirl-noi-tieng-kiem-tram-trieuthang-297091.html')\n"
     ]
    },
    {
     "name": "stderr",
     "output_type": "stream",
     "text": [
      "7543it [2:07:55,  1.83it/s]"
     ]
    },
    {
     "name": "stdout",
     "output_type": "stream",
     "text": [
      "(\"URL couldn't be processed: %s\", 'https://www.yan.vn/emagazine/man-trinh-dien-cua-yamazaki-kento-695.html')\n"
     ]
    },
    {
     "name": "stderr",
     "output_type": "stream",
     "text": [
      "7544it [2:07:55,  2.01it/s]"
     ]
    },
    {
     "name": "stdout",
     "output_type": "stream",
     "text": [
      "(\"URL couldn't be processed: %s\", 'https://www.yan.vn/chuyen-thien-nguyen-den-voi-nhung-manh-doi-thuy-tinh-cung-dai-hoc-fpt-191307.html')\n"
     ]
    },
    {
     "name": "stderr",
     "output_type": "stream",
     "text": [
      "7545it [2:07:55,  2.17it/s]"
     ]
    },
    {
     "name": "stdout",
     "output_type": "stream",
     "text": [
      "(\"URL couldn't be processed: %s\", 'https://www.yan.vn/soi-dong-cung-giai-bong-ro-fpt-arena-basketball-league-2013-13229.html')\n"
     ]
    },
    {
     "name": "stderr",
     "output_type": "stream",
     "text": [
      "7546it [2:07:56,  1.66it/s]"
     ]
    },
    {
     "name": "stdout",
     "output_type": "stream",
     "text": [
      "(\"URL couldn't be processed: %s\", 'https://www.yan.vn/emagazine/chang-trai-chim-canh-cut-dung-chan-viet-uoc-mo-697.html')\n"
     ]
    },
    {
     "name": "stderr",
     "output_type": "stream",
     "text": [
      "7547it [2:07:57,  1.56it/s]"
     ]
    },
    {
     "name": "stdout",
     "output_type": "stream",
     "text": [
      "(\"URL couldn't be processed: %s\", 'https://www.yan.vn/emagazine/dinh-tran-thanh-lam-co-be-vang-cua-lang-co-tuong-viet-nam-706.html')\n"
     ]
    },
    {
     "name": "stderr",
     "output_type": "stream",
     "text": [
      "7548it [2:07:57,  1.73it/s]"
     ]
    },
    {
     "name": "stdout",
     "output_type": "stream",
     "text": [
      "(\"URL couldn't be processed: %s\", 'https://www.yan.vn/muc-hoc-phi-khung-cua-20-truong-dh-chi-danh-cho-hoi-con-nha-giau-208295.html')\n"
     ]
    },
    {
     "name": "stderr",
     "output_type": "stream",
     "text": [
      "7549it [2:07:58,  1.87it/s]"
     ]
    },
    {
     "name": "stdout",
     "output_type": "stream",
     "text": [
      "(\"URL couldn't be processed: %s\", 'https://www.yan.vn/nam-sinh-ngu-quen-bi-0-diem-tieng-anh-duoc-vao-dh-theo-dien-du-bi-314527.html')\n"
     ]
    },
    {
     "name": "stderr",
     "output_type": "stream",
     "text": [
      "7550it [2:07:59,  1.45it/s]"
     ]
    },
    {
     "name": "stdout",
     "output_type": "stream",
     "text": [
      "(\"URL couldn't be processed: %s\", 'https://www.yan.vn/emagazine/mot-phien-ban-nick-vujicic-cua-viet-nam-705.html')\n"
     ]
    },
    {
     "name": "stderr",
     "output_type": "stream",
     "text": [
      "7551it [2:07:59,  1.65it/s]"
     ]
    },
    {
     "name": "stdout",
     "output_type": "stream",
     "text": [
      "(\"URL couldn't be processed: %s\", 'https://www.yan.vn/dich-covid19-truong-dh-o-tphcm-ho-tro-3000-hoc-bong-cho-sinh-vien-226157.html')\n"
     ]
    },
    {
     "name": "stderr",
     "output_type": "stream",
     "text": [
      "7552it [2:08:00,  1.83it/s]"
     ]
    },
    {
     "name": "stdout",
     "output_type": "stream",
     "text": [
      "(\"URL couldn't be processed: %s\", 'https://www.yan.vn/emagazine/ban-chon-gi-cho-ngay-roi-giang-duong-dai-hoc-367.html')\n"
     ]
    },
    {
     "name": "stderr",
     "output_type": "stream",
     "text": [
      "7553it [2:08:00,  1.96it/s]"
     ]
    },
    {
     "name": "stdout",
     "output_type": "stream",
     "text": [
      "(\"URL couldn't be processed: %s\", 'https://www.yan.vn/sinh-vien-dai-hoc-fpt-chi-100-trieu-de-to-chuc-sinh-nhat-lan-thu-10-193063.html')\n"
     ]
    },
    {
     "name": "stderr",
     "output_type": "stream",
     "text": [
      "7554it [2:08:01,  2.03it/s]"
     ]
    },
    {
     "name": "stdout",
     "output_type": "stream",
     "text": [
      "(\"URL couldn't be processed: %s\", 'https://www.yan.vn/ha-noi-huy-29-diem-ban-phao-hoa-dem-giao-thua-256964.html')\n"
     ]
    },
    {
     "name": "stderr",
     "output_type": "stream",
     "text": [
      "7555it [2:08:01,  2.05it/s]"
     ]
    },
    {
     "name": "stdout",
     "output_type": "stream",
     "text": [
      "(\"URL couldn't be processed: %s\", 'https://www.yan.vn/tong-ket-03-su-kien-gay-quy-day-y-nghia-cho-du-an-ao-am-ha-giang-5-cua-sinh-vien-dh-fpt-250788.html')\n"
     ]
    },
    {
     "name": "stderr",
     "output_type": "stream",
     "text": [
      "7556it [2:08:02,  1.87it/s]"
     ]
    },
    {
     "name": "stdout",
     "output_type": "stream",
     "text": [
      "(\"URL couldn't be processed: %s\", 'https://www.yan.vn/son-tung-mtp-lac-troi-tung-hoanh-tai-super-big-open-day-dai-hoc-fpt-199493.html')\n"
     ]
    },
    {
     "name": "stderr",
     "output_type": "stream",
     "text": [
      "7557it [2:08:02,  1.95it/s]"
     ]
    },
    {
     "name": "stdout",
     "output_type": "stream",
     "text": [
      "(\"URL couldn't be processed: %s\", 'https://www.yan.vn/info-ve-chang-trai-gia-gai-gay-sot-mang-xa-hoi-con-lai-nga-viet-181221.html')\n"
     ]
    },
    {
     "name": "stderr",
     "output_type": "stream",
     "text": [
      "7558it [2:08:03,  2.05it/s]"
     ]
    },
    {
     "name": "stdout",
     "output_type": "stream",
     "text": [
      "(\"URL couldn't be processed: %s\", 'https://www.yan.vn/de-nghi-cat-thue-bao-vinh-vien-doi-voi-truong-hop-tron-khai-bao-y-te-256997.html')\n"
     ]
    },
    {
     "name": "stderr",
     "output_type": "stream",
     "text": [
      "7559it [2:08:03,  2.08it/s]"
     ]
    },
    {
     "name": "stdout",
     "output_type": "stream",
     "text": [
      "(\"URL couldn't be processed: %s\", 'https://www.yan.vn/emagazine/khi-soi-than-lam-loan-youtube-350.html')\n"
     ]
    },
    {
     "name": "stderr",
     "output_type": "stream",
     "text": [
      "7560it [2:08:03,  2.13it/s]"
     ]
    },
    {
     "name": "stdout",
     "output_type": "stream",
     "text": [
      "(\"URL couldn't be processed: %s\", 'https://www.yan.vn/sinh-vien-fpt-ha-noi-bung-no-tim-hieu-nganh-truyen-thong-cung-yan-37528.html')\n"
     ]
    },
    {
     "name": "stderr",
     "output_type": "stream",
     "text": [
      "7561it [2:08:04,  2.16it/s]"
     ]
    },
    {
     "name": "stdout",
     "output_type": "stream",
     "text": [
      "(\"URL couldn't be processed: %s\", 'https://www.yan.vn/hang-tram-f0-f1-khong-tu-giac-khai-bao-bo-y-te-keu-goi-hop-tac-256696.html')\n"
     ]
    },
    {
     "name": "stderr",
     "output_type": "stream",
     "text": [
      "7562it [2:08:04,  2.30it/s]"
     ]
    },
    {
     "name": "stdout",
     "output_type": "stream",
     "text": [
      "(\"URL couldn't be processed: %s\", 'https://www.yan.vn/sinh-vien-dai-hoc-fpt-mang-xuan-yeu-thuong-toi-sa-dec-192168.html')\n"
     ]
    },
    {
     "name": "stderr",
     "output_type": "stream",
     "text": [
      "7563it [2:08:05,  2.37it/s]"
     ]
    },
    {
     "name": "stdout",
     "output_type": "stream",
     "text": [
      "(\"URL couldn't be processed: %s\", 'https://www.yan.vn/ket-qua-thi-dai-hoc-cua-cac-hot-teen-the-nao-32065.html')\n"
     ]
    },
    {
     "name": "stderr",
     "output_type": "stream",
     "text": [
      "7564it [2:08:05,  2.15it/s]"
     ]
    },
    {
     "name": "stdout",
     "output_type": "stream",
     "text": [
      "(\"URL couldn't be processed: %s\", 'https://www.yan.vn/sinh-vien-fpt-gay-choang-voi-outfit-de-di-hoc-toan-tram-trieu-294986.html')\n"
     ]
    },
    {
     "name": "stderr",
     "output_type": "stream",
     "text": [
      "7565it [2:08:06,  2.26it/s]"
     ]
    },
    {
     "name": "stdout",
     "output_type": "stream",
     "text": [
      "(\"URL couldn't be processed: %s\", 'https://www.yan.vn/toa-sang-cung-top-10-tai-nang-tai-dem-chung-ket-bac-ninhs-student-got-talent-mua-2-328344.html')\n"
     ]
    },
    {
     "name": "stderr",
     "output_type": "stream",
     "text": [
      "7566it [2:08:06,  2.23it/s]"
     ]
    },
    {
     "name": "stdout",
     "output_type": "stream",
     "text": [
      "(\"URL couldn't be processed: %s\", 'https://www.yan.vn/co-gai-mo-coi-trung-dai-hoc-fulbright-viet-nam-voi-22-ty-dong-ho-tro-238711.html')\n"
     ]
    },
    {
     "name": "stderr",
     "output_type": "stream",
     "text": [
      "7567it [2:08:07,  1.83it/s]"
     ]
    },
    {
     "name": "stdout",
     "output_type": "stream",
     "text": [
      "(\"URL couldn't be processed: %s\", 'https://www.yan.vn/emagazine/cha-de-cua-chatgpt-thien-tai-lap-di-707.html')\n"
     ]
    },
    {
     "name": "stderr",
     "output_type": "stream",
     "text": [
      "7568it [2:08:07,  2.02it/s]"
     ]
    },
    {
     "name": "stdout",
     "output_type": "stream",
     "text": [
      "(\"URL couldn't be processed: %s\", 'https://www.yan.vn/son-tung-mtp-gop-mat-tai-super-big-open-day-cua-dh-fpt-198729.html')\n"
     ]
    },
    {
     "name": "stderr",
     "output_type": "stream",
     "text": [
      "7569it [2:08:08,  1.60it/s]"
     ]
    },
    {
     "name": "stdout",
     "output_type": "stream",
     "text": [
      "(\"URL couldn't be processed: %s\", 'https://www.yan.vn/emagazine/co-thon-nu-gen-z-moc-mac-di-lien-voi-hien-dai-708.html')\n"
     ]
    },
    {
     "name": "stderr",
     "output_type": "stream",
     "text": [
      "7570it [2:08:09,  1.52it/s]"
     ]
    },
    {
     "name": "stdout",
     "output_type": "stream",
     "text": [
      "(\"URL couldn't be processed: %s\", 'https://www.yan.vn/emagazine/tran-ngoc-lan-khue-chan-dai-vien-man-lang-mot-viet-703.html')\n"
     ]
    },
    {
     "name": "stderr",
     "output_type": "stream",
     "text": [
      "7571it [2:08:09,  1.73it/s]"
     ]
    },
    {
     "name": "stdout",
     "output_type": "stream",
     "text": [
      "(\"URL couldn't be processed: %s\", 'https://www.yan.vn/ceo-nguyen-the-vinh-tren-con-duong-thanh-cong-khong-co-dau-chan-cua-ke-luoi-bieng-266813.html')\n"
     ]
    },
    {
     "name": "stderr",
     "output_type": "stream",
     "text": [
      "7572it [2:08:10,  1.92it/s]"
     ]
    },
    {
     "name": "stdout",
     "output_type": "stream",
     "text": [
      "(\"URL couldn't be processed: %s\", 'https://www.yan.vn/vu-tru-audition-di-cung-sinh-vien-dai-hoc-fpt-tai-hola-daebak-festival-329473.html')\n"
     ]
    },
    {
     "name": "stderr",
     "output_type": "stream",
     "text": [
      "7573it [2:08:10,  2.06it/s]"
     ]
    },
    {
     "name": "stdout",
     "output_type": "stream",
     "text": [
      "(\"URL couldn't be processed: %s\", 'https://www.yan.vn/phim-ngan-bai-hoc-nhe-nhang-cho-gioi-tre-voi-song-thu-10674.html')\n"
     ]
    },
    {
     "name": "stderr",
     "output_type": "stream",
     "text": [
      "7574it [2:08:10,  2.21it/s]"
     ]
    },
    {
     "name": "stdout",
     "output_type": "stream",
     "text": [
      "(\"URL couldn't be processed: %s\", 'https://www.yan.vn/hoa-khoi-mat-xinh-dang-chuan-thao-6-ngoai-ngu-85248.html')\n"
     ]
    },
    {
     "name": "stderr",
     "output_type": "stream",
     "text": [
      "7575it [2:08:11,  2.24it/s]"
     ]
    },
    {
     "name": "stdout",
     "output_type": "stream",
     "text": [
      "(\"URL couldn't be processed: %s\", 'https://www.yan.vn/sinh-vien-dh-fpt-chay-het-minh-trong-dem-music-show-cung-binz-dj-mie-305877.html')\n"
     ]
    },
    {
     "name": "stderr",
     "output_type": "stream",
     "text": [
      "7576it [2:08:11,  2.28it/s]"
     ]
    },
    {
     "name": "stdout",
     "output_type": "stream",
     "text": [
      "(\"URL couldn't be processed: %s\", 'https://www.yan.vn/emagazine/nghi-viec-co-chua-lanh-ap-luc-cho-gen-z-501.html')\n"
     ]
    },
    {
     "name": "stderr",
     "output_type": "stream",
     "text": [
      "7577it [2:08:12,  2.29it/s]"
     ]
    },
    {
     "name": "stdout",
     "output_type": "stream",
     "text": [
      "(\"URL couldn't be processed: %s\", 'https://www.yan.vn/chiem-nguong-nhung-ngoi-truong-dep-bac-nhat-viet-nam-nhin-la-muon-hoc-123009.html')\n"
     ]
    },
    {
     "name": "stderr",
     "output_type": "stream",
     "text": [
      "7578it [2:08:12,  2.30it/s]"
     ]
    },
    {
     "name": "stdout",
     "output_type": "stream",
     "text": [
      "(\"URL couldn't be processed: %s\", 'https://www.yan.vn/vu-nu-sinh-bi-sat-hai-hiep-dam-nghi-pham-tung-la-giang-vien-168939.html')\n"
     ]
    },
    {
     "name": "stderr",
     "output_type": "stream",
     "text": [
      "7579it [2:08:13,  2.24it/s]"
     ]
    },
    {
     "name": "stdout",
     "output_type": "stream",
     "text": [
      "(\"URL couldn't be processed: %s\", 'https://www.yan.vn/ha-noi-phong-toa-toan-bo-truong-dai-hoc-fpt-co-so-hoa-lac-256645.html')\n"
     ]
    },
    {
     "name": "stderr",
     "output_type": "stream",
     "text": [
      "7580it [2:08:13,  1.83it/s]"
     ]
    },
    {
     "name": "stdout",
     "output_type": "stream",
     "text": [
      "(\"URL couldn't be processed: %s\", 'https://www.yan.vn/emagazine/suc-hut-tu-dong-phim-liveaction-690.html')\n"
     ]
    },
    {
     "name": "stderr",
     "output_type": "stream",
     "text": [
      "7581it [2:08:14,  1.99it/s]"
     ]
    },
    {
     "name": "stdout",
     "output_type": "stream",
     "text": [
      "(\"URL couldn't be processed: %s\", 'https://www.yan.vn/cac-thanh-vien-trong-1-gia-dinh-di-chong-dich-sau-khi-khoi-covid19-275357.html')\n"
     ]
    },
    {
     "name": "stderr",
     "output_type": "stream",
     "text": [
      "7582it [2:08:14,  2.01it/s]"
     ]
    },
    {
     "name": "stdout",
     "output_type": "stream",
     "text": [
      "(\"URL couldn't be processed: %s\", 'https://www.yan.vn/sang-32-binh-duong-them-2-ca-covid19-pham-vi-phong-toa-duoc-mo-rong-256893.html')\n"
     ]
    },
    {
     "name": "stderr",
     "output_type": "stream",
     "text": [
      "7583it [2:08:15,  2.18it/s]"
     ]
    },
    {
     "name": "stdout",
     "output_type": "stream",
     "text": [
      "(\"URL couldn't be processed: %s\", 'https://www.yan.vn/cuoc-thi-fais-got-talent-ruc-rich-khoi-dong-89731.html')\n"
     ]
    },
    {
     "name": "stderr",
     "output_type": "stream",
     "text": [
      "7584it [2:08:15,  2.25it/s]"
     ]
    },
    {
     "name": "stdout",
     "output_type": "stream",
     "text": [
      "(\"URL couldn't be processed: %s\", 'https://www.yan.vn/hoc-phi-dat-do-cua-dai-hoc-viet-nam-vinuni-hon-900-trieunam-226554.html')\n"
     ]
    },
    {
     "name": "stderr",
     "output_type": "stream",
     "text": [
      "7585it [2:08:16,  1.83it/s]"
     ]
    },
    {
     "name": "stdout",
     "output_type": "stream",
     "text": [
      "(\"URL couldn't be processed: %s\", 'https://www.yan.vn/emagazine/dung-lam-me-cau-chan-chua-gia-tri-tinh-mau-tu-692.html')\n"
     ]
    },
    {
     "name": "stderr",
     "output_type": "stream",
     "text": [
      "7586it [2:08:16,  2.00it/s]"
     ]
    },
    {
     "name": "stdout",
     "output_type": "stream",
     "text": [
      "(\"URL couldn't be processed: %s\", 'https://www.yan.vn/top-10-truong-dai-hoc-hanh-phuc-nhat-viet-nam-nam-2018-176243.html')\n"
     ]
    },
    {
     "name": "stderr",
     "output_type": "stream",
     "text": [
      "7587it [2:08:17,  2.09it/s]"
     ]
    },
    {
     "name": "stdout",
     "output_type": "stream",
     "text": [
      "(\"URL couldn't be processed: %s\", 'https://www.yan.vn/the-sun-virus-tu-doi-co-the-gay-ra-dich-nguy-hiem-hon-covid19-258672.html')\n"
     ]
    },
    {
     "name": "stderr",
     "output_type": "stream",
     "text": [
      "7588it [2:08:18,  1.73it/s]"
     ]
    },
    {
     "name": "stdout",
     "output_type": "stream",
     "text": [
      "(\"URL couldn't be processed: %s\", 'https://www.yan.vn/emagazine/hot-streamer-hieu-leblanc-tu-cau-be-nhat-ve-chai-den-game-thu-noi-tieng-698.html')\n"
     ]
    },
    {
     "name": "stderr",
     "output_type": "stream",
     "text": [
      "7589it [2:08:18,  1.89it/s]"
     ]
    },
    {
     "name": "stdout",
     "output_type": "stream",
     "text": [
      "(\"URL couldn't be processed: %s\", 'https://www.yan.vn/nu-sinh-dai-hoc-fpt-ha-noi-toa-sang-ruc-ro-voi-man-pha-ken-dem-chung-ket-miss-fptu-hanoi-320417.html')\n"
     ]
    },
    {
     "name": "stderr",
     "output_type": "stream",
     "text": [
      "7590it [2:08:18,  2.04it/s]"
     ]
    },
    {
     "name": "stdout",
     "output_type": "stream",
     "text": [
      "(\"URL couldn't be processed: %s\", 'https://www.yan.vn/thuy-tien-va-cac-nang-hau-am-tron-hoc-bong-thac-si-306438.html')\n"
     ]
    },
    {
     "name": "stderr",
     "output_type": "stream",
     "text": [
      "7591it [2:08:19,  1.83it/s]"
     ]
    },
    {
     "name": "stdout",
     "output_type": "stream",
     "text": [
      "(\"URL couldn't be processed: %s\", 'https://www.yan.vn/emagazine/gen-z-the-he-tien-phong-tai-dinh-nghia-song-xanh-664.html')\n"
     ]
    },
    {
     "name": "stderr",
     "output_type": "stream",
     "text": [
      "7592it [2:08:19,  1.99it/s]"
     ]
    },
    {
     "name": "stdout",
     "output_type": "stream",
     "text": [
      "(\"URL couldn't be processed: %s\", 'https://www.yan.vn/emagazine/huong-noi-khong-phai-la-mon-trang-suc-660.html')\n"
     ]
    },
    {
     "name": "stderr",
     "output_type": "stream",
     "text": [
      "7593it [2:08:20,  2.10it/s]"
     ]
    },
    {
     "name": "stdout",
     "output_type": "stream",
     "text": [
      "(\"URL couldn't be processed: %s\", 'https://www.yan.vn/man-nhan-san-khau-tai-nang-hoc-sinh-tai-fpt-school-hai-phong-327513.html')\n"
     ]
    },
    {
     "name": "stderr",
     "output_type": "stream",
     "text": [
      "7594it [2:08:20,  2.20it/s]"
     ]
    },
    {
     "name": "stdout",
     "output_type": "stream",
     "text": [
      "(\"URL couldn't be processed: %s\", 'https://www.yan.vn/chuong-trinh-rock-show-thang-12-cua-clb-guitar-dh-fpt-co-nhung-gi-192444.html')\n"
     ]
    },
    {
     "name": "stderr",
     "output_type": "stream",
     "text": [
      "7595it [2:08:21,  2.30it/s]"
     ]
    },
    {
     "name": "stdout",
     "output_type": "stream",
     "text": [
      "(\"URL couldn't be processed: %s\", 'https://www.yan.vn/campus-tour-fpt-long-chau-co-hoi-vang-cho-sinh-vien-y-duoc-309018.html')\n"
     ]
    },
    {
     "name": "stderr",
     "output_type": "stream",
     "text": [
      "7596it [2:08:21,  2.33it/s]"
     ]
    },
    {
     "name": "stdout",
     "output_type": "stream",
     "text": [
      "(\"URL couldn't be processed: %s\", 'https://www.yan.vn/phim-truong-co-1-0-2-cua-cuoc-thi-lam-phim-49h-in-motion-219182.html')\n"
     ]
    },
    {
     "name": "stderr",
     "output_type": "stream",
     "text": [
      "7597it [2:08:21,  2.34it/s]"
     ]
    },
    {
     "name": "stdout",
     "output_type": "stream",
     "text": [
      "(\"URL couldn't be processed: %s\", 'https://www.yan.vn/truong-dai-hoc-bach-khoa-vao-kho-1-ra-kho-10-308203.html')\n"
     ]
    },
    {
     "name": "stderr",
     "output_type": "stream",
     "text": [
      "7598it [2:08:22,  1.68it/s]"
     ]
    },
    {
     "name": "stdout",
     "output_type": "stream",
     "text": [
      "(\"URL couldn't be processed: %s\", 'https://www.yan.vn/emagazine/nu-co-pho-gen-z-hanh-trinh-chinh-phuc-bau-troi-696.html')\n"
     ]
    },
    {
     "name": "stderr",
     "output_type": "stream",
     "text": [
      "7599it [2:08:23,  1.51it/s]"
     ]
    },
    {
     "name": "stdout",
     "output_type": "stream",
     "text": [
      "(\"URL couldn't be processed: %s\", 'https://www.yan.vn/emagazine/can-can-thay-doi-trong-cuoc-choi-nhan-sac-o-viet-nam-689.html')\n"
     ]
    },
    {
     "name": "stderr",
     "output_type": "stream",
     "text": [
      "7600it [2:08:24,  1.69it/s]"
     ]
    },
    {
     "name": "stdout",
     "output_type": "stream",
     "text": [
      "(\"URL couldn't be processed: %s\", 'https://www.yan.vn/nam-sinh-lao-cai-ngu-quen-den-noi-canh-sat-phai-goi-di-thi-gio-ra-sao-260647.html')\n"
     ]
    },
    {
     "name": "stderr",
     "output_type": "stream",
     "text": [
      "7601it [2:08:24,  1.54it/s]"
     ]
    },
    {
     "name": "stdout",
     "output_type": "stream",
     "text": [
      "(\"URL couldn't be processed: %s\", 'https://www.yan.vn/emagazine/avatar-2-bom-tan-sau-hon-mot-thap-ky-cho-doi-co-thuc-su-xung-dang-670.html')\n"
     ]
    },
    {
     "name": "stderr",
     "output_type": "stream",
     "text": [
      "7602it [2:08:25,  1.43it/s]"
     ]
    },
    {
     "name": "stdout",
     "output_type": "stream",
     "text": [
      "(\"URL couldn't be processed: %s\", 'https://www.yan.vn/emagazine/pham-thi-my-duyen-co-nang-nguoi-mau-co-chiec-mui-khong-xuong-minh-la-doc-nhat-la-duy-nhat-514.html')\n"
     ]
    },
    {
     "name": "stderr",
     "output_type": "stream",
     "text": [
      "7603it [2:08:26,  1.35it/s]"
     ]
    },
    {
     "name": "stdout",
     "output_type": "stream",
     "text": [
      "(\"URL couldn't be processed: %s\", 'https://www.yan.vn/emagazine/miss-universe-co-de-tro-lai-dinh-cao-704.html')\n"
     ]
    },
    {
     "name": "stderr",
     "output_type": "stream",
     "text": [
      "7604it [2:08:27,  1.52it/s]"
     ]
    },
    {
     "name": "stdout",
     "output_type": "stream",
     "text": [
      "(\"URL couldn't be processed: %s\", 'https://www.yan.vn/hoa-khoi-cong-nghe-len-tieng-khi-bi-khien-trach-vi-di-tre-tai-muv-299917.html')\n"
     ]
    },
    {
     "name": "stderr",
     "output_type": "stream",
     "text": [
      "7605it [2:08:27,  1.68it/s]"
     ]
    },
    {
     "name": "stdout",
     "output_type": "stream",
     "text": [
      "(\"URL couldn't be processed: %s\", 'https://www.yan.vn/thuong-thuc-ban-giao-huong-tai-prom-night-symphony-of-lights-202742.html')\n"
     ]
    },
    {
     "name": "stderr",
     "output_type": "stream",
     "text": [
      "7606it [2:08:28,  1.66it/s]"
     ]
    },
    {
     "name": "stdout",
     "output_type": "stream",
     "text": [
      "(\"URL couldn't be processed: %s\", 'https://www.yan.vn/nguoi-dan-tro-lai-ha-noi-sau-tet-phai-khai-bao-y-te-257818.html')\n"
     ]
    },
    {
     "name": "stderr",
     "output_type": "stream",
     "text": [
      "7607it [2:08:28,  1.76it/s]"
     ]
    },
    {
     "name": "stdout",
     "output_type": "stream",
     "text": [
      "(\"URL couldn't be processed: %s\", 'https://www.yan.vn/do-do-hot-cua-bo-ba-hot-girl-ha-thanh-va-sai-thanh-56194.html')\n"
     ]
    },
    {
     "name": "stderr",
     "output_type": "stream",
     "text": [
      "7608it [2:08:29,  1.93it/s]"
     ]
    },
    {
     "name": "stdout",
     "output_type": "stream",
     "text": [
      "(\"URL couldn't be processed: %s\", 'https://www.yan.vn/ne-phuc-kha-nang-kiem-tien-khung-cua-hot-girl-7-thu-tieng-khanh-vy-296021.html')\n"
     ]
    },
    {
     "name": "stderr",
     "output_type": "stream",
     "text": [
      "7609it [2:08:29,  2.06it/s]"
     ]
    },
    {
     "name": "stdout",
     "output_type": "stream",
     "text": [
      "(\"URL couldn't be processed: %s\", 'https://www.yan.vn/ngam-nghia-gu-thoi-trang-cua-sinh-vien-cac-truong-dai-hoc-296926.html')\n"
     ]
    },
    {
     "name": "stderr",
     "output_type": "stream",
     "text": [
      "7610it [2:08:29,  2.20it/s]"
     ]
    },
    {
     "name": "stdout",
     "output_type": "stream",
     "text": [
      "(\"URL couldn't be processed: %s\", 'https://www.yan.vn/top-20-truong-dai-hoc-dat-do-nhat-viet-nam-192093.html')\n"
     ]
    },
    {
     "name": "stderr",
     "output_type": "stream",
     "text": [
      "7611it [2:08:30,  2.27it/s]"
     ]
    },
    {
     "name": "stdout",
     "output_type": "stream",
     "text": [
      "(\"URL couldn't be processed: %s\", 'https://www.yan.vn/gap-go-co-nang-bien-hinh-cuc-dinh-thanh-bup-be-song-lisa-blackpink-249381.html')\n"
     ]
    },
    {
     "name": "stderr",
     "output_type": "stream",
     "text": [
      "7612it [2:08:30,  2.31it/s]"
     ]
    },
    {
     "name": "stdout",
     "output_type": "stream",
     "text": [
      "(\"URL couldn't be processed: %s\", 'https://www.yan.vn/vua-san-duoc-hoc-bong-thi-biet-tin-co-bau-co-gai-van-quyet-tam-du-hoc-315680.html')\n"
     ]
    },
    {
     "name": "stderr",
     "output_type": "stream",
     "text": [
      "7613it [2:08:31,  2.43it/s]"
     ]
    },
    {
     "name": "stdout",
     "output_type": "stream",
     "text": [
      "(\"URL couldn't be processed: %s\", 'https://www.yan.vn/vua-di-bao-vua-lam-bai-tap-nu-sinh-khien-ai-nay-deu-phi-cuoi-217550.html')\n"
     ]
    },
    {
     "name": "stderr",
     "output_type": "stream",
     "text": [
      "7614it [2:08:31,  2.46it/s]"
     ]
    },
    {
     "name": "stdout",
     "output_type": "stream",
     "text": [
      "(\"URL couldn't be processed: %s\", 'https://www.yan.vn/nam-sinh-thay-ao-moi-cho-sach-giao-khoa-nhan-hoc-bong-toan-phan-nganh-thiet-ke-301299.html')\n"
     ]
    },
    {
     "name": "stderr",
     "output_type": "stream",
     "text": [
      "7615it [2:08:31,  2.44it/s]"
     ]
    },
    {
     "name": "stdout",
     "output_type": "stream",
     "text": [
      "(\"URL couldn't be processed: %s\", 'https://www.yan.vn/f1-khai-bao-gian-doi-khien-20-nhan-vien-y-te-bi-cach-ly-khan-256998.html')\n"
     ]
    },
    {
     "name": "stderr",
     "output_type": "stream",
     "text": [
      "7616it [2:08:32,  2.45it/s]"
     ]
    },
    {
     "name": "stdout",
     "output_type": "stream",
     "text": [
      "(\"URL couldn't be processed: %s\", 'https://www.yan.vn/chang-lun-tran-xuan-tien-ngoai-hinh-dac-biet-mang-lai-nhieu-co-hoi-211028.html')\n"
     ]
    },
    {
     "name": "stderr",
     "output_type": "stream",
     "text": [
      "7617it [2:08:32,  2.42it/s]"
     ]
    },
    {
     "name": "stdout",
     "output_type": "stream",
     "text": [
      "(\"URL couldn't be processed: %s\", 'https://www.yan.vn/emagazine/dink-hop-thoi-hay-ich-ky-299.html')\n"
     ]
    },
    {
     "name": "stderr",
     "output_type": "stream",
     "text": [
      "7618it [2:08:33,  2.20it/s]"
     ]
    },
    {
     "name": "stdout",
     "output_type": "stream",
     "text": [
      "(\"URL couldn't be processed: %s\", 'https://www.yan.vn/that-vong-vi-luong-ba-coc-ba-dong-du-co-bang-tien-si-nuoc-ngoai-316793.html')\n"
     ]
    },
    {
     "name": "stderr",
     "output_type": "stream",
     "text": [
      "7619it [2:08:34,  1.78it/s]"
     ]
    },
    {
     "name": "stdout",
     "output_type": "stream",
     "text": [
      "(\"URL couldn't be processed: %s\", 'https://www.yan.vn/emagazine/khi-con-sot-reviewer-tro-thanh-noi-am-anh-712.html')\n"
     ]
    },
    {
     "name": "stderr",
     "output_type": "stream",
     "text": [
      "7620it [2:08:34,  1.92it/s]"
     ]
    },
    {
     "name": "stdout",
     "output_type": "stream",
     "text": [
      "(\"URL couldn't be processed: %s\", 'https://www.yan.vn/nhung-hot-girl-viet-co-diem-tot-nghiep-dai-hoc-cao-chot-vot-60353.html')\n"
     ]
    },
    {
     "name": "stderr",
     "output_type": "stream",
     "text": [
      "7621it [2:08:34,  2.04it/s]"
     ]
    },
    {
     "name": "stdout",
     "output_type": "stream",
     "text": [
      "(\"URL couldn't be processed: %s\", 'https://www.yan.vn/loat-nu-sinh-xinh-dep-dinh-dam-mxh-so-huu-thanh-tich-khung-234010.html')\n"
     ]
    },
    {
     "name": "stderr",
     "output_type": "stream",
     "text": [
      "7622it [2:08:35,  2.22it/s]"
     ]
    },
    {
     "name": "stdout",
     "output_type": "stream",
     "text": [
      "(\"URL couldn't be processed: %s\", 'https://www.yan.vn/thanh-tich-sieu-khung-cua-hot-girl-ngu-guc-tren-xe-buyt-107362.html')\n"
     ]
    },
    {
     "name": "stderr",
     "output_type": "stream",
     "text": [
      "7623it [2:08:36,  1.77it/s]"
     ]
    },
    {
     "name": "stdout",
     "output_type": "stream",
     "text": [
      "(\"URL couldn't be processed: %s\", 'https://www.yan.vn/emagazine/ngoc-lam-soan-gia-cai-luong-gen-z-va-cau-chuyen-truyen-cam-hung-370.html')\n"
     ]
    },
    {
     "name": "stderr",
     "output_type": "stream",
     "text": [
      "7624it [2:08:36,  1.94it/s]"
     ]
    },
    {
     "name": "stdout",
     "output_type": "stream",
     "text": [
      "(\"URL couldn't be processed: %s\", 'https://www.yan.vn/fpt-long-chau-xay-dung-doi-ngu-4t-mo-rong-quy-mo-than-toc-298727.html')\n"
     ]
    },
    {
     "name": "stderr",
     "output_type": "stream",
     "text": [
      "7625it [2:08:36,  2.09it/s]"
     ]
    },
    {
     "name": "stdout",
     "output_type": "stream",
     "text": [
      "(\"URL couldn't be processed: %s\", 'https://www.yan.vn/emagazine/glass-animals-ngon-lua-am-nhac-anh-quoc-dot-chay-moi-chong-gai-312.html')\n"
     ]
    },
    {
     "name": "stderr",
     "output_type": "stream",
     "text": [
      "7626it [2:08:37,  2.21it/s]"
     ]
    },
    {
     "name": "stdout",
     "output_type": "stream",
     "text": [
      "(\"URL couldn't be processed: %s\", 'https://www.yan.vn/emagazine/jeremy-zucker-chelsea-cutler-brent-ii-la-noi-ban-cam-thay-an-yen-va-am-ap-302.html')\n"
     ]
    },
    {
     "name": "stderr",
     "output_type": "stream",
     "text": [
      "7627it [2:08:37,  2.32it/s]"
     ]
    },
    {
     "name": "stdout",
     "output_type": "stream",
     "text": [
      "(\"URL couldn't be processed: %s\", 'https://www.yan.vn/emagazine/tizi-dich-lep-cai-ket-dep-cua-cap-doi-yeu-la-9-cuoi-nhau-la-10-711.html')\n"
     ]
    },
    {
     "name": "stderr",
     "output_type": "stream",
     "text": [
      "7628it [2:08:38,  2.32it/s]"
     ]
    },
    {
     "name": "stdout",
     "output_type": "stream",
     "text": [
      "(\"URL couldn't be processed: %s\", 'https://www.yan.vn/emagazine/maroon-5-huyen-thoai-pop-rock-cua-the-ky-21-319.html')\n"
     ]
    },
    {
     "name": "stderr",
     "output_type": "stream",
     "text": [
      "7629it [2:08:38,  2.18it/s]"
     ]
    },
    {
     "name": "stdout",
     "output_type": "stream",
     "text": [
      "(\"URL couldn't be processed: %s\", 'https://www.yan.vn/emagazine/ly-hai-minh-ha-nguoi-thuc-tam-tu-thien-khong-ngai-truoc-hai-chu-lam-mau-288.html')\n"
     ]
    },
    {
     "name": "stderr",
     "output_type": "stream",
     "text": [
      "7630it [2:08:38,  2.29it/s]"
     ]
    },
    {
     "name": "stdout",
     "output_type": "stream",
     "text": [
      "(\"URL couldn't be processed: %s\", 'https://www.yan.vn/chuyen-tinh-ngot-ngao-cua-cap-doi-nen-duyen-nho-mang-xa-hoi-82322.html')\n"
     ]
    },
    {
     "name": "stderr",
     "output_type": "stream",
     "text": [
      "7631it [2:08:39,  1.81it/s]"
     ]
    },
    {
     "name": "stdout",
     "output_type": "stream",
     "text": [
      "(\"URL couldn't be processed: %s\", 'https://www.yan.vn/emagazine/nha-ba-nu-cua-tran-thanh-on-ao-nao-nhiet-dip-dau-nam-683.html')\n"
     ]
    },
    {
     "name": "stderr",
     "output_type": "stream",
     "text": [
      "7632it [2:08:40,  1.55it/s]"
     ]
    },
    {
     "name": "stdout",
     "output_type": "stream",
     "text": [
      "(\"URL couldn't be processed: %s\", 'https://www.yan.vn/emagazine/mc-thanh-thanh-huyen-mc-la-mot-nghe-si-497.html')\n"
     ]
    },
    {
     "name": "stderr",
     "output_type": "stream",
     "text": [
      "7633it [2:08:41,  1.73it/s]"
     ]
    },
    {
     "name": "stdout",
     "output_type": "stream",
     "text": [
      "(\"URL couldn't be processed: %s\", 'https://www.yan.vn/sing-out-loud-san-khau-chuyen-nghiep-de-cac-ban-tre-yeu-am-nhac-the-hien-ban-than-319747.html')\n"
     ]
    },
    {
     "name": "stderr",
     "output_type": "stream",
     "text": [
      "7634it [2:08:41,  1.93it/s]"
     ]
    },
    {
     "name": "stdout",
     "output_type": "stream",
     "text": [
      "(\"URL couldn't be processed: %s\", 'https://www.yan.vn/cung-ru-nhau-den-unicamp-2019-204983.html')\n"
     ]
    },
    {
     "name": "stderr",
     "output_type": "stream",
     "text": [
      "7635it [2:08:41,  2.06it/s]"
     ]
    },
    {
     "name": "stdout",
     "output_type": "stream",
     "text": [
      "(\"URL couldn't be processed: %s\", 'https://www.yan.vn/emagazine/imagine-dragons-nhung-con-rong-cung-chat-rock-thoi-thuong-320.html')\n"
     ]
    },
    {
     "name": "stderr",
     "output_type": "stream",
     "text": [
      "7636it [2:08:42,  2.22it/s]"
     ]
    },
    {
     "name": "stdout",
     "output_type": "stream",
     "text": [
      "(\"URL couldn't be processed: %s\", 'https://www.yan.vn/hoc-sinh-thpt-fpt-long-lay-tai-symphony-of-lights-200840.html')\n"
     ]
    },
    {
     "name": "stderr",
     "output_type": "stream",
     "text": [
      "7637it [2:08:42,  2.16it/s]"
     ]
    },
    {
     "name": "stdout",
     "output_type": "stream",
     "text": [
      "(\"URL couldn't be processed: %s\", 'https://www.yan.vn/thpt-khoa-hoc-tu-nhien-la-ngoi-truong-tot-nhat-viet-nam-204701.html')\n"
     ]
    },
    {
     "name": "stderr",
     "output_type": "stream",
     "text": [
      "7638it [2:08:43,  2.26it/s]"
     ]
    },
    {
     "name": "stdout",
     "output_type": "stream",
     "text": [
      "(\"URL couldn't be processed: %s\", 'https://www.yan.vn/nhom-nguy-co-cao-se-duoc-uu-tien-tiem-vaccine-covid19-256710.html')\n"
     ]
    },
    {
     "name": "stderr",
     "output_type": "stream",
     "text": [
      "7639it [2:08:43,  2.31it/s]"
     ]
    },
    {
     "name": "stdout",
     "output_type": "stream",
     "text": [
      "(\"URL couldn't be processed: %s\", 'https://www.yan.vn/emagazine/ung-xu-tren-mang-xa-hoi-ban-la-nghe-si-hay-gen-z-232.html')\n"
     ]
    },
    {
     "name": "stderr",
     "output_type": "stream",
     "text": [
      "7640it [2:08:43,  2.37it/s]"
     ]
    },
    {
     "name": "stdout",
     "output_type": "stream",
     "text": [
      "(\"URL couldn't be processed: %s\", 'https://www.yan.vn/dang-tran-tung-la-ai-thong-tin-tieu-su-cua-thay-giao-ielst-291388.html')\n"
     ]
    },
    {
     "name": "stderr",
     "output_type": "stream",
     "text": [
      "7641it [2:08:44,  2.31it/s]"
     ]
    },
    {
     "name": "stdout",
     "output_type": "stream",
     "text": [
      "(\"URL couldn't be processed: %s\", 'https://www.yan.vn/emagazine/su-chuyen-nghiep-doc-hai-noi-cong-so-676.html')\n"
     ]
    },
    {
     "name": "stderr",
     "output_type": "stream",
     "text": [
      "7642it [2:08:44,  2.38it/s]"
     ]
    },
    {
     "name": "stdout",
     "output_type": "stream",
     "text": [
      "(\"URL couldn't be processed: %s\", 'https://www.yan.vn/tienpc-anh-chang-9x-dung-sau-1-loat-fanpage-nhat-ban-289423.html')\n"
     ]
    },
    {
     "name": "stderr",
     "output_type": "stream",
     "text": [
      "7643it [2:08:45,  2.30it/s]"
     ]
    },
    {
     "name": "stdout",
     "output_type": "stream",
     "text": [
      "(\"URL couldn't be processed: %s\", 'https://www.yan.vn/giua-covid19-ben-xe-mien-dong-chat-kin-nguoi-roi-sai-gon-ve-an-tet-256923.html')\n"
     ]
    },
    {
     "name": "stderr",
     "output_type": "stream",
     "text": [
      "7644it [2:08:45,  2.37it/s]"
     ]
    },
    {
     "name": "stdout",
     "output_type": "stream",
     "text": [
      "(\"URL couldn't be processed: %s\", 'https://www.yan.vn/hieu-pc-la-mot-trong-nhung-nhan-vat-duoc-apple-vinh-danh-trong-thang-5-304230.html')\n"
     ]
    },
    {
     "name": "stderr",
     "output_type": "stream",
     "text": [
      "7645it [2:08:46,  1.81it/s]"
     ]
    },
    {
     "name": "stdout",
     "output_type": "stream",
     "text": [
      "(\"URL couldn't be processed: %s\", 'https://www.yan.vn/tp-ho-chi-minh-du-kien-tra-khu-cach-ly-ki-tuc-xa-dai-hoc-quoc-gia-227062.html')\n"
     ]
    },
    {
     "name": "stderr",
     "output_type": "stream",
     "text": [
      "7646it [2:08:46,  1.97it/s]"
     ]
    },
    {
     "name": "stdout",
     "output_type": "stream",
     "text": [
      "(\"URL couldn't be processed: %s\", 'https://www.yan.vn/nhin-lai-giai-dau-co-vua-rmit-mo-rong-lan-2-2015-75278.html')\n"
     ]
    },
    {
     "name": "stderr",
     "output_type": "stream",
     "text": [
      "7647it [2:08:47,  2.09it/s]"
     ]
    },
    {
     "name": "stdout",
     "output_type": "stream",
     "text": [
      "(\"URL couldn't be processed: %s\", 'https://www.yan.vn/tp-thu-dau-mot-go-phong-toa-som-moi-nguoi-vui-mung-ve-nha-don-tet-257624.html')\n"
     ]
    },
    {
     "name": "stderr",
     "output_type": "stream",
     "text": [
      "7648it [2:08:47,  2.17it/s]"
     ]
    },
    {
     "name": "stdout",
     "output_type": "stream",
     "text": [
      "(\"URL couldn't be processed: %s\", 'https://www.yan.vn/nhung-cap-nghe-si-it-nguoi-biet-la-vo-chong-ngoai-doi-101937.html')\n"
     ]
    },
    {
     "name": "stderr",
     "output_type": "stream",
     "text": [
      "7649it [2:08:48,  2.20it/s]"
     ]
    },
    {
     "name": "stdout",
     "output_type": "stream",
     "text": [
      "(\"URL couldn't be processed: %s\", 'https://www.yan.vn/emagazine/khi-ngoai-hinh-khong-phai-la-thu-de-mac-cam-659.html')\n"
     ]
    },
    {
     "name": "stderr",
     "output_type": "stream",
     "text": [
      "7650it [2:08:48,  1.81it/s]"
     ]
    },
    {
     "name": "stdout",
     "output_type": "stream",
     "text": [
      "(\"URL couldn't be processed: %s\", 'https://www.yan.vn/emagazine/duong-len-dinh-olympia-cu-loi-nguoc-dong-cua-thi-sinh-khong-chuyen-634.html')\n"
     ]
    },
    {
     "name": "stderr",
     "output_type": "stream",
     "text": [
      "7651it [2:08:49,  1.90it/s]"
     ]
    },
    {
     "name": "stdout",
     "output_type": "stream",
     "text": [
      "(\"URL couldn't be processed: %s\", 'https://www.yan.vn/khanh-vy-gay-thuong-nho-voi-nhan-sac-ngay-cang-thang-hang-quyen-ru-314792.html')\n"
     ]
    },
    {
     "name": "stderr",
     "output_type": "stream",
     "text": [
      "7652it [2:08:49,  1.93it/s]"
     ]
    },
    {
     "name": "stdout",
     "output_type": "stream",
     "text": [
      "(\"URL couldn't be processed: %s\", 'https://www.yan.vn/nguoi-dan-ong-van-chuyen-hang-tiep-ung-mien-phi-cho-y-bac-si-vung-dich-256945.html')\n"
     ]
    },
    {
     "name": "stderr",
     "output_type": "stream",
     "text": [
      "7653it [2:08:50,  2.07it/s]"
     ]
    },
    {
     "name": "stdout",
     "output_type": "stream",
     "text": [
      "(\"URL couldn't be processed: %s\", 'https://www.yan.vn/emagazine/lam-tu-thien-the-nao-moi-la-dung-287.html')\n"
     ]
    },
    {
     "name": "stderr",
     "output_type": "stream",
     "text": [
      "7654it [2:08:50,  2.18it/s]"
     ]
    },
    {
     "name": "stdout",
     "output_type": "stream",
     "text": [
      "(\"URL couldn't be processed: %s\", 'https://www.yan.vn/nhung-nu-streamer-nong-bong-nhat-viet-nam-182234.html')\n"
     ]
    },
    {
     "name": "stderr",
     "output_type": "stream",
     "text": [
      "7655it [2:08:51,  2.04it/s]"
     ]
    },
    {
     "name": "stdout",
     "output_type": "stream",
     "text": [
      "(\"URL couldn't be processed: %s\", 'https://www.yan.vn/tam-ngung-nghe-vj-ca-si-nicky-nhap-hoc-lam-sinh-vien-guong-mau-306730.html')\n"
     ]
    },
    {
     "name": "stderr",
     "output_type": "stream",
     "text": [
      "7656it [2:08:51,  2.15it/s]"
     ]
    },
    {
     "name": "stdout",
     "output_type": "stream",
     "text": [
      "(\"URL couldn't be processed: %s\", 'https://www.yan.vn/chay-het-minh-cung-giai-bong-ro-truyen-thong-rmit-2015-72590.html')\n"
     ]
    },
    {
     "name": "stderr",
     "output_type": "stream",
     "text": [
      "7657it [2:08:52,  2.25it/s]"
     ]
    },
    {
     "name": "stdout",
     "output_type": "stream",
     "text": [
      "(\"URL couldn't be processed: %s\", 'https://www.yan.vn/tphcm-tim-kiem-khoang-500-nguoi-du-tiec-o-nha-hang-adora-voi-bn2016-257687.html')\n"
     ]
    },
    {
     "name": "stderr",
     "output_type": "stream",
     "text": [
      "7658it [2:08:52,  2.18it/s]"
     ]
    },
    {
     "name": "stdout",
     "output_type": "stream",
     "text": [
      "(\"URL couldn't be processed: %s\", 'https://www.yan.vn/emagazine/victor-vu-tu-duy-dien-anh-thoi-thuong-trong-ca-nhung-ban-nhac-phim-280.html')\n"
     ]
    },
    {
     "name": "stderr",
     "output_type": "stream",
     "text": [
      "7659it [2:08:52,  2.30it/s]"
     ]
    },
    {
     "name": "stdout",
     "output_type": "stream",
     "text": [
      "(\"URL couldn't be processed: %s\", 'https://www.yan.vn/san-choi-van-hoa-nghe-thuat-dan-gian-hap-dan-trong-dip-le-3004-329162.html')\n"
     ]
    },
    {
     "name": "stderr",
     "output_type": "stream",
     "text": [
      "7660it [2:08:53,  1.85it/s]"
     ]
    },
    {
     "name": "stdout",
     "output_type": "stream",
     "text": [
      "(\"URL couldn't be processed: %s\", 'https://www.yan.vn/hue-quang-nam-co-the-cach-ly-nguoi-dan-tu-tphcm-ve-que-an-tet-257636.html')\n"
     ]
    },
    {
     "name": "stderr",
     "output_type": "stream",
     "text": [
      "7661it [2:08:54,  1.66it/s]"
     ]
    },
    {
     "name": "stdout",
     "output_type": "stream",
     "text": [
      "(\"URL couldn't be processed: %s\", 'https://www.yan.vn/emagazine/park-min-young-chi-hy-vong-van-duoc-lam-nhung-dieu-ban-than-thay-hanh-phuc-22.html')\n"
     ]
    },
    {
     "name": "stderr",
     "output_type": "stream",
     "text": [
      "7662it [2:08:54,  1.87it/s]"
     ]
    },
    {
     "name": "stdout",
     "output_type": "stream",
     "text": [
      "(\"URL couldn't be processed: %s\", 'https://www.yan.vn/xet-hoc-ba-nhan-hoc-bong-cham-dam-me-nganh-thiet-ke-302597.html')\n"
     ]
    },
    {
     "name": "stderr",
     "output_type": "stream",
     "text": [
      "7663it [2:08:55,  1.60it/s]"
     ]
    },
    {
     "name": "stdout",
     "output_type": "stream",
     "text": [
      "(\"URL couldn't be processed: %s\", 'https://www.yan.vn/san-bay-noi-bai-nguy-co-dong-cua-neu-co-nhan-vien-nhiem-covid19-256811.html')\n"
     ]
    },
    {
     "name": "stderr",
     "output_type": "stream",
     "text": [
      "7664it [2:08:56,  1.74it/s]"
     ]
    },
    {
     "name": "stdout",
     "output_type": "stream",
     "text": [
      "(\"URL couldn't be processed: %s\", 'https://www.yan.vn/chu-quan-bao-cong-an-bat-doan-nhap-canh-trai-phep-noi-tieng-trung-quoc-256817.html')\n"
     ]
    },
    {
     "name": "stderr",
     "output_type": "stream",
     "text": [
      "7665it [2:08:56,  1.59it/s]"
     ]
    },
    {
     "name": "stdout",
     "output_type": "stream",
     "text": [
      "(\"URL couldn't be processed: %s\", 'https://www.yan.vn/emagazine/akira-phan-mat-niem-tin-khi-nguoi-ta-den-voi-toi-chi-loi-dung-lua-gat-224.html')\n"
     ]
    },
    {
     "name": "stderr",
     "output_type": "stream",
     "text": [
      "7666it [2:08:57,  1.51it/s]"
     ]
    },
    {
     "name": "stdout",
     "output_type": "stream",
     "text": [
      "(\"URL couldn't be processed: %s\", 'https://www.yan.vn/emagazine/nhung-thang-tram-cua-tiktok-ung-dung-tung-bi-tay-chay-va-yeu-cau-xoa-so-21.html')\n"
     ]
    },
    {
     "name": "stderr",
     "output_type": "stream",
     "text": [
      "7667it [2:08:58,  1.69it/s]"
     ]
    },
    {
     "name": "stdout",
     "output_type": "stream",
     "text": [
      "(\"URL couldn't be processed: %s\", 'https://www.yan.vn/thu-khoa-dai-hoc-di-chi-vien-cho-u23-viet-nam-chua-kip-an-da-ra-san-293261.html')\n"
     ]
    },
    {
     "name": "stderr",
     "output_type": "stream",
     "text": [
      "7668it [2:08:58,  1.84it/s]"
     ]
    },
    {
     "name": "stdout",
     "output_type": "stream",
     "text": [
      "(\"URL couldn't be processed: %s\", 'https://www.yan.vn/cdm-dao-dien-voi-nhung-co-giao-9x-so-huu-ngoai-hinh-xinh-xan-186531.html')\n"
     ]
    },
    {
     "name": "stderr",
     "output_type": "stream",
     "text": [
      "7669it [2:08:59,  1.88it/s]"
     ]
    },
    {
     "name": "stdout",
     "output_type": "stream",
     "text": [
      "(\"URL couldn't be processed: %s\", 'https://www.yan.vn/emagazine/khi-su-tich-cuc-mang-toi-nhung-doc-hai-680.html')\n"
     ]
    },
    {
     "name": "stderr",
     "output_type": "stream",
     "text": [
      "7670it [2:08:59,  1.64it/s]"
     ]
    },
    {
     "name": "stdout",
     "output_type": "stream",
     "text": [
      "(\"URL couldn't be processed: %s\", 'https://www.yan.vn/emagazine/den-vau-am-nhac-thay-doi-con-nguoi-388.html')\n"
     ]
    },
    {
     "name": "stderr",
     "output_type": "stream",
     "text": [
      "7671it [2:09:00,  1.81it/s]"
     ]
    },
    {
     "name": "stdout",
     "output_type": "stream",
     "text": [
      "(\"URL couldn't be processed: %s\", 'https://www.yan.vn/nguyen-tu-quang-khi-nguoi-mo-mong-lam-cong-nghe-301333.html')\n"
     ]
    },
    {
     "name": "stderr",
     "output_type": "stream",
     "text": [
      "7672it [2:09:00,  1.89it/s]"
     ]
    },
    {
     "name": "stdout",
     "output_type": "stream",
     "text": [
      "(\"URL couldn't be processed: %s\", 'https://www.yan.vn/emagazine/con-sot-vlog-cuoc-song-miet-vuon-322.html')\n"
     ]
    },
    {
     "name": "stderr",
     "output_type": "stream",
     "text": [
      "7673it [2:09:01,  1.87it/s]"
     ]
    },
    {
     "name": "stdout",
     "output_type": "stream",
     "text": [
      "(\"URL couldn't be processed: %s\", 'https://www.yan.vn/chu-tich-fpt-telecom-hang-chuc-nghin-nv-ngan-hang-co-nguy-co-mat-viec-277029.html')\n"
     ]
    },
    {
     "name": "stderr",
     "output_type": "stream",
     "text": [
      "7674it [2:09:01,  2.01it/s]"
     ]
    },
    {
     "name": "stdout",
     "output_type": "stream",
     "text": [
      "(\"URL couldn't be processed: %s\", 'https://www.yan.vn/hfu-va-thong-diep-tu-bai-nhay-flashmob-10760.html')\n"
     ]
    },
    {
     "name": "stderr",
     "output_type": "stream",
     "text": [
      "7675it [2:09:02,  2.12it/s]"
     ]
    },
    {
     "name": "stdout",
     "output_type": "stream",
     "text": [
      "(\"URL couldn't be processed: %s\", 'https://www.yan.vn/hon-18000-ban-tre-ha-noi-quay-cuc-sung-duoi-mua-cung-happy-bee-11-300558.html')\n"
     ]
    },
    {
     "name": "stderr",
     "output_type": "stream",
     "text": [
      "7676it [2:09:02,  2.17it/s]"
     ]
    },
    {
     "name": "stdout",
     "output_type": "stream",
     "text": [
      "(\"URL couldn't be processed: %s\", 'https://www.yan.vn/cau-be-trong-damtv-tung-yeu-nguoi-mau-gio-ra-sao-260998.html')\n"
     ]
    },
    {
     "name": "stderr",
     "output_type": "stream",
     "text": [
      "7677it [2:09:02,  2.32it/s]"
     ]
    },
    {
     "name": "stdout",
     "output_type": "stream",
     "text": [
      "(\"URL couldn't be processed: %s\", 'https://www.yan.vn/hoanh-trang-voi-le-ra-quan-giai-bong-ro-truyen-thong-rmit-2015-73520.html')\n"
     ]
    },
    {
     "name": "stderr",
     "output_type": "stream",
     "text": [
      "7678it [2:09:03,  1.91it/s]"
     ]
    },
    {
     "name": "stdout",
     "output_type": "stream",
     "text": [
      "(\"URL couldn't be processed: %s\", 'https://www.yan.vn/emagazine/doi-tac-thanh-doi-dau-tu-cau-chuyen-food-review-604.html')\n"
     ]
    },
    {
     "name": "stderr",
     "output_type": "stream",
     "text": [
      "7679it [2:09:04,  2.01it/s]"
     ]
    },
    {
     "name": "stdout",
     "output_type": "stream",
     "text": [
      "(\"URL couldn't be processed: %s\", 'https://www.yan.vn/bat-ngo-truoc-the-he-gen-z-du-kien-chi-gan-ty-dong-lam-show-dien-thoi-trang-tai-ha-noi-320269.html')\n"
     ]
    },
    {
     "name": "stderr",
     "output_type": "stream",
     "text": [
      "7680it [2:09:04,  2.07it/s]"
     ]
    },
    {
     "name": "stdout",
     "output_type": "stream",
     "text": [
      "(\"URL couldn't be processed: %s\", 'https://www.yan.vn/hanh-trinh-doi-moi-vpbank-cua-chu-tich-ngo-chi-dung-305795.html')\n"
     ]
    },
    {
     "name": "stderr",
     "output_type": "stream",
     "text": [
      "7681it [2:09:04,  2.15it/s]"
     ]
    },
    {
     "name": "stdout",
     "output_type": "stream",
     "text": [
      "(\"URL couldn't be processed: %s\", 'https://www.yan.vn/bui-cong-tuyen-moi-con-nguoi-khong-chi-co-mot-niem-dam-me-273985.html')\n"
     ]
    },
    {
     "name": "stderr",
     "output_type": "stream",
     "text": [
      "7682it [2:09:05,  2.18it/s]"
     ]
    },
    {
     "name": "stdout",
     "output_type": "stream",
     "text": [
      "(\"URL couldn't be processed: %s\", 'https://www.yan.vn/cuoc-song-dang-nguong-mo-cua-chan-dai-thu-ha-gia-dinh-phep-thuat-291170.html')\n"
     ]
    },
    {
     "name": "stderr",
     "output_type": "stream",
     "text": [
      "7683it [2:09:05,  2.26it/s]"
     ]
    },
    {
     "name": "stdout",
     "output_type": "stream",
     "text": [
      "(\"URL couldn't be processed: %s\", 'https://www.yan.vn/dan-nam-sinh-2000-dang-noi-nhu-con-tren-mang-xa-hoi-gan-day-206264.html')\n"
     ]
    },
    {
     "name": "stderr",
     "output_type": "stream",
     "text": [
      "7684it [2:09:06,  1.83it/s]"
     ]
    },
    {
     "name": "stdout",
     "output_type": "stream",
     "text": [
      "(\"URL couldn't be processed: %s\", 'https://www.yan.vn/emagazine/alice-in-borderland-2-khoi-nguon-gia-tri-song-694.html')\n"
     ]
    },
    {
     "name": "stderr",
     "output_type": "stream",
     "text": [
      "7685it [2:09:07,  1.90it/s]"
     ]
    },
    {
     "name": "stdout",
     "output_type": "stream",
     "text": [
      "(\"URL couldn't be processed: %s\", 'https://www.yan.vn/so-ke-profile-khong-phai-dang-vua-cua-3-mc-ai-la-trieu-phu-253971.html')\n"
     ]
    },
    {
     "name": "stderr",
     "output_type": "stream",
     "text": [
      "7686it [2:09:07,  1.92it/s]"
     ]
    },
    {
     "name": "stdout",
     "output_type": "stream",
     "text": [
      "(\"URL couldn't be processed: %s\", 'https://www.yan.vn/emagazine/gaslighting-khi-su-thap-sang-dap-tat-cuoc-doi-345.html')\n"
     ]
    },
    {
     "name": "stderr",
     "output_type": "stream",
     "text": [
      "7687it [2:09:07,  2.06it/s]"
     ]
    },
    {
     "name": "stdout",
     "output_type": "stream",
     "text": [
      "(\"URL couldn't be processed: %s\", 'https://www.yan.vn/nguoi-tre-nguy-co-mat-viec-can-ke-lanh-dao-fpt-chi-ra-nguyen-nhan-280631.html')\n"
     ]
    },
    {
     "name": "stderr",
     "output_type": "stream",
     "text": [
      "7688it [2:09:08,  2.13it/s]"
     ]
    },
    {
     "name": "stdout",
     "output_type": "stream",
     "text": [
      "(\"URL couldn't be processed: %s\", 'https://www.yan.vn/thay-giao-hotboy-dep-trai-va-con-duong-giang-day-cung-tinh-yeu-nghe-146405.html')\n"
     ]
    },
    {
     "name": "stderr",
     "output_type": "stream",
     "text": [
      "7689it [2:09:08,  2.25it/s]"
     ]
    },
    {
     "name": "stdout",
     "output_type": "stream",
     "text": [
      "(\"URL couldn't be processed: %s\", 'https://www.yan.vn/nam-sinh-ngu-quen-duoc-csgt-ho-tong-di-thi-da-do-truong-quoc-te-244703.html')\n"
     ]
    },
    {
     "name": "stderr",
     "output_type": "stream",
     "text": [
      "7690it [2:09:09,  2.32it/s]"
     ]
    },
    {
     "name": "stdout",
     "output_type": "stream",
     "text": [
      "(\"URL couldn't be processed: %s\", 'https://www.yan.vn/33-dia-diem-tai-tphcm-phai-phong-toa-do-lien-quan-den-covid19-257596.html')\n"
     ]
    },
    {
     "name": "stderr",
     "output_type": "stream",
     "text": [
      "7691it [2:09:09,  2.33it/s]"
     ]
    },
    {
     "name": "stdout",
     "output_type": "stream",
     "text": [
      "(\"URL couldn't be processed: %s\", 'https://www.yan.vn/tinh-cu-quang-hai-cong-khai-nguoi-yeu-moi-dau-nam-da-dua-re-ve-cho-me-290661.html')\n"
     ]
    },
    {
     "name": "stderr",
     "output_type": "stream",
     "text": [
      "7692it [2:09:10,  1.85it/s]"
     ]
    },
    {
     "name": "stdout",
     "output_type": "stream",
     "text": [
      "(\"URL couldn't be processed: %s\", 'https://www.yan.vn/emagazine/luon-co-mot-a-hau-kieu-loan-ben-trong-co-ca-si-lona-285.html')\n"
     ]
    },
    {
     "name": "stderr",
     "output_type": "stream",
     "text": [
      "7693it [2:09:10,  1.98it/s]"
     ]
    },
    {
     "name": "stdout",
     "output_type": "stream",
     "text": [
      "(\"URL couldn't be processed: %s\", 'https://www.yan.vn/thay-giao-thac-si-9x-dep-trai-khien-dan-mang-rung-rinh-145695.html')\n"
     ]
    },
    {
     "name": "stderr",
     "output_type": "stream",
     "text": [
      "7694it [2:09:11,  1.91it/s]"
     ]
    },
    {
     "name": "stdout",
     "output_type": "stream",
     "text": [
      "(\"URL couldn't be processed: %s\", 'https://www.yan.vn/buc-anh-chup-len-nu-giang-vien-gay-xon-xao-cong-dong-mang-211597.html')\n"
     ]
    },
    {
     "name": "stderr",
     "output_type": "stream",
     "text": [
      "7695it [2:09:11,  2.09it/s]"
     ]
    },
    {
     "name": "stdout",
     "output_type": "stream",
     "text": [
      "(\"URL couldn't be processed: %s\", 'https://www.yan.vn/emagazine/khi-gen-z-muon-nghi-huu-som-569.html')\n"
     ]
    },
    {
     "name": "stderr",
     "output_type": "stream",
     "text": [
      "7696it [2:09:12,  2.13it/s]"
     ]
    },
    {
     "name": "stdout",
     "output_type": "stream",
     "text": [
      "(\"URL couldn't be processed: %s\", 'https://www.yan.vn/sau-covid19-dich-ebola-dot-ngot-bung-phat-tro-lai-o-guinea-257872.html')\n"
     ]
    },
    {
     "name": "stderr",
     "output_type": "stream",
     "text": [
      "7697it [2:09:12,  2.23it/s]"
     ]
    },
    {
     "name": "stdout",
     "output_type": "stream",
     "text": [
      "(\"URL couldn't be processed: %s\", 'https://www.yan.vn/phong-cach-preppy-dep-mien-che-cua-quynh-anh-shyn-81840.html')\n"
     ]
    },
    {
     "name": "stderr",
     "output_type": "stream",
     "text": [
      "7698it [2:09:13,  2.22it/s]"
     ]
    },
    {
     "name": "stdout",
     "output_type": "stream",
     "text": [
      "(\"URL couldn't be processed: %s\", 'https://www.yan.vn/gian-cach-cac-tinh-cac-tai-nang-thcs-toan-quoc-giao-luu-gap-go-qua-livestream-tren-vtv2-275123.html')\n"
     ]
    },
    {
     "name": "stderr",
     "output_type": "stream",
     "text": [
      "7699it [2:09:13,  2.29it/s]"
     ]
    },
    {
     "name": "stdout",
     "output_type": "stream",
     "text": [
      "(\"URL couldn't be processed: %s\", 'https://www.yan.vn/tphcm-them-1-ca-duong-tinh-ncov-phong-toa-hem-dong-hung-thuan-257772.html')\n"
     ]
    },
    {
     "name": "stderr",
     "output_type": "stream",
     "text": [
      "7700it [2:09:13,  2.36it/s]"
     ]
    },
    {
     "name": "stdout",
     "output_type": "stream",
     "text": [
      "(\"URL couldn't be processed: %s\", 'https://www.yan.vn/cu-ong-f0-o-ha-noi-co-mai-toc-dai-ca-met-nuoi-hon-20-nam-275845.html')\n"
     ]
    },
    {
     "name": "stderr",
     "output_type": "stream",
     "text": [
      "7701it [2:09:14,  2.42it/s]"
     ]
    },
    {
     "name": "stdout",
     "output_type": "stream",
     "text": [
      "(\"URL couldn't be processed: %s\", 'https://www.yan.vn/sau-gan-20-nam-co-be-noi-tieng-sau-su-kien-the-thao-thay-doi-nhieu-301377.html')\n"
     ]
    },
    {
     "name": "stderr",
     "output_type": "stream",
     "text": [
      "7702it [2:09:14,  2.36it/s]"
     ]
    },
    {
     "name": "stdout",
     "output_type": "stream",
     "text": [
      "(\"URL couldn't be processed: %s\", 'https://www.yan.vn/con-chat-vat-tim-tro-phu-huynh-sot-ruot-bo-tien-ty-mua-nha-cho-con-314260.html')\n"
     ]
    },
    {
     "name": "stderr",
     "output_type": "stream",
     "text": [
      "7703it [2:09:15,  1.01s/it]"
     ]
    },
    {
     "name": "stdout",
     "output_type": "stream",
     "text": [
      "(\"URL couldn't be processed: %s\", 'https://www.yan.vn/tphcm-tim-nguoi-tung-den-bv-quan-tan-binh-va-4-dia-diem-khac-257720.html')\n"
     ]
    },
    {
     "name": "stderr",
     "output_type": "stream",
     "text": [
      "\n"
     ]
    }
   ],
   "source": [
    "interval = 300\n",
    "cnt = 0\n",
    "\n",
    "for i, row in tqdm(data.iterrows()):\n",
    "    link = row[\"link\"]\n",
    "    if link in new_df['link'].values:\n",
    "        continue\n",
    "    title, time, text = utils.crawl_news_text(link, domain_time_map)\n",
    "    new_df.loc[len(new_df.index)] = [link, title, time, text]\n",
    "    cnt += 1\n",
    "\n",
    "    # save every 300 rows\n",
    "    if cnt >= interval:\n",
    "        new_df.to_csv(\"news_text_31_5.csv\", index=False)\n",
    "        print('Current number of rows:', len(new_df))\n",
    "        cnt = 0\n"
   ]
  },
  {
   "cell_type": "code",
   "execution_count": 10,
   "metadata": {},
   "outputs": [
    {
     "data": {
      "text/html": [
       "<div>\n",
       "<style scoped>\n",
       "    .dataframe tbody tr th:only-of-type {\n",
       "        vertical-align: middle;\n",
       "    }\n",
       "\n",
       "    .dataframe tbody tr th {\n",
       "        vertical-align: top;\n",
       "    }\n",
       "\n",
       "    .dataframe thead th {\n",
       "        text-align: right;\n",
       "    }\n",
       "</style>\n",
       "<table border=\"1\" class=\"dataframe\">\n",
       "  <thead>\n",
       "    <tr style=\"text-align: right;\">\n",
       "      <th></th>\n",
       "      <th>link</th>\n",
       "      <th>title</th>\n",
       "      <th>time</th>\n",
       "      <th>text</th>\n",
       "    </tr>\n",
       "  </thead>\n",
       "  <tbody>\n",
       "    <tr>\n",
       "      <th>0</th>\n",
       "      <td>https://funix.edu.vn/chan-dung-xter/cuu-sinh-v...</td>\n",
       "      <td>9x Đắk Lắk kể về hành trình trở thành Data Sci...</td>\n",
       "      <td>2023-03-10</td>\n",
       "      <td>9x Đắk Lắk kể về hành trình trở thành Data Sci...</td>\n",
       "    </tr>\n",
       "    <tr>\n",
       "      <th>1</th>\n",
       "      <td>https://funix.edu.vn/tin-tuc-funix/5-sinh-vien...</td>\n",
       "      <td>5 sinh viên FUNiX nhận bằng cử nhân đại học FPT</td>\n",
       "      <td>2023-04-20</td>\n",
       "      <td>5 sinh viên FUNiX nhận bằng cử nhân đại học FP...</td>\n",
       "    </tr>\n",
       "    <tr>\n",
       "      <th>2</th>\n",
       "      <td>https://funix.edu.vn/tin-tuc-funix/nhom-sinh-v...</td>\n",
       "      <td>Nhóm sinh viên FPT Polytechnic vào chung kết C...</td>\n",
       "      <td>2023-05-07</td>\n",
       "      <td>Nhóm sinh viên FPT Polytechnic vào chung kết C...</td>\n",
       "    </tr>\n",
       "    <tr>\n",
       "      <th>3</th>\n",
       "      <td>https://funix.edu.vn/tin-tuc-funix/sinh-vien-k...</td>\n",
       "      <td>Sinh viên khóa Khởi nghiệp của FUNiX trải nghi...</td>\n",
       "      <td>2022-10-26</td>\n",
       "      <td>Sinh viên khóa Khởi nghiệp của FUNiX trải nghi...</td>\n",
       "    </tr>\n",
       "    <tr>\n",
       "      <th>4</th>\n",
       "      <td>https://funix.edu.vn/chia-se-kien-thuc/bi-quye...</td>\n",
       "      <td>Bí quyết học online FUNiX chuyển tiếp lấy bằng...</td>\n",
       "      <td>2023-04-21</td>\n",
       "      <td>Bí quyết học online FUNiX chuyển tiếp lấy bằng...</td>\n",
       "    </tr>\n",
       "    <tr>\n",
       "      <th>...</th>\n",
       "      <td>...</td>\n",
       "      <td>...</td>\n",
       "      <td>...</td>\n",
       "      <td>...</td>\n",
       "    </tr>\n",
       "    <tr>\n",
       "      <th>7698</th>\n",
       "      <td>https://www.yan.vn/tphcm-them-1-ca-duong-tinh-...</td>\n",
       "      <td>TP.HCM: Thêm 1 ca dương tính nCoV, phong tỏa h...</td>\n",
       "      <td></td>\n",
       "      <td>Chủ tịch UBND phường Đông Hưng Thuận, quận 12 ...</td>\n",
       "    </tr>\n",
       "    <tr>\n",
       "      <th>7699</th>\n",
       "      <td>https://www.yan.vn/cu-ong-f0-o-ha-noi-co-mai-t...</td>\n",
       "      <td>Bốn nhân viên y tế cố gắng xử lý mái tóc hơn 2...</td>\n",
       "      <td></td>\n",
       "      <td>Bốn nhân viên y tế cố gắng xử lý mái tóc hơn 2...</td>\n",
       "    </tr>\n",
       "    <tr>\n",
       "      <th>7700</th>\n",
       "      <td>https://www.yan.vn/sau-gan-20-nam-co-be-noi-ti...</td>\n",
       "      <td>Sau gần 20 năm, cô bé nổi tiếng sau sự kiện th...</td>\n",
       "      <td></td>\n",
       "      <td>Sau gần 20 năm, cô bé nổi tiếng sau sự kiện th...</td>\n",
       "    </tr>\n",
       "    <tr>\n",
       "      <th>7701</th>\n",
       "      <td>https://www.yan.vn/con-chat-vat-tim-tro-phu-hu...</td>\n",
       "      <td>Con chật vật tìm trọ: Phụ huynh sốt ruột bỏ ti...</td>\n",
       "      <td></td>\n",
       "      <td>Con chật vật tìm trọ: Phụ huynh sốt ruột bỏ ti...</td>\n",
       "    </tr>\n",
       "    <tr>\n",
       "      <th>7702</th>\n",
       "      <td>https://www.yan.vn/tphcm-tim-nguoi-tung-den-bv...</td>\n",
       "      <td>TP.HCM tìm người từng đến BV quận Tân Bình và ...</td>\n",
       "      <td></td>\n",
       "      <td>TP.HCM tìm người từng đến BV quận Tân Bình và ...</td>\n",
       "    </tr>\n",
       "  </tbody>\n",
       "</table>\n",
       "<p>7703 rows × 4 columns</p>\n",
       "</div>"
      ],
      "text/plain": [
       "                                                   link   \n",
       "0     https://funix.edu.vn/chan-dung-xter/cuu-sinh-v...  \\\n",
       "1     https://funix.edu.vn/tin-tuc-funix/5-sinh-vien...   \n",
       "2     https://funix.edu.vn/tin-tuc-funix/nhom-sinh-v...   \n",
       "3     https://funix.edu.vn/tin-tuc-funix/sinh-vien-k...   \n",
       "4     https://funix.edu.vn/chia-se-kien-thuc/bi-quye...   \n",
       "...                                                 ...   \n",
       "7698  https://www.yan.vn/tphcm-them-1-ca-duong-tinh-...   \n",
       "7699  https://www.yan.vn/cu-ong-f0-o-ha-noi-co-mai-t...   \n",
       "7700  https://www.yan.vn/sau-gan-20-nam-co-be-noi-ti...   \n",
       "7701  https://www.yan.vn/con-chat-vat-tim-tro-phu-hu...   \n",
       "7702  https://www.yan.vn/tphcm-tim-nguoi-tung-den-bv...   \n",
       "\n",
       "                                                  title        time   \n",
       "0     9x Đắk Lắk kể về hành trình trở thành Data Sci...  2023-03-10  \\\n",
       "1     5 sinh viên FUNiX nhận bằng cử nhân đại học FPT    2023-04-20   \n",
       "2     Nhóm sinh viên FPT Polytechnic vào chung kết C...  2023-05-07   \n",
       "3     Sinh viên khóa Khởi nghiệp của FUNiX trải nghi...  2022-10-26   \n",
       "4     Bí quyết học online FUNiX chuyển tiếp lấy bằng...  2023-04-21   \n",
       "...                                                 ...         ...   \n",
       "7698  TP.HCM: Thêm 1 ca dương tính nCoV, phong tỏa h...               \n",
       "7699  Bốn nhân viên y tế cố gắng xử lý mái tóc hơn 2...               \n",
       "7700  Sau gần 20 năm, cô bé nổi tiếng sau sự kiện th...               \n",
       "7701  Con chật vật tìm trọ: Phụ huynh sốt ruột bỏ ti...               \n",
       "7702  TP.HCM tìm người từng đến BV quận Tân Bình và ...               \n",
       "\n",
       "                                                   text  \n",
       "0     9x Đắk Lắk kể về hành trình trở thành Data Sci...  \n",
       "1     5 sinh viên FUNiX nhận bằng cử nhân đại học FP...  \n",
       "2     Nhóm sinh viên FPT Polytechnic vào chung kết C...  \n",
       "3     Sinh viên khóa Khởi nghiệp của FUNiX trải nghi...  \n",
       "4     Bí quyết học online FUNiX chuyển tiếp lấy bằng...  \n",
       "...                                                 ...  \n",
       "7698  Chủ tịch UBND phường Đông Hưng Thuận, quận 12 ...  \n",
       "7699  Bốn nhân viên y tế cố gắng xử lý mái tóc hơn 2...  \n",
       "7700  Sau gần 20 năm, cô bé nổi tiếng sau sự kiện th...  \n",
       "7701  Con chật vật tìm trọ: Phụ huynh sốt ruột bỏ ti...  \n",
       "7702  TP.HCM tìm người từng đến BV quận Tân Bình và ...  \n",
       "\n",
       "[7703 rows x 4 columns]"
      ]
     },
     "execution_count": 10,
     "metadata": {},
     "output_type": "execute_result"
    }
   ],
   "source": [
    "new_df"
   ]
  },
  {
   "cell_type": "code",
   "execution_count": 11,
   "metadata": {},
   "outputs": [],
   "source": [
    "new_df.to_csv(\"news_text.csv\", index=False)"
   ]
  },
  {
   "cell_type": "code",
   "execution_count": null,
   "metadata": {},
   "outputs": [],
   "source": []
  }
 ],
 "metadata": {
  "kernelspec": {
   "display_name": "Python 3.9.16 ('namph')",
   "language": "python",
   "name": "python3"
  },
  "language_info": {
   "codemirror_mode": {
    "name": "ipython",
    "version": 3
   },
   "file_extension": ".py",
   "mimetype": "text/x-python",
   "name": "python",
   "nbconvert_exporter": "python",
   "pygments_lexer": "ipython3",
   "version": "3.8.16"
  },
  "orig_nbformat": 4,
  "vscode": {
   "interpreter": {
    "hash": "f3956098809fbecdb0cd9151aa3d96b93ad3c7565181a3f5ad9a456aaf113d5a"
   }
  }
 },
 "nbformat": 4,
 "nbformat_minor": 2
}
