{
 "cells": [
  {
   "cell_type": "code",
   "execution_count": 2,
   "metadata": {},
   "outputs": [],
   "source": [
    "from bs4 import BeautifulSoup\n",
    "import os\n",
    "import json\n",
    "import utils\n",
    "import pandas as pd\n",
    "from tqdm import tqdm"
   ]
  },
  {
   "cell_type": "code",
   "execution_count": 3,
   "metadata": {},
   "outputs": [],
   "source": [
    "# data = pd.read_csv(os.path.join(\".\", \"test.csv\"), index_col=0)\n",
    "data = pd.read_csv(os.path.join(\"../Link\", \"news_data_29_05.csv\"), index_col=False)\n",
    "# data = pd.read_csv(os.path.join(\".\", \"news_data_25_5.csv\"), index_col=0)"
   ]
  },
  {
   "cell_type": "code",
   "execution_count": 4,
   "metadata": {},
   "outputs": [
    {
     "data": {
      "text/plain": [
       "(7703, 2)"
      ]
     },
     "execution_count": 4,
     "metadata": {},
     "output_type": "execute_result"
    }
   ],
   "source": [
    "data.head()\n",
    "data.shape"
   ]
  },
  {
   "cell_type": "code",
   "execution_count": 5,
   "metadata": {},
   "outputs": [],
   "source": [
    "# new_df = pd.DataFrame(columns=[\"link\", \"title\", \"time\", \"text\"])\n",
    "new_df = pd.read_csv('news_text_31_5.csv')"
   ]
  },
  {
   "cell_type": "code",
   "execution_count": 6,
   "metadata": {},
   "outputs": [],
   "source": [
    "domain_time_map = json.load(open(\"domain_time_map.json\"))"
   ]
  },
  {
   "cell_type": "code",
   "execution_count": 7,
   "metadata": {},
   "outputs": [],
   "source": [
    "remove_col = 'Unnamed: 0'\n",
    "\n",
    "if remove_col in new_df.columns.to_list():\n",
    "    new_df.drop(columns=remove_col, inplace=True)"
   ]
  },
  {
   "cell_type": "code",
   "execution_count": 8,
   "metadata": {},
   "outputs": [
    {
     "data": {
      "text/plain": [
       "3008"
      ]
     },
     "execution_count": 8,
     "metadata": {},
     "output_type": "execute_result"
    }
   ],
   "source": [
    "len(new_df)"
   ]
  },
  {
   "cell_type": "code",
   "execution_count": 9,
   "metadata": {},
   "outputs": [
    {
     "name": "stderr",
     "output_type": "stream",
     "text": [
      "3308it [15:36,  1.13s/it]  "
     ]
    },
    {
     "name": "stdout",
     "output_type": "stream",
     "text": [
      "Current number of rows: 3308\n"
     ]
    },
    {
     "name": "stderr",
     "output_type": "stream",
     "text": [
      "3608it [24:45,  1.11s/it]"
     ]
    },
    {
     "name": "stdout",
     "output_type": "stream",
     "text": [
      "Current number of rows: 3608\n"
     ]
    },
    {
     "name": "stderr",
     "output_type": "stream",
     "text": [
      "3908it [44:53, 23.12s/it]"
     ]
    },
    {
     "name": "stdout",
     "output_type": "stream",
     "text": [
      "Current number of rows: 3908\n"
     ]
    },
    {
     "name": "stderr",
     "output_type": "stream",
     "text": [
      "4208it [49:56,  1.66s/it]"
     ]
    },
    {
     "name": "stdout",
     "output_type": "stream",
     "text": [
      "Current number of rows: 4208\n"
     ]
    },
    {
     "name": "stderr",
     "output_type": "stream",
     "text": [
      "4508it [53:32,  1.55s/it]"
     ]
    },
    {
     "name": "stdout",
     "output_type": "stream",
     "text": [
      "Current number of rows: 4508\n"
     ]
    },
    {
     "name": "stderr",
     "output_type": "stream",
     "text": [
      "4808it [56:49,  1.52s/it]"
     ]
    },
    {
     "name": "stdout",
     "output_type": "stream",
     "text": [
      "Current number of rows: 4808\n"
     ]
    },
    {
     "name": "stderr",
     "output_type": "stream",
     "text": [
      "5108it [59:48,  1.51s/it]"
     ]
    },
    {
     "name": "stdout",
     "output_type": "stream",
     "text": [
      "Current number of rows: 5108\n"
     ]
    },
    {
     "name": "stderr",
     "output_type": "stream",
     "text": [
      "5334it [1:02:04,  2.07it/s]"
     ]
    },
    {
     "name": "stdout",
     "output_type": "stream",
     "text": [
      "(\"URL couldn't be processed: %s\", 'https://cantho.fpt.edu.vn/gan-70-hoc-sinh-trong-doi-tuyen-du-thi-hoc-sinh-gioi-quoc-gia-2018-2019-tham-du-tap-huan-tai-dai-hoc-fpt-can-tho-2')\n"
     ]
    },
    {
     "name": "stderr",
     "output_type": "stream",
     "text": [
      "5408it [1:03:12,  1.60s/it]"
     ]
    },
    {
     "name": "stdout",
     "output_type": "stream",
     "text": [
      "Current number of rows: 5408\n"
     ]
    },
    {
     "name": "stderr",
     "output_type": "stream",
     "text": [
      "5708it [1:17:53,  4.35s/it]"
     ]
    },
    {
     "name": "stdout",
     "output_type": "stream",
     "text": [
      "Current number of rows: 5708\n"
     ]
    },
    {
     "name": "stderr",
     "output_type": "stream",
     "text": [
      "5746it [1:23:25, 11.37s/it]"
     ]
    }
   ],
   "source": [
    "interval = 300\n",
    "cnt = 0\n",
    "\n",
    "for i, row in tqdm(data.iterrows()):\n",
    "    link = row[\"link\"]\n",
    "    if link in new_df['link'].values:\n",
    "        continue\n",
    "    title, time, text = utils.crawl_news_text(link, domain_time_map)\n",
    "    new_df.loc[len(new_df.index)] = [link, title, time, text]\n",
    "    cnt += 1\n",
    "\n",
    "    # save every 300 rows\n",
    "    if cnt >= interval:\n",
    "        new_df.to_csv(\"news_text_31_5.csv\", index=False)\n",
    "        print('Current number of rows:', len(new_df))\n",
    "        cnt = 0\n"
   ]
  },
  {
   "cell_type": "code",
   "execution_count": null,
   "metadata": {},
   "outputs": [
    {
     "data": {
      "text/html": [
       "<div>\n",
       "<style scoped>\n",
       "    .dataframe tbody tr th:only-of-type {\n",
       "        vertical-align: middle;\n",
       "    }\n",
       "\n",
       "    .dataframe tbody tr th {\n",
       "        vertical-align: top;\n",
       "    }\n",
       "\n",
       "    .dataframe thead th {\n",
       "        text-align: right;\n",
       "    }\n",
       "</style>\n",
       "<table border=\"1\" class=\"dataframe\">\n",
       "  <thead>\n",
       "    <tr style=\"text-align: right;\">\n",
       "      <th></th>\n",
       "      <th>link</th>\n",
       "      <th>title</th>\n",
       "      <th>time</th>\n",
       "      <th>text</th>\n",
       "    </tr>\n",
       "  </thead>\n",
       "  <tbody>\n",
       "    <tr>\n",
       "      <th>0</th>\n",
       "      <td>https://zingnews.vn/dan-hoc-sinh-gioi-quoc-gia...</td>\n",
       "      <td>Dàn học sinh giỏi quốc gia chia sẻ bí quyết să...</td>\n",
       "      <td>Thứ tư, 22/2/2023 08:00 (GMT+7)</td>\n",
       "      <td>Dàn học sinh giỏi quốc gia chia sẻ bí quyết să...</td>\n",
       "    </tr>\n",
       "    <tr>\n",
       "      <th>1</th>\n",
       "      <td>https://zingnews.vn/open-z-2023-ngay-hoi-huong...</td>\n",
       "      <td>Open Z 2023 - ngày hội hướng nghiệp multimedia...</td>\n",
       "      <td>Chủ nhật, 12/3/2023 13:00 (GMT+7)</td>\n",
       "      <td>Sau ngày khai trương cơ sở đào tạo tại Vạn Phú...</td>\n",
       "    </tr>\n",
       "    <tr>\n",
       "      <th>2</th>\n",
       "      <td>https://zingnews.vn/du-hoc-mba-anh-quoc-tai-vi...</td>\n",
       "      <td>'Du học' MBA Anh Quốc tại Việt Nam với học bổn...</td>\n",
       "      <td>Thứ sáu, 21/10/2022 09:00 (GMT+7)</td>\n",
       "      <td>'Du học' MBA Anh Quốc tại Việt Nam với học bổn...</td>\n",
       "    </tr>\n",
       "    <tr>\n",
       "      <th>3</th>\n",
       "      <td>https://zingnews.vn/gan-500-ban-tre-tphcm-tham...</td>\n",
       "      <td>Gần 500 bạn trẻ TP.HCM tham gia ngày hội hướng...</td>\n",
       "      <td>Thứ sáu, 17/3/2023 10:00 (GMT+7)</td>\n",
       "      <td>Gần 500 bạn trẻ TP.HCM tham gia ngày hội hướng...</td>\n",
       "    </tr>\n",
       "    <tr>\n",
       "      <th>4</th>\n",
       "      <td>https://zingnews.vn/khai-mac-giai-the-thao-sin...</td>\n",
       "      <td>Khai mạc giải Thể thao Sinh viên Việt Nam 2023...</td>\n",
       "      <td>Thứ hai, 3/4/2023 18:00 (GMT+7)</td>\n",
       "      <td>Khai mạc giải Thể thao Sinh viên Việt Nam 2023...</td>\n",
       "    </tr>\n",
       "    <tr>\n",
       "      <th>...</th>\n",
       "      <td>...</td>\n",
       "      <td>...</td>\n",
       "      <td>...</td>\n",
       "      <td>...</td>\n",
       "    </tr>\n",
       "    <tr>\n",
       "      <th>7085</th>\n",
       "      <td>https://vtc.vn/sinh-vien-indonesia-sap-sang-vi...</td>\n",
       "      <td>Sinh viên Indonesia sắp sang Việt Nam học</td>\n",
       "      <td></td>\n",
       "      <td>Trong cuộc họp, hai bên đã thảo luận và đi đến...</td>\n",
       "    </tr>\n",
       "    <tr>\n",
       "      <th>7086</th>\n",
       "      <td>https://vtc.vn/chang-trai-bai-liet-do-thu-khoa...</td>\n",
       "      <td>Chàng trai bại liệt đỗ thủ khoa đại học</td>\n",
       "      <td></td>\n",
       "      <td>Khi theo học ngành Kỹ nghệ phần mềm với lập tr...</td>\n",
       "    </tr>\n",
       "    <tr>\n",
       "      <th>7087</th>\n",
       "      <td>https://vtc.vn/ung-dung-giup-98-sinh-vien-dang...</td>\n",
       "      <td>Ứng dụng giúp 98% sinh viên đăng ký học phần ...</td>\n",
       "      <td></td>\n",
       "      <td>Ứng diện phần mềm quản lý Đại học Eduprove cho...</td>\n",
       "    </tr>\n",
       "    <tr>\n",
       "      <th>7088</th>\n",
       "      <td>https://vtc.vn/giao-duc/tra-cuu-diem-thi-thpt-...</td>\n",
       "      <td>Tra cứu điểm thi THPT quốc gia 2016 cả các th...</td>\n",
       "      <td></td>\n",
       "      <td>Khác với các hệ thống tra cứu điểm thi hiện na...</td>\n",
       "    </tr>\n",
       "    <tr>\n",
       "      <th>7089</th>\n",
       "      <td>https://vtc.vn/thoi-tiet-ngay-22-5-bac-va-trun...</td>\n",
       "      <td>Thời tiết ngày 22/5: Bắc và Trung Bộ nắng nón...</td>\n",
       "      <td></td>\n",
       "      <td>Thời tiết ngày 22/5: Bắc và Trung Bộ nắng nóng...</td>\n",
       "    </tr>\n",
       "  </tbody>\n",
       "</table>\n",
       "<p>7090 rows × 4 columns</p>\n",
       "</div>"
      ],
      "text/plain": [
       "                                                   link   \n",
       "0     https://zingnews.vn/dan-hoc-sinh-gioi-quoc-gia...  \\\n",
       "1     https://zingnews.vn/open-z-2023-ngay-hoi-huong...   \n",
       "2     https://zingnews.vn/du-hoc-mba-anh-quoc-tai-vi...   \n",
       "3     https://zingnews.vn/gan-500-ban-tre-tphcm-tham...   \n",
       "4     https://zingnews.vn/khai-mac-giai-the-thao-sin...   \n",
       "...                                                 ...   \n",
       "7085  https://vtc.vn/sinh-vien-indonesia-sap-sang-vi...   \n",
       "7086  https://vtc.vn/chang-trai-bai-liet-do-thu-khoa...   \n",
       "7087  https://vtc.vn/ung-dung-giup-98-sinh-vien-dang...   \n",
       "7088  https://vtc.vn/giao-duc/tra-cuu-diem-thi-thpt-...   \n",
       "7089  https://vtc.vn/thoi-tiet-ngay-22-5-bac-va-trun...   \n",
       "\n",
       "                                                  title   \n",
       "0     Dàn học sinh giỏi quốc gia chia sẻ bí quyết să...  \\\n",
       "1     Open Z 2023 - ngày hội hướng nghiệp multimedia...   \n",
       "2     'Du học' MBA Anh Quốc tại Việt Nam với học bổn...   \n",
       "3     Gần 500 bạn trẻ TP.HCM tham gia ngày hội hướng...   \n",
       "4     Khai mạc giải Thể thao Sinh viên Việt Nam 2023...   \n",
       "...                                                 ...   \n",
       "7085         Sinh viên Indonesia sắp sang Việt Nam học    \n",
       "7086           Chàng trai bại liệt đỗ thủ khoa đại học    \n",
       "7087   Ứng dụng giúp 98% sinh viên đăng ký học phần ...   \n",
       "7088   Tra cứu điểm thi THPT quốc gia 2016 cả các th...   \n",
       "7089   Thời tiết ngày 22/5: Bắc và Trung Bộ nắng nón...   \n",
       "\n",
       "                                   time   \n",
       "0       Thứ tư, 22/2/2023 08:00 (GMT+7)  \\\n",
       "1     Chủ nhật, 12/3/2023 13:00 (GMT+7)   \n",
       "2     Thứ sáu, 21/10/2022 09:00 (GMT+7)   \n",
       "3      Thứ sáu, 17/3/2023 10:00 (GMT+7)   \n",
       "4       Thứ hai, 3/4/2023 18:00 (GMT+7)   \n",
       "...                                 ...   \n",
       "7085                                      \n",
       "7086                                      \n",
       "7087                                      \n",
       "7088                                      \n",
       "7089                                      \n",
       "\n",
       "                                                   text  \n",
       "0     Dàn học sinh giỏi quốc gia chia sẻ bí quyết să...  \n",
       "1     Sau ngày khai trương cơ sở đào tạo tại Vạn Phú...  \n",
       "2     'Du học' MBA Anh Quốc tại Việt Nam với học bổn...  \n",
       "3     Gần 500 bạn trẻ TP.HCM tham gia ngày hội hướng...  \n",
       "4     Khai mạc giải Thể thao Sinh viên Việt Nam 2023...  \n",
       "...                                                 ...  \n",
       "7085  Trong cuộc họp, hai bên đã thảo luận và đi đến...  \n",
       "7086  Khi theo học ngành Kỹ nghệ phần mềm với lập tr...  \n",
       "7087  Ứng diện phần mềm quản lý Đại học Eduprove cho...  \n",
       "7088  Khác với các hệ thống tra cứu điểm thi hiện na...  \n",
       "7089  Thời tiết ngày 22/5: Bắc và Trung Bộ nắng nóng...  \n",
       "\n",
       "[7090 rows x 4 columns]"
      ]
     },
     "execution_count": 9,
     "metadata": {},
     "output_type": "execute_result"
    }
   ],
   "source": [
    "new_df"
   ]
  },
  {
   "cell_type": "code",
   "execution_count": null,
   "metadata": {},
   "outputs": [],
   "source": [
    "new_df.to_csv(\"news_text.csv\", index=False)"
   ]
  },
  {
   "cell_type": "code",
   "execution_count": null,
   "metadata": {},
   "outputs": [],
   "source": []
  }
 ],
 "metadata": {
  "kernelspec": {
   "display_name": "Python 3.9.16 ('namph')",
   "language": "python",
   "name": "python3"
  },
  "language_info": {
   "codemirror_mode": {
    "name": "ipython",
    "version": 3
   },
   "file_extension": ".py",
   "mimetype": "text/x-python",
   "name": "python",
   "nbconvert_exporter": "python",
   "pygments_lexer": "ipython3",
   "version": "3.8.16"
  },
  "orig_nbformat": 4,
  "vscode": {
   "interpreter": {
    "hash": "f3956098809fbecdb0cd9151aa3d96b93ad3c7565181a3f5ad9a456aaf113d5a"
   }
  }
 },
 "nbformat": 4,
 "nbformat_minor": 2
}
