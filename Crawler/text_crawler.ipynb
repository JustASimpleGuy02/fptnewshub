{
 "cells": [
  {
   "cell_type": "code",
   "execution_count": 1,
   "metadata": {},
   "outputs": [],
   "source": [
    "from bs4 import BeautifulSoup\n",
    "import os\n",
    "import json\n",
    "import utils\n",
    "import pandas as pd\n",
    "from tqdm import tqdm"
   ]
  },
  {
   "cell_type": "code",
   "execution_count": 2,
   "metadata": {},
   "outputs": [],
   "source": [
    "# data = pd.read_csv(os.path.join(\".\", \"test.csv\"), index_col=0)\n",
    "data = pd.read_csv(os.path.join(\".\", \"news_data.csv\"), index_col=0)\n",
    "# data = pd.read_csv(os.path.join(\".\", \"news_data_25_5.csv\"), index_col=0)"
   ]
  },
  {
   "cell_type": "code",
   "execution_count": 3,
   "metadata": {},
   "outputs": [
    {
     "data": {
      "text/plain": [
       "(9434, 1)"
      ]
     },
     "execution_count": 3,
     "metadata": {},
     "output_type": "execute_result"
    }
   ],
   "source": [
    "data.head()\n",
    "data.shape"
   ]
  },
  {
   "cell_type": "code",
   "execution_count": 4,
   "metadata": {},
   "outputs": [],
   "source": [
    "new_df = pd.DataFrame(columns=[\"link\", \"title\", \"time\", \"text\"])\n",
    "# new_df = pd.read_csv('news_text.csv')"
   ]
  },
  {
   "cell_type": "code",
   "execution_count": 5,
   "metadata": {},
   "outputs": [],
   "source": [
    "domain_time_map = json.load(open(\"domain_time_map.json\"))"
   ]
  },
  {
   "cell_type": "code",
   "execution_count": 31,
   "metadata": {},
   "outputs": [
    {
     "data": {
      "text/plain": [
       "2854"
      ]
     },
     "execution_count": 31,
     "metadata": {},
     "output_type": "execute_result"
    }
   ],
   "source": [
    "len(new_df)"
   ]
  },
  {
   "cell_type": "code",
   "execution_count": 35,
   "metadata": {},
   "outputs": [
    {
     "name": "stderr",
     "output_type": "stream",
     "text": [
      "3269it [18:53, 10.65s/it]   "
     ]
    },
    {
     "name": "stdout",
     "output_type": "stream",
     "text": [
      "Current number of rows: 3182\n"
     ]
    },
    {
     "name": "stderr",
     "output_type": "stream",
     "text": [
      "3294it [19:16,  1.03it/s]"
     ]
    }
   ],
   "source": [
    "interval = 300\n",
    "cnt = 0\n",
    "\n",
    "for i, row in tqdm(data.iterrows()):\n",
    "    link = row[\"link\"]\n",
    "    if link in new_df['link'].values:\n",
    "        continue\n",
    "    title, time, text = utils.crawl_news_text(link, domain_time_map)\n",
    "    new_df.loc[len(new_df.index)] = [link, title, time, text]\n",
    "    cnt += 1\n",
    "\n",
    "    # save every 300 rows\n",
    "    if cnt >= interval:\n",
    "        new_df.to_csv(\"news_text.csv\")\n",
    "        print('Current number of rows:', len(new_df))\n",
    "        cnt = 0\n"
   ]
  },
  {
   "cell_type": "code",
   "execution_count": 33,
   "metadata": {},
   "outputs": [
    {
     "data": {
      "text/html": [
       "<div>\n",
       "<style scoped>\n",
       "    .dataframe tbody tr th:only-of-type {\n",
       "        vertical-align: middle;\n",
       "    }\n",
       "\n",
       "    .dataframe tbody tr th {\n",
       "        vertical-align: top;\n",
       "    }\n",
       "\n",
       "    .dataframe thead th {\n",
       "        text-align: right;\n",
       "    }\n",
       "</style>\n",
       "<table border=\"1\" class=\"dataframe\">\n",
       "  <thead>\n",
       "    <tr style=\"text-align: right;\">\n",
       "      <th></th>\n",
       "      <th>link</th>\n",
       "      <th>title</th>\n",
       "      <th>time</th>\n",
       "      <th>text</th>\n",
       "    </tr>\n",
       "  </thead>\n",
       "  <tbody>\n",
       "    <tr>\n",
       "      <th>0</th>\n",
       "      <td>https://zingnews.vn/dan-hoc-sinh-gioi-quoc-gia...</td>\n",
       "      <td>Dàn học sinh giỏi quốc gia chia sẻ bí quyết să...</td>\n",
       "      <td>Thứ tư, 22/2/2023 08:00 (GMT+7)</td>\n",
       "      <td>Dàn học sinh giỏi quốc gia chia sẻ bí quyết să...</td>\n",
       "    </tr>\n",
       "    <tr>\n",
       "      <th>1</th>\n",
       "      <td>https://zingnews.vn/open-z-2023-ngay-hoi-huong...</td>\n",
       "      <td>Open Z 2023 - ngày hội hướng nghiệp multimedia...</td>\n",
       "      <td>Chủ nhật, 12/3/2023 13:00 (GMT+7)</td>\n",
       "      <td>Sau ngày khai trương cơ sở đào tạo tại Vạn Phú...</td>\n",
       "    </tr>\n",
       "    <tr>\n",
       "      <th>2</th>\n",
       "      <td>https://zingnews.vn/du-hoc-mba-anh-quoc-tai-vi...</td>\n",
       "      <td>'Du học' MBA Anh Quốc tại Việt Nam với học bổn...</td>\n",
       "      <td>Thứ sáu, 21/10/2022 09:00 (GMT+7)</td>\n",
       "      <td>'Du học' MBA Anh Quốc tại Việt Nam với học bổn...</td>\n",
       "    </tr>\n",
       "    <tr>\n",
       "      <th>3</th>\n",
       "      <td>https://zingnews.vn/gan-500-ban-tre-tphcm-tham...</td>\n",
       "      <td>Gần 500 bạn trẻ TP.HCM tham gia ngày hội hướng...</td>\n",
       "      <td>Thứ sáu, 17/3/2023 10:00 (GMT+7)</td>\n",
       "      <td>Gần 500 bạn trẻ TP.HCM tham gia ngày hội hướng...</td>\n",
       "    </tr>\n",
       "    <tr>\n",
       "      <th>4</th>\n",
       "      <td>https://zingnews.vn/khai-mac-giai-the-thao-sin...</td>\n",
       "      <td>Khai mạc giải Thể thao Sinh viên Việt Nam 2023...</td>\n",
       "      <td>Thứ hai, 3/4/2023 18:00 (GMT+7)</td>\n",
       "      <td>Khai mạc giải Thể thao Sinh viên Việt Nam 2023...</td>\n",
       "    </tr>\n",
       "    <tr>\n",
       "      <th>...</th>\n",
       "      <td>...</td>\n",
       "      <td>...</td>\n",
       "      <td>...</td>\n",
       "      <td>...</td>\n",
       "    </tr>\n",
       "    <tr>\n",
       "      <th>2877</th>\n",
       "      <td>https://chungta.vn/video/nhieu-thi-sinh-ngoai-...</td>\n",
       "      <td>Nhiều thí sinh 'ngoại tộc' trúng tuyển Đoàn v...</td>\n",
       "      <td>Thứ năm, 29/10/2015 | 12:18 GMT+7</td>\n",
       "      <td>Nhiều thí sinh 'ngoại tộc' trúng tuyển Đoàn vă...</td>\n",
       "    </tr>\n",
       "    <tr>\n",
       "      <th>2878</th>\n",
       "      <td>https://chungta.vn/ho-viet/bat-mach-he-thong-q...</td>\n",
       "      <td>'Bắt mạch' hệ thống quản trị miễn phí cho doa...</td>\n",
       "      <td>Thứ hai, 2/11/2015 | 18:15 GMT+7</td>\n",
       "      <td>'Bắt mạch' hệ thống quản trị miễn phí cho doan...</td>\n",
       "    </tr>\n",
       "    <tr>\n",
       "      <th>2879</th>\n",
       "      <td>https://chungta.vn/chan-dung/nu-giang-vien-bie...</td>\n",
       "      <td>Nữ giảng viên biết chơi 6 nhạc cụ</td>\n",
       "      <td>Thứ tư, 28/10/2015 | 15:23 GMT+7</td>\n",
       "      <td>Biết chơi cả đàn Tỳ bà, đàn Tranh, đàn Đáy, đà...</td>\n",
       "    </tr>\n",
       "    <tr>\n",
       "      <th>2880</th>\n",
       "      <td>https://chungta.vn/kinh-doanh/dh-fpt-tuyen-tha...</td>\n",
       "      <td>ĐH FPT tuyển thẳng thí sinh đạt giải cao tại ...</td>\n",
       "      <td>Thứ tư, 28/10/2015 | 11:41 GMT+7</td>\n",
       "      <td>ĐH FPT tuyển thẳng thí sinh đạt giải cao tại V...</td>\n",
       "    </tr>\n",
       "    <tr>\n",
       "      <th>2881</th>\n",
       "      <td>https://chungta.vn/video/sach-giup-hoc-sinh-ta...</td>\n",
       "      <td>'Sách giúp học sinh tạo ra không khí học tập ...</td>\n",
       "      <td>Thứ hai, 2/11/2015 | 11:00 GMT+7</td>\n",
       "      <td>'Sách giúp học sinh tạo ra không khí học tập s...</td>\n",
       "    </tr>\n",
       "  </tbody>\n",
       "</table>\n",
       "<p>2882 rows × 4 columns</p>\n",
       "</div>"
      ],
      "text/plain": [
       "                                                   link   \n",
       "0     https://zingnews.vn/dan-hoc-sinh-gioi-quoc-gia...  \\\n",
       "1     https://zingnews.vn/open-z-2023-ngay-hoi-huong...   \n",
       "2     https://zingnews.vn/du-hoc-mba-anh-quoc-tai-vi...   \n",
       "3     https://zingnews.vn/gan-500-ban-tre-tphcm-tham...   \n",
       "4     https://zingnews.vn/khai-mac-giai-the-thao-sin...   \n",
       "...                                                 ...   \n",
       "2877  https://chungta.vn/video/nhieu-thi-sinh-ngoai-...   \n",
       "2878  https://chungta.vn/ho-viet/bat-mach-he-thong-q...   \n",
       "2879  https://chungta.vn/chan-dung/nu-giang-vien-bie...   \n",
       "2880  https://chungta.vn/kinh-doanh/dh-fpt-tuyen-tha...   \n",
       "2881  https://chungta.vn/video/sach-giup-hoc-sinh-ta...   \n",
       "\n",
       "                                                  title   \n",
       "0     Dàn học sinh giỏi quốc gia chia sẻ bí quyết să...  \\\n",
       "1     Open Z 2023 - ngày hội hướng nghiệp multimedia...   \n",
       "2     'Du học' MBA Anh Quốc tại Việt Nam với học bổn...   \n",
       "3     Gần 500 bạn trẻ TP.HCM tham gia ngày hội hướng...   \n",
       "4     Khai mạc giải Thể thao Sinh viên Việt Nam 2023...   \n",
       "...                                                 ...   \n",
       "2877   Nhiều thí sinh 'ngoại tộc' trúng tuyển Đoàn v...   \n",
       "2878   'Bắt mạch' hệ thống quản trị miễn phí cho doa...   \n",
       "2879                 Nữ giảng viên biết chơi 6 nhạc cụ    \n",
       "2880   ĐH FPT tuyển thẳng thí sinh đạt giải cao tại ...   \n",
       "2881   'Sách giúp học sinh tạo ra không khí học tập ...   \n",
       "\n",
       "                                   time   \n",
       "0       Thứ tư, 22/2/2023 08:00 (GMT+7)  \\\n",
       "1     Chủ nhật, 12/3/2023 13:00 (GMT+7)   \n",
       "2     Thứ sáu, 21/10/2022 09:00 (GMT+7)   \n",
       "3      Thứ sáu, 17/3/2023 10:00 (GMT+7)   \n",
       "4       Thứ hai, 3/4/2023 18:00 (GMT+7)   \n",
       "...                                 ...   \n",
       "2877  Thứ năm, 29/10/2015 | 12:18 GMT+7   \n",
       "2878   Thứ hai, 2/11/2015 | 18:15 GMT+7   \n",
       "2879   Thứ tư, 28/10/2015 | 15:23 GMT+7   \n",
       "2880   Thứ tư, 28/10/2015 | 11:41 GMT+7   \n",
       "2881   Thứ hai, 2/11/2015 | 11:00 GMT+7   \n",
       "\n",
       "                                                   text  \n",
       "0     Dàn học sinh giỏi quốc gia chia sẻ bí quyết să...  \n",
       "1     Sau ngày khai trương cơ sở đào tạo tại Vạn Phú...  \n",
       "2     'Du học' MBA Anh Quốc tại Việt Nam với học bổn...  \n",
       "3     Gần 500 bạn trẻ TP.HCM tham gia ngày hội hướng...  \n",
       "4     Khai mạc giải Thể thao Sinh viên Việt Nam 2023...  \n",
       "...                                                 ...  \n",
       "2877  Nhiều thí sinh 'ngoại tộc' trúng tuyển Đoàn vă...  \n",
       "2878  'Bắt mạch' hệ thống quản trị miễn phí cho doan...  \n",
       "2879  Biết chơi cả đàn Tỳ bà, đàn Tranh, đàn Đáy, đà...  \n",
       "2880  ĐH FPT tuyển thẳng thí sinh đạt giải cao tại V...  \n",
       "2881  'Sách giúp học sinh tạo ra không khí học tập s...  \n",
       "\n",
       "[2882 rows x 4 columns]"
      ]
     },
     "execution_count": 33,
     "metadata": {},
     "output_type": "execute_result"
    }
   ],
   "source": [
    "new_df"
   ]
  },
  {
   "cell_type": "code",
   "execution_count": 34,
   "metadata": {},
   "outputs": [],
   "source": [
    "new_df.to_csv(\"news_text.csv\")"
   ]
  },
  {
   "cell_type": "code",
   "execution_count": null,
   "metadata": {},
   "outputs": [],
   "source": []
  }
 ],
 "metadata": {
  "kernelspec": {
   "display_name": "Python 3.9.16 ('namph')",
   "language": "python",
   "name": "python3"
  },
  "language_info": {
   "codemirror_mode": {
    "name": "ipython",
    "version": 3
   },
   "file_extension": ".py",
   "mimetype": "text/x-python",
   "name": "python",
   "nbconvert_exporter": "python",
   "pygments_lexer": "ipython3",
   "version": "3.8.16"
  },
  "orig_nbformat": 4,
  "vscode": {
   "interpreter": {
    "hash": "f3956098809fbecdb0cd9151aa3d96b93ad3c7565181a3f5ad9a456aaf113d5a"
   }
  }
 },
 "nbformat": 4,
 "nbformat_minor": 2
}
