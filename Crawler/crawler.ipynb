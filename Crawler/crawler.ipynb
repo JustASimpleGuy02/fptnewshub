{
 "cells": [
  {
   "cell_type": "code",
   "execution_count": 1,
   "metadata": {},
   "outputs": [
    {
     "name": "stdout",
     "output_type": "stream",
     "text": [
      "https://hanoi.fpt.edu.vn/sinh-vien-dh-fpt-tich-hop-do-hoa-cong-nghe-va-truyen-thong-trong-san-pham-tot-nghiep.html\n",
      "https://hanoi.fpt.edu.vn/dai-hoc-fpt-co-3-giang-vien-dat-giai-thuong-giang-vien-cao-cap-toan-cau.html\n",
      "https://hanoi.fpt.edu.vn/nam-sinh-fpt-nam-xa-luyen-street-workout-moi-ngay-vi-truong-dau-tu-san-tap-xin-the-co-ma.html\n",
      "https://hanoi.fpt.edu.vn/hanh-trinh-buoc-ra-the-gioi-cua-nu-sinh-dai-hoc-fpt.html\n",
      "https://hanoi.fpt.edu.vn/nhin-lai-dem-nhac-ki-niem-10-nam-thanh-lap-clb-melody-fptu-lang-dong-va-cam-xuc.html\n",
      "https://hanoi.fpt.edu.vn/khai-giang-chuong-trinh-ojt-tai-nhat-ban-cua-sinh-vien-chuyen-nganh-ky-su-cau-noi-dai-hoc-fpt.html\n",
      "https://hanoi.fpt.edu.vn/do-an-cua-sinh-vien-nganh-tri-tue-nhan-tao-se-duoc-len-song-o-hoi-thao-intelligent-systems-conference-9-2023.html\n",
      "https://hanoi.fpt.edu.vn/sinh-vien-dh-fpt-tich-hop-do-hoa-cong-nghe-va-truyen-thong-trong-san-pham-tot-nghiep.html\n",
      "https://hanoi.fpt.edu.vn/dai-hoc-fpt-co-3-giang-vien-dat-giai-thuong-giang-vien-cao-cap-toan-cau.html\n",
      "https://hanoi.fpt.edu.vn/nam-sinh-fpt-nam-xa-luyen-street-workout-moi-ngay-vi-truong-dau-tu-san-tap-xin-the-co-ma.html\n",
      "https://hanoi.fpt.edu.vn/hanh-trinh-buoc-ra-the-gioi-cua-nu-sinh-dai-hoc-fpt.html\n",
      "https://hanoi.fpt.edu.vn/nhin-lai-dem-nhac-ki-niem-10-nam-thanh-lap-clb-melody-fptu-lang-dong-va-cam-xuc.html\n"
     ]
    }
   ],
   "source": [
    "from bs4 import BeautifulSoup\n",
    "import os\n",
    "from function import read_list_webs"
   ]
  },
  {
   "cell_type": "code",
   "execution_count": 2,
   "metadata": {},
   "outputs": [],
   "source": [
    "list_webs = read_list_webs(os.path.join(\".\", \"list_webs.txt\"))"
   ]
  },
  {
   "cell_type": "code",
   "execution_count": 3,
   "metadata": {},
   "outputs": [
    {
     "data": {
      "text/plain": [
       "['https://hanoi.fpt.edu.vn/360-do-hoa-lac']"
      ]
     },
     "execution_count": 3,
     "metadata": {},
     "output_type": "execute_result"
    }
   ],
   "source": [
    "list_webs"
   ]
  },
  {
   "cell_type": "code",
   "execution_count": null,
   "metadata": {},
   "outputs": [],
   "source": [
    "page = 1\n"
   ]
  }
 ],
 "metadata": {
  "kernelspec": {
   "display_name": "Python 3.9.16 ('namph')",
   "language": "python",
   "name": "python3"
  },
  "language_info": {
   "codemirror_mode": {
    "name": "ipython",
    "version": 3
   },
   "file_extension": ".py",
   "mimetype": "text/x-python",
   "name": "python",
   "nbconvert_exporter": "python",
   "pygments_lexer": "ipython3",
   "version": "3.9.16"
  },
  "orig_nbformat": 4,
  "vscode": {
   "interpreter": {
    "hash": "f3956098809fbecdb0cd9151aa3d96b93ad3c7565181a3f5ad9a456aaf113d5a"
   }
  }
 },
 "nbformat": 4,
 "nbformat_minor": 2
}
