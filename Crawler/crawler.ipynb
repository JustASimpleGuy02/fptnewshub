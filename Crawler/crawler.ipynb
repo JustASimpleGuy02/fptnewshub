{
 "cells": [
  {
   "cell_type": "code",
   "execution_count": 13,
   "metadata": {},
   "outputs": [],
   "source": [
    "from bs4 import BeautifulSoup\n",
    "import os\n",
    "import json\n",
    "import utils\n",
    "import pandas as pd"
   ]
  },
  {
   "cell_type": "code",
   "execution_count": 14,
   "metadata": {},
   "outputs": [],
   "source": [
    "if not os.path.exists(os.path.join(\".\", \"news_data.csv\")):\n",
    "    news_data = pd.DataFrame(data = {\"link\": []})\n",
    "    news_data.to_csv(os.path.join(\".\", \"news_data.csv\"))\n",
    "else:\n",
    "    news_data = pd.read_csv(os.path.join(\".\", \"news_data.csv\"), index_col=0)"
   ]
  },
  {
   "cell_type": "code",
   "execution_count": 15,
   "metadata": {},
   "outputs": [
    {
     "data": {
      "text/plain": [
       "(9130, 1)"
      ]
     },
     "execution_count": 15,
     "metadata": {},
     "output_type": "execute_result"
    }
   ],
   "source": [
    "news_data.head()\n",
    "news_data.shape"
   ]
  },
  {
   "cell_type": "code",
   "execution_count": 25,
   "metadata": {},
   "outputs": [],
   "source": [
    "list_webs = json.load(open(os.path.join(\".\", \"list_webs.json\"), encoding='UTF-8'))"
   ]
  },
  {
   "cell_type": "code",
   "execution_count": 26,
   "metadata": {},
   "outputs": [],
   "source": [
    "for web_obj in list_webs:\n",
    "    if not web_obj.get(\"status\", True):\n",
    "        if web_obj.get(\"type_crawl\", -1) == 1:\n",
    "            page = web_obj.get(\"info\").get(\"start_from_page\", 1) - 1\n",
    "            while True:\n",
    "                page += 1\n",
    "                list_link = []\n",
    "                if page == -1:\n",
    "                    link = web_obj.get(\"path\")\n",
    "                else:\n",
    "                    link = web_obj.get(\"path\") + web_obj.get(\"info\").get(\"prefix\") + str(page) + web_obj.get(\"info\").get(\"postfix\")\n",
    "                # print(link)\n",
    "                list_link = utils.crawl_list_news(link = link, \n",
    "                                                  tag = web_obj.get(\"info\").get(\"tag\", None), \n",
    "                                                  attr = web_obj.get(\"info\").get(\"attr\", None),\n",
    "                                                  domain = web_obj.get(\"info\").get(\"result_domain\", \"\"))\n",
    "                if len(list_link) == 0:\n",
    "                    break\n",
    "                else:\n",
    "                    # print(list_link)\n",
    "                    # break\n",
    "                    news_data = pd.concat([news_data, pd.DataFrame({\"link\": list_link})], ignore_index=True, axis=0)\n",
    "                    news_data.drop_duplicates(ignore_index=True)\n",
    "                    news_data.to_csv(os.path.join(\".\", \"news_data.csv\"))\n",
    "                if page == -1 or page == web_obj.get(\"info\").get(\"stop_at_page\", -2):\n",
    "                    break\n",
    "            # break\n",
    "            web_obj[\"status\"] = True\n",
    "            with open(os.path.join(\".\", \"list_webs.json\"), \"w\") as f:\n",
    "                f.write(json.dumps(list_webs, indent = 4))\n",
    "            break"
   ]
  }
 ],
 "metadata": {
  "kernelspec": {
   "display_name": "Python 3.9.16 ('namph')",
   "language": "python",
   "name": "python3"
  },
  "language_info": {
   "codemirror_mode": {
    "name": "ipython",
    "version": 3
   },
   "file_extension": ".py",
   "mimetype": "text/x-python",
   "name": "python",
   "nbconvert_exporter": "python",
   "pygments_lexer": "ipython3",
   "version": "3.9.16"
  },
  "orig_nbformat": 4,
  "vscode": {
   "interpreter": {
    "hash": "f3956098809fbecdb0cd9151aa3d96b93ad3c7565181a3f5ad9a456aaf113d5a"
   }
  }
 },
 "nbformat": 4,
 "nbformat_minor": 2
}
