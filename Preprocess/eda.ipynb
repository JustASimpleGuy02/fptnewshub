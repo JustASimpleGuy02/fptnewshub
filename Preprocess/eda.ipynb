{
 "cells": [
  {
   "cell_type": "code",
   "execution_count": 1,
   "metadata": {},
   "outputs": [],
   "source": [
    "import pandas as pd\n",
    "from glob import glob\n",
    "import matplotlib.pyplot as plt\n",
    "%matplotlib inline\n",
    "from tqdm.notebook import tqdm\n",
    "import seaborn as sns\n",
    "import sys\n",
    "sys.path.append('/home/dungmaster/Projects/Study/DBP391/Project/fptnewshub/')\n",
    "from Preprocess.clean_text import tien_xu_li\n",
    "from Utils import *"
   ]
  },
  {
   "attachments": {},
   "cell_type": "markdown",
   "metadata": {},
   "source": [
    "## Clean Data"
   ]
  },
  {
   "cell_type": "code",
   "execution_count": 2,
   "metadata": {},
   "outputs": [],
   "source": [
    "data_dir = '/home/dungmaster/Projects/Study/DBP391/Project/fptnewshub/Data'"
   ]
  },
  {
   "cell_type": "code",
   "execution_count": 3,
   "metadata": {},
   "outputs": [],
   "source": [
    "# csv_files = glob(data_dir + '/*.csv')\n",
    "# df_total = pd.DataFrame(columns=['link', 'title', 'time', 'text'])\n",
    "# weeks = []\n",
    "# mentions_by_weeks = []\n",
    "\n",
    "# # read from each csv files\n",
    "# for fpath in tqdm(sorted(csv_files)):\n",
    "#     # read and preprocess\n",
    "#     df = read_csv(fpath)\n",
    "    \n",
    "#     # concat each csv file\n",
    "#     df_total = pd.concat([df_total, df])"
   ]
  },
  {
   "cell_type": "code",
   "execution_count": 4,
   "metadata": {},
   "outputs": [
    {
     "data": {
      "text/plain": [
       "57405"
      ]
     },
     "execution_count": 4,
     "metadata": {},
     "output_type": "execute_result"
    }
   ],
   "source": [
    "df_total = read_csv('../full_news_text.csv')\n",
    "len(df_total)"
   ]
  },
  {
   "cell_type": "code",
   "execution_count": 5,
   "metadata": {},
   "outputs": [
    {
     "data": {
      "text/plain": [
       "57405"
      ]
     },
     "execution_count": 5,
     "metadata": {},
     "output_type": "execute_result"
    }
   ],
   "source": [
    "# df_total = df_total[df_total['text'].notna() & df_total['time'].notna()]\n",
    "df_total = df_total[df_total['text'].notna()]\n",
    "\n",
    "# last_idx = 100\n",
    "last_idx = len(df_total)\n",
    "df_subset = df_total[:last_idx]\n",
    "len(df_subset)"
   ]
  },
  {
   "cell_type": "code",
   "execution_count": 8,
   "metadata": {},
   "outputs": [
    {
     "data": {
      "text/plain": [
       "35231"
      ]
     },
     "execution_count": 8,
     "metadata": {},
     "output_type": "execute_result"
    }
   ],
   "source": [
    "# cleaned_df = pd.DataFrame(columns=['link', 'title', 'time', 'cleaned_text'])\n",
    "cleaned_df = read_csv('../full_cleaned_news_text.csv')\n",
    "len(cleaned_df)"
   ]
  },
  {
   "cell_type": "code",
   "execution_count": 9,
   "metadata": {},
   "outputs": [
    {
     "name": "stderr",
     "output_type": "stream",
     "text": [
      "57405it [43:32, 21.97it/s] \n"
     ]
    }
   ],
   "source": [
    "for idx, row in tqdm(df_subset.iterrows()):\n",
    "    text = row.text\n",
    "    link = row.link\n",
    "    time = row.time\n",
    "    try:\n",
    "        time = convert2datetime(row.time)\n",
    "    except:\n",
    "        time = row.time\n",
    "    if link in cleaned_df['link'].values:\n",
    "        continue\n",
    "    text = tien_xu_li(text, no_stwrds=True)\n",
    "    cleaned_df.loc[len(cleaned_df.index)] = [link, row.title, time, text]"
   ]
  },
  {
   "cell_type": "code",
   "execution_count": 10,
   "metadata": {},
   "outputs": [
    {
     "data": {
      "text/plain": [
       "55247"
      ]
     },
     "execution_count": 10,
     "metadata": {},
     "output_type": "execute_result"
    }
   ],
   "source": [
    "len(cleaned_df)"
   ]
  },
  {
   "cell_type": "code",
   "execution_count": 11,
   "metadata": {},
   "outputs": [
    {
     "data": {
      "text/html": [
       "<div>\n",
       "<style scoped>\n",
       "    .dataframe tbody tr th:only-of-type {\n",
       "        vertical-align: middle;\n",
       "    }\n",
       "\n",
       "    .dataframe tbody tr th {\n",
       "        vertical-align: top;\n",
       "    }\n",
       "\n",
       "    .dataframe thead th {\n",
       "        text-align: right;\n",
       "    }\n",
       "</style>\n",
       "<table border=\"1\" class=\"dataframe\">\n",
       "  <thead>\n",
       "    <tr style=\"text-align: right;\">\n",
       "      <th></th>\n",
       "      <th>link</th>\n",
       "      <th>title</th>\n",
       "      <th>time</th>\n",
       "      <th>cleaned_text</th>\n",
       "    </tr>\n",
       "  </thead>\n",
       "  <tbody>\n",
       "    <tr>\n",
       "      <th>0</th>\n",
       "      <td>https://hanoi.fpt.edu.vn/mua-he-ruc-ro-chuong-...</td>\n",
       "      <td>MÙA HÈ RỰC RỠ – CHƯƠNG TRÌNH TIẾNG ANH CHUYÊN ...</td>\n",
       "      <td>2023-05-07 14:31:00-05:00</td>\n",
       "      <td>hè bạn sinh_viên đại_học fpt hà_nội cơ_hội nân...</td>\n",
       "    </tr>\n",
       "    <tr>\n",
       "      <th>1</th>\n",
       "      <td>https://hanoi.fpt.edu.vn/gap-go-giang-vien-dai...</td>\n",
       "      <td>GẶP GỠ GIẢNG VIÊN ĐẠI HỌC FPT GIÀNH HUY CHƯƠNG...</td>\n",
       "      <td>2023-05-07 15:45:00-05:00</td>\n",
       "      <td>gặp_gỡ giảng_viên đại_học fpt giành huy_chương...</td>\n",
       "    </tr>\n",
       "    <tr>\n",
       "      <th>2</th>\n",
       "      <td>https://hanoi.fpt.edu.vn/fes-sportlight-6-lang...</td>\n",
       "      <td>FES-SPORTLIGHT #6 – LẮNG NGHE CHIA SẺ VÀ GIAO ...</td>\n",
       "      <td>2023-05-07 11:23:00-05:00</td>\n",
       "      <td>fes sportlight 6 lắng_nghe chia_sẻ giao_lưu nh...</td>\n",
       "    </tr>\n",
       "    <tr>\n",
       "      <th>3</th>\n",
       "      <td>https://hanoi.fpt.edu.vn/nhom-sinh-vien-dai-ho...</td>\n",
       "      <td>Nhóm sinh viên Đại học FPT phát triển sản phẩm...</td>\n",
       "      <td>2023-05-07 10:26:00-05:00</td>\n",
       "      <td>nhóm sinh_viên đại_học fpt phát_triển sản_phẩm...</td>\n",
       "    </tr>\n",
       "    <tr>\n",
       "      <th>4</th>\n",
       "      <td>https://hanoi.fpt.edu.vn/nhung-loi-the-khi-so-...</td>\n",
       "      <td>NHỮNG LỢI THẾ KHI SỞ HỮU IELTS 6.0 TRỞ LÊN TẠI...</td>\n",
       "      <td>2023-05-07 15:17:00-05:00</td>\n",
       "      <td>lợi_thế sở_hữu ielts 6 0 trở đại_học fpt mục_t...</td>\n",
       "    </tr>\n",
       "  </tbody>\n",
       "</table>\n",
       "</div>"
      ],
      "text/plain": [
       "                                                link   \n",
       "0  https://hanoi.fpt.edu.vn/mua-he-ruc-ro-chuong-...  \\\n",
       "1  https://hanoi.fpt.edu.vn/gap-go-giang-vien-dai...   \n",
       "2  https://hanoi.fpt.edu.vn/fes-sportlight-6-lang...   \n",
       "3  https://hanoi.fpt.edu.vn/nhom-sinh-vien-dai-ho...   \n",
       "4  https://hanoi.fpt.edu.vn/nhung-loi-the-khi-so-...   \n",
       "\n",
       "                                               title   \n",
       "0  MÙA HÈ RỰC RỠ – CHƯƠNG TRÌNH TIẾNG ANH CHUYÊN ...  \\\n",
       "1  GẶP GỠ GIẢNG VIÊN ĐẠI HỌC FPT GIÀNH HUY CHƯƠNG...   \n",
       "2  FES-SPORTLIGHT #6 – LẮNG NGHE CHIA SẺ VÀ GIAO ...   \n",
       "3  Nhóm sinh viên Đại học FPT phát triển sản phẩm...   \n",
       "4  NHỮNG LỢI THẾ KHI SỞ HỮU IELTS 6.0 TRỞ LÊN TẠI...   \n",
       "\n",
       "                        time   \n",
       "0  2023-05-07 14:31:00-05:00  \\\n",
       "1  2023-05-07 15:45:00-05:00   \n",
       "2  2023-05-07 11:23:00-05:00   \n",
       "3  2023-05-07 10:26:00-05:00   \n",
       "4  2023-05-07 15:17:00-05:00   \n",
       "\n",
       "                                        cleaned_text  \n",
       "0  hè bạn sinh_viên đại_học fpt hà_nội cơ_hội nân...  \n",
       "1  gặp_gỡ giảng_viên đại_học fpt giành huy_chương...  \n",
       "2  fes sportlight 6 lắng_nghe chia_sẻ giao_lưu nh...  \n",
       "3  nhóm sinh_viên đại_học fpt phát_triển sản_phẩm...  \n",
       "4  lợi_thế sở_hữu ielts 6 0 trở đại_học fpt mục_t...  "
      ]
     },
     "execution_count": 11,
     "metadata": {},
     "output_type": "execute_result"
    }
   ],
   "source": [
    "cleaned_df.head()"
   ]
  },
  {
   "cell_type": "code",
   "execution_count": 12,
   "metadata": {},
   "outputs": [],
   "source": [
    "# df_total.to_csv('../Data/full_news_text.csv', index=False)\n",
    "cleaned_df.to_csv('../full_cleaned_news_text.csv', index=False)"
   ]
  },
  {
   "attachments": {},
   "cell_type": "markdown",
   "metadata": {},
   "source": [
    "## Word Count"
   ]
  },
  {
   "cell_type": "code",
   "execution_count": 18,
   "metadata": {},
   "outputs": [
    {
     "data": {
      "text/plain": [
       "55247"
      ]
     },
     "execution_count": 18,
     "metadata": {},
     "output_type": "execute_result"
    }
   ],
   "source": [
    "cleaned_df = read_csv('../Full_Data/full_cleaned_news_text.csv')\n",
    "len(cleaned_df)"
   ]
  },
  {
   "cell_type": "code",
   "execution_count": 19,
   "metadata": {},
   "outputs": [],
   "source": [
    "def word_count(content):\n",
    "    words_list = content.split()\n",
    "    return len(content)"
   ]
  },
  {
   "cell_type": "code",
   "execution_count": 20,
   "metadata": {},
   "outputs": [],
   "source": [
    "cleaned_df['word_count'] = cleaned_df['cleaned_text'].apply(word_count)"
   ]
  },
  {
   "cell_type": "code",
   "execution_count": 21,
   "metadata": {},
   "outputs": [
    {
     "data": {
      "text/html": [
       "<div>\n",
       "<style scoped>\n",
       "    .dataframe tbody tr th:only-of-type {\n",
       "        vertical-align: middle;\n",
       "    }\n",
       "\n",
       "    .dataframe tbody tr th {\n",
       "        vertical-align: top;\n",
       "    }\n",
       "\n",
       "    .dataframe thead th {\n",
       "        text-align: right;\n",
       "    }\n",
       "</style>\n",
       "<table border=\"1\" class=\"dataframe\">\n",
       "  <thead>\n",
       "    <tr style=\"text-align: right;\">\n",
       "      <th></th>\n",
       "      <th>link</th>\n",
       "      <th>title</th>\n",
       "      <th>time</th>\n",
       "      <th>cleaned_text</th>\n",
       "      <th>word_count</th>\n",
       "    </tr>\n",
       "  </thead>\n",
       "  <tbody>\n",
       "    <tr>\n",
       "      <th>0</th>\n",
       "      <td>https://hanoi.fpt.edu.vn/mua-he-ruc-ro-chuong-...</td>\n",
       "      <td>MÙA HÈ RỰC RỠ – CHƯƠNG TRÌNH TIẾNG ANH CHUYÊN ...</td>\n",
       "      <td>2023-05-07 14:31:00-05:00</td>\n",
       "      <td>hè bạn sinh_viên đại_học fpt hà_nội cơ_hội nân...</td>\n",
       "      <td>1355</td>\n",
       "    </tr>\n",
       "    <tr>\n",
       "      <th>1</th>\n",
       "      <td>https://hanoi.fpt.edu.vn/gap-go-giang-vien-dai...</td>\n",
       "      <td>GẶP GỠ GIẢNG VIÊN ĐẠI HỌC FPT GIÀNH HUY CHƯƠNG...</td>\n",
       "      <td>2023-05-07 15:45:00-05:00</td>\n",
       "      <td>gặp_gỡ giảng_viên đại_học fpt giành huy_chương...</td>\n",
       "      <td>3234</td>\n",
       "    </tr>\n",
       "    <tr>\n",
       "      <th>2</th>\n",
       "      <td>https://hanoi.fpt.edu.vn/fes-sportlight-6-lang...</td>\n",
       "      <td>FES-SPORTLIGHT #6 – LẮNG NGHE CHIA SẺ VÀ GIAO ...</td>\n",
       "      <td>2023-05-07 11:23:00-05:00</td>\n",
       "      <td>fes sportlight 6 lắng_nghe chia_sẻ giao_lưu nh...</td>\n",
       "      <td>3748</td>\n",
       "    </tr>\n",
       "    <tr>\n",
       "      <th>3</th>\n",
       "      <td>https://hanoi.fpt.edu.vn/nhom-sinh-vien-dai-ho...</td>\n",
       "      <td>Nhóm sinh viên Đại học FPT phát triển sản phẩm...</td>\n",
       "      <td>2023-05-07 10:26:00-05:00</td>\n",
       "      <td>nhóm sinh_viên đại_học fpt phát_triển sản_phẩm...</td>\n",
       "      <td>3086</td>\n",
       "    </tr>\n",
       "    <tr>\n",
       "      <th>4</th>\n",
       "      <td>https://hanoi.fpt.edu.vn/nhung-loi-the-khi-so-...</td>\n",
       "      <td>NHỮNG LỢI THẾ KHI SỞ HỮU IELTS 6.0 TRỞ LÊN TẠI...</td>\n",
       "      <td>2023-05-07 15:17:00-05:00</td>\n",
       "      <td>lợi_thế sở_hữu ielts 6 0 trở đại_học fpt mục_t...</td>\n",
       "      <td>2551</td>\n",
       "    </tr>\n",
       "  </tbody>\n",
       "</table>\n",
       "</div>"
      ],
      "text/plain": [
       "                                                link   \n",
       "0  https://hanoi.fpt.edu.vn/mua-he-ruc-ro-chuong-...  \\\n",
       "1  https://hanoi.fpt.edu.vn/gap-go-giang-vien-dai...   \n",
       "2  https://hanoi.fpt.edu.vn/fes-sportlight-6-lang...   \n",
       "3  https://hanoi.fpt.edu.vn/nhom-sinh-vien-dai-ho...   \n",
       "4  https://hanoi.fpt.edu.vn/nhung-loi-the-khi-so-...   \n",
       "\n",
       "                                               title   \n",
       "0  MÙA HÈ RỰC RỠ – CHƯƠNG TRÌNH TIẾNG ANH CHUYÊN ...  \\\n",
       "1  GẶP GỠ GIẢNG VIÊN ĐẠI HỌC FPT GIÀNH HUY CHƯƠNG...   \n",
       "2  FES-SPORTLIGHT #6 – LẮNG NGHE CHIA SẺ VÀ GIAO ...   \n",
       "3  Nhóm sinh viên Đại học FPT phát triển sản phẩm...   \n",
       "4  NHỮNG LỢI THẾ KHI SỞ HỮU IELTS 6.0 TRỞ LÊN TẠI...   \n",
       "\n",
       "                        time   \n",
       "0  2023-05-07 14:31:00-05:00  \\\n",
       "1  2023-05-07 15:45:00-05:00   \n",
       "2  2023-05-07 11:23:00-05:00   \n",
       "3  2023-05-07 10:26:00-05:00   \n",
       "4  2023-05-07 15:17:00-05:00   \n",
       "\n",
       "                                        cleaned_text  word_count  \n",
       "0  hè bạn sinh_viên đại_học fpt hà_nội cơ_hội nân...        1355  \n",
       "1  gặp_gỡ giảng_viên đại_học fpt giành huy_chương...        3234  \n",
       "2  fes sportlight 6 lắng_nghe chia_sẻ giao_lưu nh...        3748  \n",
       "3  nhóm sinh_viên đại_học fpt phát_triển sản_phẩm...        3086  \n",
       "4  lợi_thế sở_hữu ielts 6 0 trở đại_học fpt mục_t...        2551  "
      ]
     },
     "execution_count": 21,
     "metadata": {},
     "output_type": "execute_result"
    }
   ],
   "source": [
    "cleaned_df.head()"
   ]
  },
  {
   "cell_type": "code",
   "execution_count": 23,
   "metadata": {},
   "outputs": [
    {
     "data": {
      "image/png": "[encoded data removed]",
      "text/plain": [
       "<Figure size 640x480 with 1 Axes>"
      ]
     },
     "metadata": {},
     "output_type": "display_data"
    }
   ],
   "source": [
    "sns.histplot(cleaned_df['word_count'])\n",
    "plt.title(\"Articles' Content Length\")\n",
    "plt.savefig('../Images/word_count.png')"
   ]
  },
  {
   "attachments": {},
   "cell_type": "markdown",
   "metadata": {},
   "source": [
    "## Ngrams"
   ]
  },
  {
   "cell_type": "code",
   "execution_count": 2,
   "metadata": {},
   "outputs": [],
   "source": [
    "from collections import defaultdict"
   ]
  },
  {
   "cell_type": "code",
   "execution_count": 3,
   "metadata": {},
   "outputs": [],
   "source": [
    "stopwords = open('../Preprocess/stopword.txt', 'r')\n",
    "stopwords_list = stopwords.read().split('\\n')"
   ]
  },
  {
   "cell_type": "code",
   "execution_count": 4,
   "metadata": {},
   "outputs": [],
   "source": [
    "def generate_ngrams(text, n_gram=1):\n",
    "    token = [token for token in text.lower().split(' ') if token != '' if token not in stopwords_list]\n",
    "    ngrams = zip(*[token[i:] for i in range(n_gram)])\n",
    "    return [' '.join(ngram) for ngram in ngrams]\n",
    "\n",
    "def plot_ngrams(n=1, N=10):\n",
    "    content_unigrams = defaultdict(int)\n",
    "\n",
    "    for text in tqdm(cleaned_df['cleaned_text']):\n",
    "        for word in generate_ngrams(text, n):\n",
    "            content_unigrams[word] += 1\n",
    "            \n",
    "    df_content_unigrams = pd.DataFrame(sorted(content_unigrams.items(), key=lambda x: x[1])[::-1])\n",
    "    \n",
    "    sns.barplot(y=df_content_unigrams[0].values[:N], x=df_content_unigrams[1].values[:N])\n",
    "    \n",
    "    return df_content_unigrams"
   ]
  },
  {
   "cell_type": "code",
   "execution_count": 5,
   "metadata": {},
   "outputs": [
    {
     "data": {
      "text/html": [
       "<div>\n",
       "<style scoped>\n",
       "    .dataframe tbody tr th:only-of-type {\n",
       "        vertical-align: middle;\n",
       "    }\n",
       "\n",
       "    .dataframe tbody tr th {\n",
       "        vertical-align: top;\n",
       "    }\n",
       "\n",
       "    .dataframe thead th {\n",
       "        text-align: right;\n",
       "    }\n",
       "</style>\n",
       "<table border=\"1\" class=\"dataframe\">\n",
       "  <thead>\n",
       "    <tr style=\"text-align: right;\">\n",
       "      <th></th>\n",
       "      <th>0</th>\n",
       "      <th>1</th>\n",
       "    </tr>\n",
       "  </thead>\n",
       "  <tbody>\n",
       "    <tr>\n",
       "      <th>0</th>\n",
       "      <td>trong</td>\n",
       "      <td>397389</td>\n",
       "    </tr>\n",
       "    <tr>\n",
       "      <th>1</th>\n",
       "      <td>fpt</td>\n",
       "      <td>329522</td>\n",
       "    </tr>\n",
       "    <tr>\n",
       "      <th>2</th>\n",
       "      <td>sinh_viên</td>\n",
       "      <td>256741</td>\n",
       "    </tr>\n",
       "    <tr>\n",
       "      <th>3</th>\n",
       "      <td>một</td>\n",
       "      <td>216668</td>\n",
       "    </tr>\n",
       "    <tr>\n",
       "      <th>4</th>\n",
       "      <td>trường</td>\n",
       "      <td>211996</td>\n",
       "    </tr>\n",
       "    <tr>\n",
       "      <th>...</th>\n",
       "      <td>...</td>\n",
       "      <td>...</td>\n",
       "    </tr>\n",
       "    <tr>\n",
       "      <th>130556</th>\n",
       "      <td>seai</td>\n",
       "      <td>1</td>\n",
       "    </tr>\n",
       "    <tr>\n",
       "      <th>130557</th>\n",
       "      <td>iccci</td>\n",
       "      <td>1</td>\n",
       "    </tr>\n",
       "    <tr>\n",
       "      <th>130558</th>\n",
       "      <td>shanghaitech</td>\n",
       "      <td>1</td>\n",
       "    </tr>\n",
       "    <tr>\n",
       "      <th>130559</th>\n",
       "      <td>yên_tâm_sự</td>\n",
       "      <td>1</td>\n",
       "    </tr>\n",
       "    <tr>\n",
       "      <th>130560</th>\n",
       "      <td>trìnhfes</td>\n",
       "      <td>1</td>\n",
       "    </tr>\n",
       "  </tbody>\n",
       "</table>\n",
       "<p>130561 rows × 2 columns</p>\n",
       "</div>"
      ],
      "text/plain": [
       "                   0       1\n",
       "0              trong  397389\n",
       "1                fpt  329522\n",
       "2          sinh_viên  256741\n",
       "3                một  216668\n",
       "4             trường  211996\n",
       "...              ...     ...\n",
       "130556          seai       1\n",
       "130557         iccci       1\n",
       "130558  shanghaitech       1\n",
       "130559    yên_tâm_sự       1\n",
       "130560      trìnhfes       1\n",
       "\n",
       "[130561 rows x 2 columns]"
      ]
     },
     "execution_count": 5,
     "metadata": {},
     "output_type": "execute_result"
    }
   ],
   "source": [
    "df_content_unigrams = read_csv('../Ngrams_CSV/df_content_unigrams.csv')\n",
    "df_content_unigrams"
   ]
  },
  {
   "cell_type": "code",
   "execution_count": 6,
   "metadata": {},
   "outputs": [
    {
     "data": {
      "image/png": "[encoded data removed]",
      "text/plain": [
       "<Figure size 640x480 with 1 Axes>"
      ]
     },
     "metadata": {},
     "output_type": "display_data"
    }
   ],
   "source": [
    "N = 10\n",
    "# df_content_unigrams = plot_ngrams(n=1, N=N)\n",
    "df_content_unigrams = read_csv('../Ngrams_CSV/df_content_unigrams.csv')\n",
    "sns.barplot(y=df_content_unigrams['1'][:N], x=df_content_unigrams['0'][:N])\n",
    "plt.title(f\"{N} most frequent unigrams\")\n",
    "plt.xlabel(\"Unigram\")\n",
    "plt.ylabel(\"Count\")\n",
    "plt.xticks(rotation = -30);\n",
    "plt.savefig('../Images/unigrams.png')\n",
    "# df_content_unigrams.to_csv('../Ngrams_CSV/df_content_unigrams.csv', index=None)"
   ]
  },
  {
   "cell_type": "code",
   "execution_count": 7,
   "metadata": {},
   "outputs": [
    {
     "data": {
      "image/png": "[encoded data removed]",
      "text/plain": [
       "<Figure size 640x480 with 1 Axes>"
      ]
     },
     "metadata": {},
     "output_type": "display_data"
    }
   ],
   "source": [
    "# df_content_bigrams = plot_ngrams(n=2, N=N)\n",
    "df_content_bigrams = read_csv('../Ngrams_CSV/df_content_bigrams.csv')\n",
    "# sns.barplot(y=['\\n'.join(w.split(' ')) for w in df_content_bigrams['0'][:N]], \n",
    "#             x=df_content_bigrams['1'][:N])\n",
    "sns.barplot(y=df_content_bigrams['0'][:N], \n",
    "            x=df_content_bigrams['1'][:N])\n",
    "plt.title(f\"{N} most frequent bigrams\")\n",
    "plt.ylabel(\"Bigram\")\n",
    "plt.xlabel(\"Count\")\n",
    "# plt.yticks(rotation = -90);\n",
    "plt.savefig('../Images/bigrams.png', bbox_inches='tight')\n",
    "# df_content_bigrams.to_csv('../Ngrams_CSV/df_content_bigrams.csv')"
   ]
  },
  {
   "cell_type": "code",
   "execution_count": 9,
   "metadata": {},
   "outputs": [
    {
     "data": {
      "image/png": "[encoded data removed]",
      "text/plain": [
       "<Figure size 640x480 with 1 Axes>"
      ]
     },
     "metadata": {},
     "output_type": "display_data"
    }
   ],
   "source": [
    "# df_content_trigrams = plot_ngrams(n=3, N=N)\n",
    "df_content_trigrams = read_csv('../Ngrams_CSV/df_content_trigrams.csv')\n",
    "# sns.barplot(y=['\\n'.join(w.split(' ')) for w in df_content_trigrams['0'][:N]], \n",
    "#             x=df_content_trigrams['1'][:N])\n",
    "sns.barplot(y=df_content_trigrams['0'][:N], \n",
    "            x=df_content_trigrams['1'][:N])\n",
    "plt.title(f\"{N} most frequent trigrams\")\n",
    "plt.ylabel(\"Trigram\")\n",
    "plt.xlabel(\"Count\")\n",
    "# plt.yticks(rotation = -90);\n",
    "plt.savefig('../Images/trigram.png', bbox_inches='tight')\n",
    "# df_content_trigrams.to_csv('../Ngrams_CSV/df_content_trigrams.csv')"
   ]
  },
  {
   "attachments": {},
   "cell_type": "markdown",
   "metadata": {},
   "source": [
    "## Mentions Statistic through Time"
   ]
  },
  {
   "cell_type": "code",
   "execution_count": 8,
   "metadata": {},
   "outputs": [
    {
     "data": {
      "application/vnd.jupyter.widget-view+json": {
       "model_id": "ad26ba6dd8af48369dfce19167a43f65",
       "version_major": 2,
       "version_minor": 0
      },
      "text/plain": [
       "  0%|          | 0/917 [00:00<?, ?it/s]"
      ]
     },
     "metadata": {},
     "output_type": "display_data"
    }
   ],
   "source": [
    "data_dir = \"../Mentions_By_Week\"\n",
    "year2mentions = {}\n",
    "\n",
    "\n",
    "\n",
    "for fpath in tqdm(sorted(glob(osp.join(data_dir, \"*.csv\")))):\n",
    "    week = osp.basename(fpath).split('.')[0]\n",
    "    year = week[:4]\n",
    "    year2mentions[year] = year2mentions.get(year, 0) + len(read_csv(fpath))"
   ]
  },
  {
   "cell_type": "code",
   "execution_count": 16,
   "metadata": {},
   "outputs": [
    {
     "data": {
      "image/png": "[encoded data removed]",
      "text/plain": [
       "<Figure size 640x480 with 1 Axes>"
      ]
     },
     "metadata": {},
     "output_type": "display_data"
    }
   ],
   "source": [
    "lists = sorted(year2mentions.items()) # sorted by key, return a list of tuples\n",
    "\n",
    "years, mentions = zip(*lists) # unpack a list of pairs into two tuples\n",
    "\n",
    "# plt.plot(years, mentions)\n",
    "plt.bar(years, mentions, )\n",
    "plt.xticks(rotation = -45);\n",
    "plt.title(\"FPT University's #Mentions by Year\")\n",
    "plt.savefig(\"../Images/mentions.png\")"
   ]
  },
  {
   "cell_type": "code",
   "execution_count": 57,
   "metadata": {},
   "outputs": [
    {
     "data": {
      "text/plain": [
       "1427"
      ]
     },
     "execution_count": 57,
     "metadata": {},
     "output_type": "execute_result"
    }
   ],
   "source": [
    "df = pd.read_csv(\"../Latest_Normalized_Data/2023-06-05_2023-06-11.csv\")\n",
    "len(df)"
   ]
  },
  {
   "cell_type": "code",
   "execution_count": 58,
   "metadata": {},
   "outputs": [
    {
     "data": {
      "text/plain": [
       "1185"
      ]
     },
     "execution_count": 58,
     "metadata": {},
     "output_type": "execute_result"
    }
   ],
   "source": [
    "df = df.drop_duplicates(subset=['link'])\n",
    "len(df)"
   ]
  },
  {
   "cell_type": "code",
   "execution_count": 59,
   "metadata": {},
   "outputs": [
    {
     "data": {
      "text/html": [
       "<div>\n",
       "<style scoped>\n",
       "    .dataframe tbody tr th:only-of-type {\n",
       "        vertical-align: middle;\n",
       "    }\n",
       "\n",
       "    .dataframe tbody tr th {\n",
       "        vertical-align: top;\n",
       "    }\n",
       "\n",
       "    .dataframe thead th {\n",
       "        text-align: right;\n",
       "    }\n",
       "</style>\n",
       "<table border=\"1\" class=\"dataframe\">\n",
       "  <thead>\n",
       "    <tr style=\"text-align: right;\">\n",
       "      <th></th>\n",
       "      <th>link</th>\n",
       "      <th>title</th>\n",
       "      <th>time</th>\n",
       "      <th>time_parsed</th>\n",
       "      <th>text</th>\n",
       "      <th>sentiment</th>\n",
       "    </tr>\n",
       "  </thead>\n",
       "  <tbody>\n",
       "    <tr>\n",
       "      <th>0</th>\n",
       "      <td>https://www.lamchame.com/forum/threads/thanh-l...</td>\n",
       "      <td>Toàn quốc: Thanh lý áo mưa  Tumi 1 mũ</td>\n",
       "      <td>2023-06-11</td>\n",
       "      <td>2023-06-11 00:00:00+07:00</td>\n",
       "      <td>Toàn quốc: Thanh lý áo mưa Tumi 1 mũ\\nEm có ít...</td>\n",
       "      <td>NaN</td>\n",
       "    </tr>\n",
       "    <tr>\n",
       "      <th>1</th>\n",
       "      <td>https://www.lamchame.com/forum/threads/chuong-...</td>\n",
       "      <td>Toàn quốc: Chương trình huấn luyện đặc biệt  \"...</td>\n",
       "      <td>2023-06-11</td>\n",
       "      <td>2023-06-11 00:00:00+07:00</td>\n",
       "      <td>Chương trình huấn luyện đặc biệt \"CỬA SỔ VÀNG\"...</td>\n",
       "      <td>NaN</td>\n",
       "    </tr>\n",
       "    <tr>\n",
       "      <th>2</th>\n",
       "      <td>https://tapchitoaan.vn/bai-viet/thoi-su/doan-t...</td>\n",
       "      <td>NaN</td>\n",
       "      <td>2023-06-11</td>\n",
       "      <td>2023-06-11 00:00:00+07:00</td>\n",
       "      <td>Tới dự có ông Nguyễn Văn Tiến, Bí thư Đảng ủy,...</td>\n",
       "      <td>NaN</td>\n",
       "    </tr>\n",
       "    <tr>\n",
       "      <th>3</th>\n",
       "      <td>https://www.lamchame.com/forum/threads/ao-khoa...</td>\n",
       "      <td>Toàn quốc: Áo khoác , khăn , găng tay da cao c...</td>\n",
       "      <td>2023-06-11</td>\n",
       "      <td>2023-06-11 00:00:00+07:00</td>\n",
       "      <td>Lời ngỏ: Thời gian vừa qua gia đình chúng tôi ...</td>\n",
       "      <td>NaN</td>\n",
       "    </tr>\n",
       "    <tr>\n",
       "      <th>4</th>\n",
       "      <td>https://www.lamchame.com/forum/threads/f-agrex...</td>\n",
       "      <td>Hà Nội: F-AGREX Toàn Cầu tuyển dụng</td>\n",
       "      <td>2023-06-11</td>\n",
       "      <td>2023-06-11 00:00:00+07:00</td>\n",
       "      <td>Hà Nội: F-AGREX Toàn Cầu tuyển dụng\\nTrong đợt...</td>\n",
       "      <td>NaN</td>\n",
       "    </tr>\n",
       "  </tbody>\n",
       "</table>\n",
       "</div>"
      ],
      "text/plain": [
       "                                                link   \n",
       "0  https://www.lamchame.com/forum/threads/thanh-l...  \\\n",
       "1  https://www.lamchame.com/forum/threads/chuong-...   \n",
       "2  https://tapchitoaan.vn/bai-viet/thoi-su/doan-t...   \n",
       "3  https://www.lamchame.com/forum/threads/ao-khoa...   \n",
       "4  https://www.lamchame.com/forum/threads/f-agrex...   \n",
       "\n",
       "                                               title        time   \n",
       "0              Toàn quốc: Thanh lý áo mưa  Tumi 1 mũ  2023-06-11  \\\n",
       "1  Toàn quốc: Chương trình huấn luyện đặc biệt  \"...  2023-06-11   \n",
       "2                                                NaN  2023-06-11   \n",
       "3  Toàn quốc: Áo khoác , khăn , găng tay da cao c...  2023-06-11   \n",
       "4                Hà Nội: F-AGREX Toàn Cầu tuyển dụng  2023-06-11   \n",
       "\n",
       "                 time_parsed   \n",
       "0  2023-06-11 00:00:00+07:00  \\\n",
       "1  2023-06-11 00:00:00+07:00   \n",
       "2  2023-06-11 00:00:00+07:00   \n",
       "3  2023-06-11 00:00:00+07:00   \n",
       "4  2023-06-11 00:00:00+07:00   \n",
       "\n",
       "                                                text  sentiment  \n",
       "0  Toàn quốc: Thanh lý áo mưa Tumi 1 mũ\\nEm có ít...        NaN  \n",
       "1  Chương trình huấn luyện đặc biệt \"CỬA SỔ VÀNG\"...        NaN  \n",
       "2  Tới dự có ông Nguyễn Văn Tiến, Bí thư Đảng ủy,...        NaN  \n",
       "3  Lời ngỏ: Thời gian vừa qua gia đình chúng tôi ...        NaN  \n",
       "4  Hà Nội: F-AGREX Toàn Cầu tuyển dụng\\nTrong đợt...        NaN  "
      ]
     },
     "execution_count": 59,
     "metadata": {},
     "output_type": "execute_result"
    }
   ],
   "source": [
    "df.head()"
   ]
  },
  {
   "cell_type": "code",
   "execution_count": 60,
   "metadata": {},
   "outputs": [
    {
     "data": {
      "text/plain": [
       "1185"
      ]
     },
     "execution_count": 60,
     "metadata": {},
     "output_type": "execute_result"
    }
   ],
   "source": [
    "len(df)"
   ]
  },
  {
   "cell_type": "code",
   "execution_count": 61,
   "metadata": {},
   "outputs": [
    {
     "data": {
      "text/plain": [
       "link              1\n",
       "title           244\n",
       "time              1\n",
       "time_parsed       1\n",
       "text            257\n",
       "sentiment      1185\n",
       "dtype: int64"
      ]
     },
     "execution_count": 61,
     "metadata": {},
     "output_type": "execute_result"
    }
   ],
   "source": [
    "df.isna().sum()"
   ]
  },
  {
   "cell_type": "code",
   "execution_count": 36,
   "metadata": {},
   "outputs": [
    {
     "data": {
      "text/html": [
       "<div>\n",
       "<style scoped>\n",
       "    .dataframe tbody tr th:only-of-type {\n",
       "        vertical-align: middle;\n",
       "    }\n",
       "\n",
       "    .dataframe tbody tr th {\n",
       "        vertical-align: top;\n",
       "    }\n",
       "\n",
       "    .dataframe thead th {\n",
       "        text-align: right;\n",
       "    }\n",
       "</style>\n",
       "<table border=\"1\" class=\"dataframe\">\n",
       "  <thead>\n",
       "    <tr style=\"text-align: right;\">\n",
       "      <th></th>\n",
       "      <th>Title</th>\n",
       "      <th>Text</th>\n",
       "      <th>Negative</th>\n",
       "    </tr>\n",
       "  </thead>\n",
       "  <tbody>\n",
       "    <tr>\n",
       "      <th>2</th>\n",
       "      <td>NaN</td>\n",
       "      <td>Tới dự có ông Nguyễn Văn Tiến, Bí thư Đảng ủy,...</td>\n",
       "      <td>NaN</td>\n",
       "    </tr>\n",
       "    <tr>\n",
       "      <th>6</th>\n",
       "      <td>NaN</td>\n",
       "      <td>NaN</td>\n",
       "      <td>NaN</td>\n",
       "    </tr>\n",
       "    <tr>\n",
       "      <th>12</th>\n",
       "      <td>NaN</td>\n",
       "      <td>NaN</td>\n",
       "      <td>NaN</td>\n",
       "    </tr>\n",
       "    <tr>\n",
       "      <th>18</th>\n",
       "      <td>NaN</td>\n",
       "      <td>NaN</td>\n",
       "      <td>NaN</td>\n",
       "    </tr>\n",
       "    <tr>\n",
       "      <th>20</th>\n",
       "      <td>NaN</td>\n",
       "      <td>NaN</td>\n",
       "      <td>NaN</td>\n",
       "    </tr>\n",
       "    <tr>\n",
       "      <th>...</th>\n",
       "      <td>...</td>\n",
       "      <td>...</td>\n",
       "      <td>...</td>\n",
       "    </tr>\n",
       "    <tr>\n",
       "      <th>1414</th>\n",
       "      <td>NaN</td>\n",
       "      <td>Ngày 24/7/2020 Sở Tài nguyên và Môi trường phá...</td>\n",
       "      <td>NaN</td>\n",
       "    </tr>\n",
       "    <tr>\n",
       "      <th>1415</th>\n",
       "      <td>NaN</td>\n",
       "      <td>Giới thiệu\\nBrands Vietnam là Cộng đồng Market...</td>\n",
       "      <td>NaN</td>\n",
       "    </tr>\n",
       "    <tr>\n",
       "      <th>1416</th>\n",
       "      <td>NaN</td>\n",
       "      <td>Phổ thông Cao đẳng FPT Polytechnic - Cần Thơ đ...</td>\n",
       "      <td>NaN</td>\n",
       "    </tr>\n",
       "    <tr>\n",
       "      <th>1420</th>\n",
       "      <td>NaN</td>\n",
       "      <td>Cấp 3 là bậc học vô cùng quan trọng, góp phần ...</td>\n",
       "      <td>NaN</td>\n",
       "    </tr>\n",
       "    <tr>\n",
       "      <th>1422</th>\n",
       "      <td>NaN</td>\n",
       "      <td>NaN</td>\n",
       "      <td>NaN</td>\n",
       "    </tr>\n",
       "  </tbody>\n",
       "</table>\n",
       "<p>486 rows × 3 columns</p>\n",
       "</div>"
      ],
      "text/plain": [
       "     Title                                               Text  Negative\n",
       "2      NaN  Tới dự có ông Nguyễn Văn Tiến, Bí thư Đảng ủy,...       NaN\n",
       "6      NaN                                                NaN       NaN\n",
       "12     NaN                                                NaN       NaN\n",
       "18     NaN                                                NaN       NaN\n",
       "20     NaN                                                NaN       NaN\n",
       "...    ...                                                ...       ...\n",
       "1414   NaN  Ngày 24/7/2020 Sở Tài nguyên và Môi trường phá...       NaN\n",
       "1415   NaN  Giới thiệu\\nBrands Vietnam là Cộng đồng Market...       NaN\n",
       "1416   NaN  Phổ thông Cao đẳng FPT Polytechnic - Cần Thơ đ...       NaN\n",
       "1420   NaN  Cấp 3 là bậc học vô cùng quan trọng, góp phần ...       NaN\n",
       "1422   NaN                                                NaN       NaN\n",
       "\n",
       "[486 rows x 3 columns]"
      ]
     },
     "execution_count": 36,
     "metadata": {},
     "output_type": "execute_result"
    }
   ],
   "source": [
    "df[df.Title.isna()]"
   ]
  },
  {
   "cell_type": "code",
   "execution_count": 40,
   "metadata": {},
   "outputs": [
    {
     "data": {
      "text/plain": [
       "Title        486\n",
       "Text         499\n",
       "Negative    1427\n",
       "dtype: int64"
      ]
     },
     "execution_count": 40,
     "metadata": {},
     "output_type": "execute_result"
    }
   ],
   "source": [
    "df = read_csv(\"../result.csv\")\n",
    "df.isna().sum()"
   ]
  },
  {
   "cell_type": "code",
   "execution_count": 41,
   "metadata": {},
   "outputs": [
    {
     "data": {
      "text/plain": [
       "1427"
      ]
     },
     "execution_count": 41,
     "metadata": {},
     "output_type": "execute_result"
    }
   ],
   "source": [
    "len(df)"
   ]
  },
  {
   "cell_type": "code",
   "execution_count": null,
   "metadata": {},
   "outputs": [],
   "source": []
  }
 ],
 "metadata": {
  "kernelspec": {
   "display_name": "nlp",
   "language": "python",
   "name": "python3"
  },
  "language_info": {
   "codemirror_mode": {
    "name": "ipython",
    "version": 3
   },
   "file_extension": ".py",
   "mimetype": "text/x-python",
   "name": "python",
   "nbconvert_exporter": "python",
   "pygments_lexer": "ipython3",
   "version": "3.8.16"
  },
  "orig_nbformat": 4
 },
 "nbformat": 4,
 "nbformat_minor": 2
}
